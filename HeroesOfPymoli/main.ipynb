{
 "metadata": {
  "language_info": {
   "codemirror_mode": {
    "name": "ipython",
    "version": 3
   },
   "file_extension": ".py",
   "mimetype": "text/x-python",
   "name": "python",
   "nbconvert_exporter": "python",
   "pygments_lexer": "ipython3",
   "version": "3.8.5"
  },
  "orig_nbformat": 2,
  "kernelspec": {
   "name": "python385jvsc74a57bd0b75be9ad71603c40476c6c8216298ace4da278de65ecdbf5da31753ceef4d599",
   "display_name": "Python 3.8.5 64-bit ('base': conda)"
  }
 },
 "nbformat": 4,
 "nbformat_minor": 2,
 "cells": [
  {
   "cell_type": "code",
   "execution_count": 2210,
   "metadata": {},
   "outputs": [],
   "source": [
    "#create dependencies\n",
    "import pandas as pd\n",
    "import csv"
   ]
  },
  {
   "cell_type": "code",
   "execution_count": 2211,
   "metadata": {},
   "outputs": [],
   "source": [
    "#read csv file\n",
    "file_to_load_df = \"purchase_data.csv\"\n",
    "summary_analysis_df = []\n",
    "unique_items_list = 0\n",
    "gendered_purchase_analysis_df = []"
   ]
  },
  {
   "cell_type": "code",
   "execution_count": 2212,
   "metadata": {},
   "outputs": [
    {
     "output_type": "execute_result",
     "data": {
      "text/plain": [
       "   Purchase ID             SN  Age Gender  Item ID  \\\n",
       "0            0        Lisim78   20   Male      108   \n",
       "1            1    Lisovynya38   40   Male      143   \n",
       "2            2     Ithergue48   24   Male       92   \n",
       "3            3  Chamassasya86   24   Male      100   \n",
       "4            4      Iskosia90   23   Male      131   \n",
       "\n",
       "                                   Item Name  Price  \n",
       "0  Extraction, Quickblade Of Trembling Hands   3.53  \n",
       "1                          Frenzied Scimitar   1.56  \n",
       "2                               Final Critic   4.88  \n",
       "3                                Blindscythe   3.27  \n",
       "4                                       Fury   1.44  "
      ],
      "text/html": "<div>\n<style scoped>\n    .dataframe tbody tr th:only-of-type {\n        vertical-align: middle;\n    }\n\n    .dataframe tbody tr th {\n        vertical-align: top;\n    }\n\n    .dataframe thead th {\n        text-align: right;\n    }\n</style>\n<table border=\"1\" class=\"dataframe\">\n  <thead>\n    <tr style=\"text-align: right;\">\n      <th></th>\n      <th>Purchase ID</th>\n      <th>SN</th>\n      <th>Age</th>\n      <th>Gender</th>\n      <th>Item ID</th>\n      <th>Item Name</th>\n      <th>Price</th>\n    </tr>\n  </thead>\n  <tbody>\n    <tr>\n      <th>0</th>\n      <td>0</td>\n      <td>Lisim78</td>\n      <td>20</td>\n      <td>Male</td>\n      <td>108</td>\n      <td>Extraction, Quickblade Of Trembling Hands</td>\n      <td>3.53</td>\n    </tr>\n    <tr>\n      <th>1</th>\n      <td>1</td>\n      <td>Lisovynya38</td>\n      <td>40</td>\n      <td>Male</td>\n      <td>143</td>\n      <td>Frenzied Scimitar</td>\n      <td>1.56</td>\n    </tr>\n    <tr>\n      <th>2</th>\n      <td>2</td>\n      <td>Ithergue48</td>\n      <td>24</td>\n      <td>Male</td>\n      <td>92</td>\n      <td>Final Critic</td>\n      <td>4.88</td>\n    </tr>\n    <tr>\n      <th>3</th>\n      <td>3</td>\n      <td>Chamassasya86</td>\n      <td>24</td>\n      <td>Male</td>\n      <td>100</td>\n      <td>Blindscythe</td>\n      <td>3.27</td>\n    </tr>\n    <tr>\n      <th>4</th>\n      <td>4</td>\n      <td>Iskosia90</td>\n      <td>23</td>\n      <td>Male</td>\n      <td>131</td>\n      <td>Fury</td>\n      <td>1.44</td>\n    </tr>\n  </tbody>\n</table>\n</div>"
     },
     "metadata": {},
     "execution_count": 2212
    }
   ],
   "source": [
    "\n",
    "# Read Purchasing File and store into Pandas data frame\n",
    "csv_path = \"/Users/bitty/pandas-challenge/pandas-challenge/Resources/purchase_data.csv\"\n",
    "purchase_data_df = pd.read_csv(csv_path)\n",
    "purchase_data_df.head()"
   ]
  },
  {
   "cell_type": "code",
   "execution_count": 2213,
   "metadata": {},
   "outputs": [
    {
     "output_type": "execute_result",
     "data": {
      "text/plain": [
       "576"
      ]
     },
     "metadata": {},
     "execution_count": 2213
    }
   ],
   "source": [
    "all_players = purchase_data_df['SN'].nunique()\n",
    "all_players\n"
   ]
  },
  {
   "cell_type": "code",
   "execution_count": 2214,
   "metadata": {},
   "outputs": [
    {
     "output_type": "execute_result",
     "data": {
      "text/plain": [
       "Final Critic                                    13\n",
       "Oathbreaker, Last Hope of the Breaking Storm    12\n",
       "Extraction, Quickblade Of Trembling Hands        9\n",
       "Nirvana                                          9\n",
       "Fiery Glass Crusader                             9\n",
       "                                                ..\n",
       "Undead Crusader                                  1\n",
       "Endbringer                                       1\n",
       "Betrayer                                         1\n",
       "Gladiator's Glaive                               1\n",
       "Celeste                                          1\n",
       "Name: Item Name, Length: 179, dtype: int64"
      ]
     },
     "metadata": {},
     "execution_count": 2214
    }
   ],
   "source": [
    "#calculate purchase analysis & save to a summary_analysis_df\n",
    "    #number of unique items count\n",
    "unique_items_num = purchase_data_df[\"Item Name\"].value_counts()\n",
    "unique_items_num\n",
    "    "
   ]
  },
  {
   "cell_type": "code",
   "execution_count": 2215,
   "metadata": {},
   "outputs": [
    {
     "output_type": "stream",
     "name": "stdout",
     "text": [
      "179\n"
     ]
    }
   ],
   "source": [
    "unique_items = purchase_data_df[\"Item Name\"].unique()\n",
    "print(len(unique_items))"
   ]
  },
  {
   "cell_type": "code",
   "execution_count": 2216,
   "metadata": {},
   "outputs": [
    {
     "output_type": "stream",
     "name": "stdout",
     "text": [
      "3.05\n"
     ]
    }
   ],
   "source": [
    "#average price of items\n",
    "average_price_summary = purchase_data_df[\"Price\"]\n",
    "average_price_summary = purchase_data_df[\"Price\"].sum()\n",
    "average_price_summary = (average_price_summary / total_purchases).round(2)\n",
    "print(average_price_summary)\n"
   ]
  },
  {
   "cell_type": "code",
   "execution_count": 2217,
   "metadata": {},
   "outputs": [
    {
     "output_type": "execute_result",
     "data": {
      "text/plain": [
       "780"
      ]
     },
     "metadata": {},
     "execution_count": 2217
    }
   ],
   "source": [
    "    #total number of purchases\n",
    "total_purchases = purchase_data_df[\"Purchase ID\"].count()\n",
    "total_purchases\n",
    "   "
   ]
  },
  {
   "cell_type": "code",
   "execution_count": 2218,
   "metadata": {},
   "outputs": [
    {
     "output_type": "execute_result",
     "data": {
      "text/plain": [
       "2379.77"
      ]
     },
     "metadata": {},
     "execution_count": 2218
    }
   ],
   "source": [
    " #total revenue\n",
    "total_revenue = purchase_data_df[\"Price\"].sum()\n",
    "total_revenue\n"
   ]
  },
  {
   "cell_type": "code",
   "execution_count": 2219,
   "metadata": {},
   "outputs": [
    {
     "output_type": "stream",
     "name": "stdout",
     "text": [
      "   Total Numbers of Players  Unique Item Counts  Average  Total Purchases  \\\n0                       576                 179     3.05              780   \n\n   Total Revenue  \n0        2379.77  \n"
     ]
    }
   ],
   "source": [
    "#summary analysis table\n",
    "summary_analysis_df = pd.DataFrame({\"Total Numbers of Players\": all_players, \"Unique Item Counts\": len(unique_items), \"Average\": average_price_summary, \"Total Purchases\": total_purchases, \"Total Revenue\": total_revenue}, index=[0])\n",
    "print(summary_analysis_df)"
   ]
  },
  {
   "cell_type": "code",
   "execution_count": 2220,
   "metadata": {},
   "outputs": [
    {
     "output_type": "execute_result",
     "data": {
      "text/plain": [
       "Male                     484\n",
       "Female                    81\n",
       "Other / Non-Disclosed     11\n",
       "Name: Gender, dtype: int64"
      ]
     },
     "metadata": {},
     "execution_count": 2220
    }
   ],
   "source": [
    "no_duplicates = purchase_data_df.loc[:, [\"SN\", \"Gender\"]]\n",
    "no_duplicates = no_duplicates.drop_duplicates()\n",
    "#get a count and percentage of male players & female players & Other/Non-disclosed\n",
    "gendered_value_counts_df = no_duplicates['Gender'].value_counts()\n",
    "gendered_value_counts_df\n",
    "#display the table"
   ]
  },
  {
   "cell_type": "code",
   "execution_count": 2221,
   "metadata": {},
   "outputs": [
    {
     "output_type": "execute_result",
     "data": {
      "text/plain": [
       "                       Player Count Percentage\n",
       "Male                            484     84.03%\n",
       "Female                           81     14.06%\n",
       "Other / Non-Disclosed            11      1.91%"
      ],
      "text/html": "<div>\n<style scoped>\n    .dataframe tbody tr th:only-of-type {\n        vertical-align: middle;\n    }\n\n    .dataframe tbody tr th {\n        vertical-align: top;\n    }\n\n    .dataframe thead th {\n        text-align: right;\n    }\n</style>\n<table border=\"1\" class=\"dataframe\">\n  <thead>\n    <tr style=\"text-align: right;\">\n      <th></th>\n      <th>Player Count</th>\n      <th>Percentage</th>\n    </tr>\n  </thead>\n  <tbody>\n    <tr>\n      <th>Male</th>\n      <td>484</td>\n      <td>84.03%</td>\n    </tr>\n    <tr>\n      <th>Female</th>\n      <td>81</td>\n      <td>14.06%</td>\n    </tr>\n    <tr>\n      <th>Other / Non-Disclosed</th>\n      <td>11</td>\n      <td>1.91%</td>\n    </tr>\n  </tbody>\n</table>\n</div>"
     },
     "metadata": {},
     "execution_count": 2221
    }
   ],
   "source": [
    "#percentages per gender (FORMAT PERCENTAGE LATER)\n",
    "gender_percent = ((gendered_value_counts_df/all_players)*100).round(2) \n",
    "gender_percent\n",
    "gendered_analysis_df = pd.DataFrame({\"Player Count\": gendered_value_counts_df, \"Percentage\": gender_percent})\n",
    "gendered_analysis_df[\"Percentage\"] = gendered_analysis_df[\"Percentage\"].map(\"{:.2f}%\".format)\n",
    "gendered_analysis_df\n",
    "\n"
   ]
  },
  {
   "cell_type": "code",
   "execution_count": 2222,
   "metadata": {},
   "outputs": [
    {
     "output_type": "stream",
     "name": "stdout",
     "text": [
      "                       Price\nGender                      \nFemale                   113\nMale                     652\nOther / Non-Disclosed     15\n                       Price\nGender                      \nFemale                  3.20\nMale                    3.02\nOther / Non-Disclosed   3.35\n                         Price\nGender                        \nFemale                  361.94\nMale                   1967.64\nOther / Non-Disclosed    50.19\n"
     ]
    }
   ],
   "source": [
    "#create a purchase analysis by gender & save to gendered_purchase_analysis_df\n",
    "gendered_purchases = purchase_data_df.loc[:, [\"Gender\", \"Price\"]]\n",
    "gendered_purchases\n",
    "\n",
    "#purchase count\n",
    "purchases_by_gender = pd.DataFrame(gendered_purchases.groupby([\"Gender\"]).count())\n",
    "print(purchases_by_gender)\n",
    "\n",
    "#average purchase price\n",
    "average_purchases_by_gender = pd.DataFrame(gendered_purchases.groupby([\"Gender\"]).mean().round(2))\n",
    "print(average_purchases_by_gender)\n",
    "\n",
    "#total purchase value\n",
    "total_value_by_gender = pd.DataFrame(gendered_purchases.groupby([\"Gender\"]).sum())\n",
    "print(total_value_by_gender)\n",
    "\n",
    "\n"
   ]
  },
  {
   "cell_type": "code",
   "execution_count": 2223,
   "metadata": {},
   "outputs": [
    {
     "output_type": "stream",
     "name": "stdout",
     "text": [
      "                       Average Total Purchase\n",
      "Female                                   4.47\n",
      "Male                                     4.07\n",
      "Other / Non-Disclosed                    4.56\n"
     ]
    }
   ],
   "source": [
    "#average total purchase per person (by gender values)\n",
    "average_total_purchase = (total_value_by_gender[\"Price\"] / gendered_analysis_df[\"Player Count\"]).round(2)\n",
    "average_total_purchase = pd.DataFrame({\"Average Total Purchase\":average_total_purchase})\n",
    "print(average_total_purchase)"
   ]
  },
  {
   "cell_type": "code",
   "execution_count": 2224,
   "metadata": {},
   "outputs": [
    {
     "output_type": "execute_result",
     "data": {
      "text/plain": [
       "                       Purchases  Average Purchases\n",
       "Gender                                             \n",
       "Female                       113               3.20\n",
       "Male                         652               3.02\n",
       "Other / Non-Disclosed         15               3.35"
      ],
      "text/html": "<div>\n<style scoped>\n    .dataframe tbody tr th:only-of-type {\n        vertical-align: middle;\n    }\n\n    .dataframe tbody tr th {\n        vertical-align: top;\n    }\n\n    .dataframe thead th {\n        text-align: right;\n    }\n</style>\n<table border=\"1\" class=\"dataframe\">\n  <thead>\n    <tr style=\"text-align: right;\">\n      <th></th>\n      <th>Purchases</th>\n      <th>Average Purchases</th>\n    </tr>\n    <tr>\n      <th>Gender</th>\n      <th></th>\n      <th></th>\n    </tr>\n  </thead>\n  <tbody>\n    <tr>\n      <th>Female</th>\n      <td>113</td>\n      <td>3.20</td>\n    </tr>\n    <tr>\n      <th>Male</th>\n      <td>652</td>\n      <td>3.02</td>\n    </tr>\n    <tr>\n      <th>Other / Non-Disclosed</th>\n      <td>15</td>\n      <td>3.35</td>\n    </tr>\n  </tbody>\n</table>\n</div>"
     },
     "metadata": {},
     "execution_count": 2224
    }
   ],
   "source": [
    "#create df and print results\n",
    "gender_summary_df = pd.merge(purchases_by_gender, average_purchases_by_gender, on=\"Gender\")\n",
    "gender_summary_df = gender_summary_df.rename(columns={\"Price_x\":\"Purchases\", \"Price_y\":\"Average Purchases\"})\n",
    "gender_summary_df"
   ]
  },
  {
   "cell_type": "code",
   "execution_count": 2225,
   "metadata": {},
   "outputs": [
    {
     "output_type": "execute_result",
     "data": {
      "text/plain": [
       "                       Purchases  Average Purchases  Total Revenue\n",
       "Gender                                                            \n",
       "Female                       113               3.20         361.94\n",
       "Male                         652               3.02        1967.64\n",
       "Other / Non-Disclosed         15               3.35          50.19"
      ],
      "text/html": "<div>\n<style scoped>\n    .dataframe tbody tr th:only-of-type {\n        vertical-align: middle;\n    }\n\n    .dataframe tbody tr th {\n        vertical-align: top;\n    }\n\n    .dataframe thead th {\n        text-align: right;\n    }\n</style>\n<table border=\"1\" class=\"dataframe\">\n  <thead>\n    <tr style=\"text-align: right;\">\n      <th></th>\n      <th>Purchases</th>\n      <th>Average Purchases</th>\n      <th>Total Revenue</th>\n    </tr>\n    <tr>\n      <th>Gender</th>\n      <th></th>\n      <th></th>\n      <th></th>\n    </tr>\n  </thead>\n  <tbody>\n    <tr>\n      <th>Female</th>\n      <td>113</td>\n      <td>3.20</td>\n      <td>361.94</td>\n    </tr>\n    <tr>\n      <th>Male</th>\n      <td>652</td>\n      <td>3.02</td>\n      <td>1967.64</td>\n    </tr>\n    <tr>\n      <th>Other / Non-Disclosed</th>\n      <td>15</td>\n      <td>3.35</td>\n      <td>50.19</td>\n    </tr>\n  </tbody>\n</table>\n</div>"
     },
     "metadata": {},
     "execution_count": 2225
    }
   ],
   "source": [
    "gender_summary_df = pd.merge(gender_summary_df, total_value_by_gender, on=\"Gender\")\n",
    "gender_summary_df = gender_summary_df.rename(columns={\"Price\":\"Total Revenue\"})\n",
    "gender_summary_df\n"
   ]
  },
  {
   "cell_type": "code",
   "execution_count": 2226,
   "metadata": {},
   "outputs": [
    {
     "output_type": "execute_result",
     "data": {
      "text/plain": [
       "                       Purchases  Average Purchases  Total Revenue  \\\n",
       "Gender                                                               \n",
       "Female                       113               3.20         361.94   \n",
       "Male                         652               3.02        1967.64   \n",
       "Other / Non-Disclosed         15               3.35          50.19   \n",
       "\n",
       "                       Average Total Purchase  \n",
       "Gender                                         \n",
       "Female                                   4.47  \n",
       "Male                                     4.07  \n",
       "Other / Non-Disclosed                    4.56  "
      ],
      "text/html": "<div>\n<style scoped>\n    .dataframe tbody tr th:only-of-type {\n        vertical-align: middle;\n    }\n\n    .dataframe tbody tr th {\n        vertical-align: top;\n    }\n\n    .dataframe thead th {\n        text-align: right;\n    }\n</style>\n<table border=\"1\" class=\"dataframe\">\n  <thead>\n    <tr style=\"text-align: right;\">\n      <th></th>\n      <th>Purchases</th>\n      <th>Average Purchases</th>\n      <th>Total Revenue</th>\n      <th>Average Total Purchase</th>\n    </tr>\n    <tr>\n      <th>Gender</th>\n      <th></th>\n      <th></th>\n      <th></th>\n      <th></th>\n    </tr>\n  </thead>\n  <tbody>\n    <tr>\n      <th>Female</th>\n      <td>113</td>\n      <td>3.20</td>\n      <td>361.94</td>\n      <td>4.47</td>\n    </tr>\n    <tr>\n      <th>Male</th>\n      <td>652</td>\n      <td>3.02</td>\n      <td>1967.64</td>\n      <td>4.07</td>\n    </tr>\n    <tr>\n      <th>Other / Non-Disclosed</th>\n      <td>15</td>\n      <td>3.35</td>\n      <td>50.19</td>\n      <td>4.56</td>\n    </tr>\n  </tbody>\n</table>\n</div>"
     },
     "metadata": {},
     "execution_count": 2226
    }
   ],
   "source": [
    "gender_summary_df = pd.concat([gender_summary_df, average_total_purchase], axis=1)\n",
    "gender_summary_df"
   ]
  },
  {
   "cell_type": "code",
   "execution_count": 2227,
   "metadata": {},
   "outputs": [
    {
     "output_type": "stream",
     "name": "stdout",
     "text": [
      "45\n"
     ]
    }
   ],
   "source": [
    "#Find out the oldest player, in order to establish bin range\n",
    "column = purchase_data_df[\"Age\"]\n",
    "max_value = column.max()\n",
    "print(max_value)\n"
   ]
  },
  {
   "cell_type": "code",
   "execution_count": 2228,
   "metadata": {},
   "outputs": [
    {
     "output_type": "execute_result",
     "data": {
      "text/plain": [
       "   Purchase ID             SN  Age Gender  Item ID  \\\n",
       "0            0        Lisim78   20   Male      108   \n",
       "1            1    Lisovynya38   40   Male      143   \n",
       "2            2     Ithergue48   24   Male       92   \n",
       "3            3  Chamassasya86   24   Male      100   \n",
       "4            4      Iskosia90   23   Male      131   \n",
       "\n",
       "                                   Item Name  Price        Age Group  \n",
       "0  Extraction, Quickblade Of Trembling Hands   3.53  15-19 years old  \n",
       "1                          Frenzied Scimitar   1.56    40+ years old  \n",
       "2                               Final Critic   4.88  20-24 years old  \n",
       "3                                Blindscythe   3.27  20-24 years old  \n",
       "4                                       Fury   1.44  20-24 years old  "
      ],
      "text/html": "<div>\n<style scoped>\n    .dataframe tbody tr th:only-of-type {\n        vertical-align: middle;\n    }\n\n    .dataframe tbody tr th {\n        vertical-align: top;\n    }\n\n    .dataframe thead th {\n        text-align: right;\n    }\n</style>\n<table border=\"1\" class=\"dataframe\">\n  <thead>\n    <tr style=\"text-align: right;\">\n      <th></th>\n      <th>Purchase ID</th>\n      <th>SN</th>\n      <th>Age</th>\n      <th>Gender</th>\n      <th>Item ID</th>\n      <th>Item Name</th>\n      <th>Price</th>\n      <th>Age Group</th>\n    </tr>\n  </thead>\n  <tbody>\n    <tr>\n      <th>0</th>\n      <td>0</td>\n      <td>Lisim78</td>\n      <td>20</td>\n      <td>Male</td>\n      <td>108</td>\n      <td>Extraction, Quickblade Of Trembling Hands</td>\n      <td>3.53</td>\n      <td>15-19 years old</td>\n    </tr>\n    <tr>\n      <th>1</th>\n      <td>1</td>\n      <td>Lisovynya38</td>\n      <td>40</td>\n      <td>Male</td>\n      <td>143</td>\n      <td>Frenzied Scimitar</td>\n      <td>1.56</td>\n      <td>40+ years old</td>\n    </tr>\n    <tr>\n      <th>2</th>\n      <td>2</td>\n      <td>Ithergue48</td>\n      <td>24</td>\n      <td>Male</td>\n      <td>92</td>\n      <td>Final Critic</td>\n      <td>4.88</td>\n      <td>20-24 years old</td>\n    </tr>\n    <tr>\n      <th>3</th>\n      <td>3</td>\n      <td>Chamassasya86</td>\n      <td>24</td>\n      <td>Male</td>\n      <td>100</td>\n      <td>Blindscythe</td>\n      <td>3.27</td>\n      <td>20-24 years old</td>\n    </tr>\n    <tr>\n      <th>4</th>\n      <td>4</td>\n      <td>Iskosia90</td>\n      <td>23</td>\n      <td>Male</td>\n      <td>131</td>\n      <td>Fury</td>\n      <td>1.44</td>\n      <td>20-24 years old</td>\n    </tr>\n  </tbody>\n</table>\n</div>"
     },
     "metadata": {},
     "execution_count": 2228
    }
   ],
   "source": [
    "#age demographics\n",
    "#establish bins for age group (<10, 10-14, 15-19, 20-24, 25-29, 30-34, 35-39, 40+)\n",
    "bins = [0, 10, 15, 20, 25, 30, 35, 39, 46]\n",
    "group_names = [\">10 years old\", \"10-14 years old\", \"15-19 years old\", \"20-24 years old\", \"25-29 years old\", \"30-34 years old\", \"35-39 years old\", \"40+ years old\"]\n",
    "#categorize existing players into age bins ---> pd.cut()\n",
    "purchase_data_df[\"Age Group\"] = pd.cut(purchase_data_df[\"Age\"], bins, labels=group_names, include_lowest=True)\n",
    "purchase_data_df.head()\n",
    "#summarize results in a age_demo_df"
   ]
  },
  {
   "cell_type": "code",
   "execution_count": 2229,
   "metadata": {},
   "outputs": [
    {
     "output_type": "execute_result",
     "data": {
      "text/plain": [
       "                 Total Players in Age Group\n",
       "Age Group                                  \n",
       ">10 years old                            24\n",
       "10-14 years old                          41\n",
       "15-19 years old                         150\n",
       "20-24 years old                         232\n",
       "25-29 years old                          59\n",
       "30-34 years old                          37\n",
       "35-39 years old                          21\n",
       "40+ years old                            12"
      ],
      "text/html": "<div>\n<style scoped>\n    .dataframe tbody tr th:only-of-type {\n        vertical-align: middle;\n    }\n\n    .dataframe tbody tr th {\n        vertical-align: top;\n    }\n\n    .dataframe thead th {\n        text-align: right;\n    }\n</style>\n<table border=\"1\" class=\"dataframe\">\n  <thead>\n    <tr style=\"text-align: right;\">\n      <th></th>\n      <th>Total Players in Age Group</th>\n    </tr>\n    <tr>\n      <th>Age Group</th>\n      <th></th>\n    </tr>\n  </thead>\n  <tbody>\n    <tr>\n      <th>&gt;10 years old</th>\n      <td>24</td>\n    </tr>\n    <tr>\n      <th>10-14 years old</th>\n      <td>41</td>\n    </tr>\n    <tr>\n      <th>15-19 years old</th>\n      <td>150</td>\n    </tr>\n    <tr>\n      <th>20-24 years old</th>\n      <td>232</td>\n    </tr>\n    <tr>\n      <th>25-29 years old</th>\n      <td>59</td>\n    </tr>\n    <tr>\n      <th>30-34 years old</th>\n      <td>37</td>\n    </tr>\n    <tr>\n      <th>35-39 years old</th>\n      <td>21</td>\n    </tr>\n    <tr>\n      <th>40+ years old</th>\n      <td>12</td>\n    </tr>\n  </tbody>\n</table>\n</div>"
     },
     "metadata": {},
     "execution_count": 2229
    }
   ],
   "source": [
    "no_duplicates = purchase_data_df.loc[:, [\"SN\", \"Age Group\"]]\n",
    "no_duplicates = no_duplicates.drop_duplicates()\n",
    "#get a count and percentage of male players & female players & Other/Non-disclosed\n",
    "age_group_df = pd.DataFrame(no_duplicates.groupby([\"Age Group\"]).count())\n",
    "age_group_df = age_group_df.rename(columns= {\"SN\":\"Total Players in Age Group\"})\n",
    "age_group_df\n",
    "#display the table"
   ]
  },
  {
   "cell_type": "code",
   "execution_count": 2230,
   "metadata": {},
   "outputs": [
    {
     "output_type": "stream",
     "name": "stdout",
     "text": [
      "                 Total Purchases\nAge Group                       \n>10 years old                 32\n10-14 years old               54\n15-19 years old              200\n20-24 years old              325\n25-29 years old               77\n30-34 years old               52\n35-39 years old               27\n40+ years old                 13\n"
     ]
    }
   ],
   "source": [
    "#create another purchase analysis by age\n",
    "#calculate purchase count\n",
    "purchases_by_age_group = purchase_data_df.loc[:, [\"Age Group\", \"Price\"]]\n",
    "purchases_by_age_group = pd.DataFrame(purchases_by_age_group.groupby([\"Age Group\"]).count())\n",
    "purchases_by_age_group = purchases_by_age_group.rename(columns= {\"Price\":\"Total Purchases\"})\n",
    "print(purchases_by_age_group)\n",
    "\n"
   ]
  },
  {
   "cell_type": "code",
   "execution_count": 2231,
   "metadata": {},
   "outputs": [
    {
     "output_type": "stream",
     "name": "stdout",
     "text": [
      "                 Price\nAge Group             \n>10 years old     3.40\n10-14 years old   2.90\n15-19 years old   3.11\n20-24 years old   3.02\n25-29 years old   2.88\n30-34 years old   2.99\n35-39 years old   3.54\n40+ years old     2.94\n"
     ]
    }
   ],
   "source": [
    "#calculate av purchase price \n",
    "average_purchase_by_age = purchase_data_df.loc[:, [\"Age Group\", \"Price\"]]\n",
    "average_purchase_by_age = pd.DataFrame(average_purchase_by_age.groupby([\"Age Group\"]).mean().round(2))\n",
    "print(average_purchase_by_age)\n"
   ]
  },
  {
   "cell_type": "code",
   "execution_count": 2232,
   "metadata": {},
   "outputs": [
    {
     "output_type": "stream",
     "name": "stdout",
     "text": [
      "                  Price\nAge Group              \n>10 years old    108.96\n10-14 years old  156.60\n15-19 years old  621.56\n20-24 years old  981.64\n25-29 years old  221.42\n30-34 years old  155.71\n35-39 years old   95.64\n40+ years old     38.24\n"
     ]
    }
   ],
   "source": [
    "\n",
    "#calculate total purchase value \n",
    "total_purchased_by_age = purchase_data_df.loc[:, [\"Age Group\", \"Price\"]]\n",
    "total_purchased_by_age = pd.DataFrame(total_purchased_by_age.groupby([\"Age Group\"]).sum())\n",
    "print(total_purchased_by_age)\n"
   ]
  },
  {
   "cell_type": "code",
   "execution_count": 2233,
   "metadata": {},
   "outputs": [
    {
     "output_type": "stream",
     "name": "stdout",
     "text": [
      "                 Average Purchase per Player per Group\nAge Group                                             \n>10 years old                                     3.40\n10-14 years old                                   2.90\n15-19 years old                                   3.11\n20-24 years old                                   3.02\n25-29 years old                                   2.88\n30-34 years old                                   2.99\n35-39 years old                                   3.54\n40+ years old                                     2.94\n"
     ]
    }
   ],
   "source": [
    "\n",
    "# calculate av total purchase per person\n",
    "average_total_purchase_by_age = (total_purchased_by_age[\"Price\"] / age_group_df[\"Total Players in Age Group\"])\n",
    "average_total_purchase_by_age = average_purchase_by_age.rename(columns={\"Price\":\"Average Purchase per Player per Group\"})\n",
    "print(average_total_purchase_by_age)\n"
   ]
  },
  {
   "cell_type": "code",
   "execution_count": 2234,
   "metadata": {},
   "outputs": [
    {
     "output_type": "stream",
     "name": "stdout",
     "text": [
      "                 Total Players in Age Group  Total Purchases\nAge Group                                                   \n>10 years old                            24               32\n10-14 years old                          41               54\n15-19 years old                         150              200\n20-24 years old                         232              325\n25-29 years old                          59               77\n30-34 years old                          37               52\n35-39 years old                          21               27\n40+ years old                            12               13\n"
     ]
    }
   ],
   "source": [
    "#merge data\n",
    "age_summary_df = pd.merge(age_group_df, purchases_by_age_group, on=\"Age Group\")\n",
    "print(age_summary_df)"
   ]
  },
  {
   "cell_type": "code",
   "execution_count": 2235,
   "metadata": {},
   "outputs": [
    {
     "output_type": "stream",
     "name": "stdout",
     "text": [
      "                 Total Players in Age Group  Total Purchases  \\\nAge Group                                                      \n>10 years old                            24               32   \n10-14 years old                          41               54   \n15-19 years old                         150              200   \n20-24 years old                         232              325   \n25-29 years old                          59               77   \n30-34 years old                          37               52   \n35-39 years old                          21               27   \n40+ years old                            12               13   \n\n                 Average Purchase Price  \nAge Group                                \n>10 years old                      3.40  \n10-14 years old                    2.90  \n15-19 years old                    3.11  \n20-24 years old                    3.02  \n25-29 years old                    2.88  \n30-34 years old                    2.99  \n35-39 years old                    3.54  \n40+ years old                      2.94  \n"
     ]
    }
   ],
   "source": [
    "#merge data pt 2\n",
    "age_summary_df = pd.merge(age_summary_df, average_purchase_by_age, on=\"Age Group\")\n",
    "age_summary_df = age_summary_df.rename(columns= {\"Price\":\"Average Purchase Price\"})\n",
    "print(age_summary_df)"
   ]
  },
  {
   "cell_type": "code",
   "execution_count": 2236,
   "metadata": {},
   "outputs": [
    {
     "output_type": "stream",
     "name": "stdout",
     "text": [
      "                 Total Players in Age Group  Total Purchases  \\\nAge Group                                                      \n>10 years old                            24               32   \n10-14 years old                          41               54   \n15-19 years old                         150              200   \n20-24 years old                         232              325   \n25-29 years old                          59               77   \n30-34 years old                          37               52   \n35-39 years old                          21               27   \n40+ years old                            12               13   \n\n                 Average Purchase Price  Total Purchase Value  \nAge Group                                                      \n>10 years old                      3.40                108.96  \n10-14 years old                    2.90                156.60  \n15-19 years old                    3.11                621.56  \n20-24 years old                    3.02                981.64  \n25-29 years old                    2.88                221.42  \n30-34 years old                    2.99                155.71  \n35-39 years old                    3.54                 95.64  \n40+ years old                      2.94                 38.24  \n"
     ]
    }
   ],
   "source": [
    "#merge data pt 3\n",
    "age_summary_df = pd.merge(age_summary_df, total_purchased_by_age, on=\"Age Group\")\n",
    "age_summary_df = age_summary_df.rename(columns= {\"Price\":\"Total Purchase Value\"})\n",
    "print(age_summary_df)"
   ]
  },
  {
   "cell_type": "code",
   "execution_count": 2237,
   "metadata": {},
   "outputs": [
    {
     "output_type": "stream",
     "name": "stdout",
     "text": [
      "                 Total Players in Age Group  Total Purchases  \\\nAge Group                                                      \n>10 years old                            24               32   \n10-14 years old                          41               54   \n15-19 years old                         150              200   \n20-24 years old                         232              325   \n25-29 years old                          59               77   \n30-34 years old                          37               52   \n35-39 years old                          21               27   \n40+ years old                            12               13   \n\n                 Average Purchase Price  Total Purchase Value  \\\nAge Group                                                       \n>10 years old                      3.40                108.96   \n10-14 years old                    2.90                156.60   \n15-19 years old                    3.11                621.56   \n20-24 years old                    3.02                981.64   \n25-29 years old                    2.88                221.42   \n30-34 years old                    2.99                155.71   \n35-39 years old                    3.54                 95.64   \n40+ years old                      2.94                 38.24   \n\n                 Average Purchase per Player per Group  \nAge Group                                               \n>10 years old                                     3.40  \n10-14 years old                                   2.90  \n15-19 years old                                   3.11  \n20-24 years old                                   3.02  \n25-29 years old                                   2.88  \n30-34 years old                                   2.99  \n35-39 years old                                   3.54  \n40+ years old                                     2.94  \n"
     ]
    }
   ],
   "source": [
    "#merge data pt 4\n",
    "age_summary_df = pd.concat([age_summary_df, average_total_purchase_by_age], axis=1)\n",
    "print(age_summary_df)"
   ]
  },
  {
   "cell_type": "code",
   "execution_count": 2238,
   "metadata": {},
   "outputs": [
    {
     "output_type": "execute_result",
     "data": {
      "text/plain": [
       "               SN  Price\n",
       "467  Adairialis76   2.28\n",
       "142   Adastirin33   4.48\n",
       "388        Aeda94   4.91\n",
       "28         Aela59   4.32\n",
       "630     Aelaria33   1.79\n",
       "..            ...    ...\n",
       "54     Zhisrisu83   4.35\n",
       "141    Zhisrisu83   3.54\n",
       "560     Zontibe81   2.48\n",
       "442     Zontibe81   3.79\n",
       "17      Zontibe81   1.76\n",
       "\n",
       "[780 rows x 2 columns]"
      ],
      "text/html": "<div>\n<style scoped>\n    .dataframe tbody tr th:only-of-type {\n        vertical-align: middle;\n    }\n\n    .dataframe tbody tr th {\n        vertical-align: top;\n    }\n\n    .dataframe thead th {\n        text-align: right;\n    }\n</style>\n<table border=\"1\" class=\"dataframe\">\n  <thead>\n    <tr style=\"text-align: right;\">\n      <th></th>\n      <th>SN</th>\n      <th>Price</th>\n    </tr>\n  </thead>\n  <tbody>\n    <tr>\n      <th>467</th>\n      <td>Adairialis76</td>\n      <td>2.28</td>\n    </tr>\n    <tr>\n      <th>142</th>\n      <td>Adastirin33</td>\n      <td>4.48</td>\n    </tr>\n    <tr>\n      <th>388</th>\n      <td>Aeda94</td>\n      <td>4.91</td>\n    </tr>\n    <tr>\n      <th>28</th>\n      <td>Aela59</td>\n      <td>4.32</td>\n    </tr>\n    <tr>\n      <th>630</th>\n      <td>Aelaria33</td>\n      <td>1.79</td>\n    </tr>\n    <tr>\n      <th>...</th>\n      <td>...</td>\n      <td>...</td>\n    </tr>\n    <tr>\n      <th>54</th>\n      <td>Zhisrisu83</td>\n      <td>4.35</td>\n    </tr>\n    <tr>\n      <th>141</th>\n      <td>Zhisrisu83</td>\n      <td>3.54</td>\n    </tr>\n    <tr>\n      <th>560</th>\n      <td>Zontibe81</td>\n      <td>2.48</td>\n    </tr>\n    <tr>\n      <th>442</th>\n      <td>Zontibe81</td>\n      <td>3.79</td>\n    </tr>\n    <tr>\n      <th>17</th>\n      <td>Zontibe81</td>\n      <td>1.76</td>\n    </tr>\n  </tbody>\n</table>\n<p>780 rows × 2 columns</p>\n</div>"
     },
     "metadata": {},
     "execution_count": 2238
    }
   ],
   "source": [
    "#create a df of top_spenders_df and run analysis on purchase count, av purchase price, total purchase value, along with their screen name\n",
    "big_spender_purchases = purchase_data_df.loc[:, [\"SN\", \"Price\"]]\n",
    "big_spender_v = big_spender_purchases.sort_values('SN')\n",
    "big_spender_v"
   ]
  },
  {
   "cell_type": "code",
   "execution_count": 2239,
   "metadata": {},
   "outputs": [
    {
     "output_type": "stream",
     "name": "stdout",
     "text": [
      "                Price\nSN                   \nTyeuduen32       4.05\nTyeurith29       3.65\nTyialisti80      4.14\nTyialisudeu65    5.05\nTyida79          7.39\nTyidaim51       11.83\nTyidainu31       2.49\nTyirinu79        4.24\nTyisur83         5.36\nUmolrian85       8.13\nUndare39         4.04\nUndassa89        1.76\nUndilsan50       1.79\nUndimsya85       3.46\nUndirra73        2.89\nUndirrala66      5.47\nUndirrasta89     1.94\nUndista85        3.45\nUndjask33        1.10\nUndjaskla97      5.32\nUndosia27        3.77\nUndosian34       8.30\nUndotesta33      4.74\nWailin72         2.73\nYadacal26        6.54\nYadaisuir65      4.09\nYadam35          2.48\nYadanu52         2.38\nYadaphos40       5.35\nYalae81          6.69\nYalaeria91       1.06\nYaliru88         3.03\nYalo85           3.65\nYalostiphos68    4.40\nYana46           3.55\nYarithllodeu72   3.75\nYarithrgue83     3.45\nYarithrin84      4.14\nYarithsurgue62   4.94\nYarolwen77       4.43\nYasrisu92        3.44\nYastyriaphos75   4.75\nYasur35          4.48\nYasur85          1.10\nYathecal72       3.46\nYathecal82       6.22\nYathedeu43       6.02\nYoishirrala98    4.58\nZhisrisu83       7.89\nZontibe81        8.03\n"
     ]
    }
   ],
   "source": [
    "total_purchased_by_SN = pd.DataFrame(big_spender_purchases.groupby([\"SN\"]).sum())\n",
    "print(total_purchased_by_SN.tail(50))"
   ]
  },
  {
   "cell_type": "code",
   "execution_count": 2240,
   "metadata": {},
   "outputs": [
    {
     "output_type": "execute_result",
     "data": {
      "text/plain": [
       "Price    18.96\n",
       "dtype: float64"
      ]
     },
     "metadata": {},
     "execution_count": 2240
    }
   ],
   "source": [
    "total_purchased_condensed = total_purchased_by_SN.max()\n",
    "total_purchased_condensed"
   ]
  },
  {
   "cell_type": "code",
   "execution_count": 2262,
   "metadata": {},
   "outputs": [
    {
     "output_type": "execute_result",
     "data": {
      "text/plain": [
       "             Price\n",
       "SN                \n",
       "Lisosia93    18.96\n",
       "Idastidru52  15.45\n",
       "Chamjask73   13.83\n",
       "Iral74       13.62\n",
       "Iskadarya95  13.10"
      ],
      "text/html": "<div>\n<style scoped>\n    .dataframe tbody tr th:only-of-type {\n        vertical-align: middle;\n    }\n\n    .dataframe tbody tr th {\n        vertical-align: top;\n    }\n\n    .dataframe thead th {\n        text-align: right;\n    }\n</style>\n<table border=\"1\" class=\"dataframe\">\n  <thead>\n    <tr style=\"text-align: right;\">\n      <th></th>\n      <th>Price</th>\n    </tr>\n    <tr>\n      <th>SN</th>\n      <th></th>\n    </tr>\n  </thead>\n  <tbody>\n    <tr>\n      <th>Lisosia93</th>\n      <td>18.96</td>\n    </tr>\n    <tr>\n      <th>Idastidru52</th>\n      <td>15.45</td>\n    </tr>\n    <tr>\n      <th>Chamjask73</th>\n      <td>13.83</td>\n    </tr>\n    <tr>\n      <th>Iral74</th>\n      <td>13.62</td>\n    </tr>\n    <tr>\n      <th>Iskadarya95</th>\n      <td>13.10</td>\n    </tr>\n  </tbody>\n</table>\n</div>"
     },
     "metadata": {},
     "execution_count": 2262
    }
   ],
   "source": [
    "#calculate total purchase value + SN\n",
    "find_the_max_spenders = total_purchased_by_SN.sort_values('Price')\n",
    "find_the_max_spenders = find_the_max_spenders.tail(5)\n",
    "find_the_max_spenders = find_the_max_spenders.sort_values('Price', ascending=False)\n",
    "find_the_max_spenders = pd.DataFrame(find_the_max_spenders.round(2))\n",
    "find_the_max_spenders"
   ]
  },
  {
   "cell_type": "code",
   "execution_count": 2242,
   "metadata": {},
   "outputs": [
    {
     "output_type": "execute_result",
     "data": {
      "text/plain": [
       "Lisosia93      5\n",
       "Idastidru52    4\n",
       "Iral74         4\n",
       "Iskadarya95    3\n",
       "Chamjask73     3\n",
       "Name: SN, dtype: int64"
      ]
     },
     "metadata": {},
     "execution_count": 2242
    }
   ],
   "source": [
    "#get number of purchases easier\n",
    "big_spender_purchases = purchase_data_df.loc[:, [\"SN\", \"Price\"]]\n",
    "numbers_unique_user_purchase = big_spender_purchases.loc[(big_spender_purchases[\"SN\"]==\"Lisosia93\") | (big_spender_purchases[\"SN\"]==\"Idastidru52\") | (big_spender_purchases[\"SN\"]==\"Chamjask73\") | (big_spender_purchases[\"SN\"]==\"Iral74\") | (big_spender_purchases[\"SN\"]==\"Iskadarya95\") , :]\n",
    "\n",
    "\n",
    "numbers_unique_user_purchase = numbers_unique_user_purchase.sort_values('SN', ascending=False)\n",
    "numbers_unique_user_purchase = numbers_unique_user_purchase[\"SN\"].value_counts()\n",
    "numbers_unique_user_purchase"
   ]
  },
  {
   "cell_type": "code",
   "execution_count": 2269,
   "metadata": {},
   "outputs": [
    {
     "output_type": "execute_result",
     "data": {
      "text/plain": [
       "             SN\n",
       "Lisosia93     5\n",
       "Idastidru52   4\n",
       "Iral74        4\n",
       "Iskadarya95   3\n",
       "Chamjask73    3"
      ],
      "text/html": "<div>\n<style scoped>\n    .dataframe tbody tr th:only-of-type {\n        vertical-align: middle;\n    }\n\n    .dataframe tbody tr th {\n        vertical-align: top;\n    }\n\n    .dataframe thead th {\n        text-align: right;\n    }\n</style>\n<table border=\"1\" class=\"dataframe\">\n  <thead>\n    <tr style=\"text-align: right;\">\n      <th></th>\n      <th>SN</th>\n    </tr>\n  </thead>\n  <tbody>\n    <tr>\n      <th>Lisosia93</th>\n      <td>5</td>\n    </tr>\n    <tr>\n      <th>Idastidru52</th>\n      <td>4</td>\n    </tr>\n    <tr>\n      <th>Iral74</th>\n      <td>4</td>\n    </tr>\n    <tr>\n      <th>Iskadarya95</th>\n      <td>3</td>\n    </tr>\n    <tr>\n      <th>Chamjask73</th>\n      <td>3</td>\n    </tr>\n  </tbody>\n</table>\n</div>"
     },
     "metadata": {},
     "execution_count": 2269
    }
   ],
   "source": [
    "#get number of purchases easier\n",
    "big_spender_purchases = purchase_data_df.loc[:, [\"SN\", \"Price\"]]\n",
    "numbers_unique_user_purchase = big_spender_purchases.loc[(big_spender_purchases[\"SN\"]==\"Lisosia93\") | (big_spender_purchases[\"SN\"]==\"Idastidru52\") | (big_spender_purchases[\"SN\"]==\"Chamjask73\") | (big_spender_purchases[\"SN\"]==\"Iral74\") | (big_spender_purchases[\"SN\"]==\"Iskadarya95\") , :]\n",
    "\n",
    "\n",
    "numbers_unique_user_purchase = numbers_unique_user_purchase.sort_values('SN', ascending=False)\n",
    "numbers_unique_user_purchase = pd.DataFrame(numbers_unique_user_purchase[\"SN\"].value_counts())\n",
    "numbers_unique_user_purchase"
   ]
  },
  {
   "cell_type": "code",
   "execution_count": 2254,
   "metadata": {},
   "outputs": [
    {
     "output_type": "execute_result",
     "data": {
      "text/plain": [
       "                0\n",
       "Chamjask73   4.61\n",
       "Idastidru52  3.86\n",
       "Iral74       3.40\n",
       "Iskadarya95  4.37\n",
       "Lisosia93    3.79"
      ],
      "text/html": "<div>\n<style scoped>\n    .dataframe tbody tr th:only-of-type {\n        vertical-align: middle;\n    }\n\n    .dataframe tbody tr th {\n        vertical-align: top;\n    }\n\n    .dataframe thead th {\n        text-align: right;\n    }\n</style>\n<table border=\"1\" class=\"dataframe\">\n  <thead>\n    <tr style=\"text-align: right;\">\n      <th></th>\n      <th>0</th>\n    </tr>\n  </thead>\n  <tbody>\n    <tr>\n      <th>Chamjask73</th>\n      <td>4.61</td>\n    </tr>\n    <tr>\n      <th>Idastidru52</th>\n      <td>3.86</td>\n    </tr>\n    <tr>\n      <th>Iral74</th>\n      <td>3.40</td>\n    </tr>\n    <tr>\n      <th>Iskadarya95</th>\n      <td>4.37</td>\n    </tr>\n    <tr>\n      <th>Lisosia93</th>\n      <td>3.79</td>\n    </tr>\n  </tbody>\n</table>\n</div>"
     },
     "metadata": {},
     "execution_count": 2254
    }
   ],
   "source": [
    "average_purchase_by_person = find_the_max_spenders[\"Price\"] / numbers_unique_user_purchase[\"SN\"]\n",
    "average_purchase_by_person = pd.DataFrame(average_purchase_by_person.round(2))\n",
    "average_purchase_by_person"
   ]
  },
  {
   "cell_type": "code",
   "execution_count": 2268,
   "metadata": {},
   "outputs": [
    {
     "output_type": "error",
     "ename": "KeyError",
     "evalue": "'SN'",
     "traceback": [
      "\u001b[0;31m---------------------------------------------------------------------------\u001b[0m",
      "\u001b[0;31mKeyError\u001b[0m                                  Traceback (most recent call last)",
      "\u001b[0;32m<ipython-input-2268-9f6e17a962fd>\u001b[0m in \u001b[0;36m<module>\u001b[0;34m\u001b[0m\n\u001b[1;32m      1\u001b[0m \u001b[0;31m#average purchase price\u001b[0m\u001b[0;34m\u001b[0m\u001b[0;34m\u001b[0m\u001b[0;34m\u001b[0m\u001b[0m\n\u001b[0;32m----> 2\u001b[0;31m \u001b[0mnumbers_unique_user_purchase\u001b[0m \u001b[0;34m=\u001b[0m \u001b[0mpd\u001b[0m\u001b[0;34m.\u001b[0m\u001b[0mmerge\u001b[0m\u001b[0;34m(\u001b[0m\u001b[0mnumbers_unique_user_purchase\u001b[0m\u001b[0;34m,\u001b[0m \u001b[0maverage_purchase_by_person\u001b[0m\u001b[0;34m,\u001b[0m \u001b[0mon\u001b[0m\u001b[0;34m=\u001b[0m\u001b[0;34m\"SN\"\u001b[0m\u001b[0;34m)\u001b[0m\u001b[0;34m\u001b[0m\u001b[0;34m\u001b[0m\u001b[0m\n\u001b[0m\u001b[1;32m      3\u001b[0m \u001b[0mnumbers_unique_user_purchase\u001b[0m\u001b[0;34m\u001b[0m\u001b[0;34m\u001b[0m\u001b[0m\n",
      "\u001b[0;32m~/opt/anaconda3/lib/python3.8/site-packages/pandas/core/reshape/merge.py\u001b[0m in \u001b[0;36mmerge\u001b[0;34m(left, right, how, on, left_on, right_on, left_index, right_index, sort, suffixes, copy, indicator, validate)\u001b[0m\n\u001b[1;32m     72\u001b[0m     \u001b[0mvalidate\u001b[0m\u001b[0;34m=\u001b[0m\u001b[0;32mNone\u001b[0m\u001b[0;34m,\u001b[0m\u001b[0;34m\u001b[0m\u001b[0;34m\u001b[0m\u001b[0m\n\u001b[1;32m     73\u001b[0m ) -> \"DataFrame\":\n\u001b[0;32m---> 74\u001b[0;31m     op = _MergeOperation(\n\u001b[0m\u001b[1;32m     75\u001b[0m         \u001b[0mleft\u001b[0m\u001b[0;34m,\u001b[0m\u001b[0;34m\u001b[0m\u001b[0;34m\u001b[0m\u001b[0m\n\u001b[1;32m     76\u001b[0m         \u001b[0mright\u001b[0m\u001b[0;34m,\u001b[0m\u001b[0;34m\u001b[0m\u001b[0;34m\u001b[0m\u001b[0m\n",
      "\u001b[0;32m~/opt/anaconda3/lib/python3.8/site-packages/pandas/core/reshape/merge.py\u001b[0m in \u001b[0;36m__init__\u001b[0;34m(self, left, right, how, on, left_on, right_on, axis, left_index, right_index, sort, suffixes, copy, indicator, validate)\u001b[0m\n\u001b[1;32m    650\u001b[0m             \u001b[0mself\u001b[0m\u001b[0;34m.\u001b[0m\u001b[0mright_join_keys\u001b[0m\u001b[0;34m,\u001b[0m\u001b[0;34m\u001b[0m\u001b[0;34m\u001b[0m\u001b[0m\n\u001b[1;32m    651\u001b[0m             \u001b[0mself\u001b[0m\u001b[0;34m.\u001b[0m\u001b[0mjoin_names\u001b[0m\u001b[0;34m,\u001b[0m\u001b[0;34m\u001b[0m\u001b[0;34m\u001b[0m\u001b[0m\n\u001b[0;32m--> 652\u001b[0;31m         ) = self._get_merge_keys()\n\u001b[0m\u001b[1;32m    653\u001b[0m \u001b[0;34m\u001b[0m\u001b[0m\n\u001b[1;32m    654\u001b[0m         \u001b[0;31m# validate the merge keys dtypes. We may need to coerce\u001b[0m\u001b[0;34m\u001b[0m\u001b[0;34m\u001b[0m\u001b[0;34m\u001b[0m\u001b[0m\n",
      "\u001b[0;32m~/opt/anaconda3/lib/python3.8/site-packages/pandas/core/reshape/merge.py\u001b[0m in \u001b[0;36m_get_merge_keys\u001b[0;34m(self)\u001b[0m\n\u001b[1;32m   1003\u001b[0m                     \u001b[0;32mif\u001b[0m \u001b[0;32mnot\u001b[0m \u001b[0mis_rkey\u001b[0m\u001b[0;34m(\u001b[0m\u001b[0mrk\u001b[0m\u001b[0;34m)\u001b[0m\u001b[0;34m:\u001b[0m\u001b[0;34m\u001b[0m\u001b[0;34m\u001b[0m\u001b[0m\n\u001b[1;32m   1004\u001b[0m                         \u001b[0;32mif\u001b[0m \u001b[0mrk\u001b[0m \u001b[0;32mis\u001b[0m \u001b[0;32mnot\u001b[0m \u001b[0;32mNone\u001b[0m\u001b[0;34m:\u001b[0m\u001b[0;34m\u001b[0m\u001b[0;34m\u001b[0m\u001b[0m\n\u001b[0;32m-> 1005\u001b[0;31m                             \u001b[0mright_keys\u001b[0m\u001b[0;34m.\u001b[0m\u001b[0mappend\u001b[0m\u001b[0;34m(\u001b[0m\u001b[0mright\u001b[0m\u001b[0;34m.\u001b[0m\u001b[0m_get_label_or_level_values\u001b[0m\u001b[0;34m(\u001b[0m\u001b[0mrk\u001b[0m\u001b[0;34m)\u001b[0m\u001b[0;34m)\u001b[0m\u001b[0;34m\u001b[0m\u001b[0;34m\u001b[0m\u001b[0m\n\u001b[0m\u001b[1;32m   1006\u001b[0m                         \u001b[0;32melse\u001b[0m\u001b[0;34m:\u001b[0m\u001b[0;34m\u001b[0m\u001b[0;34m\u001b[0m\u001b[0m\n\u001b[1;32m   1007\u001b[0m                             \u001b[0;31m# work-around for merge_asof(right_index=True)\u001b[0m\u001b[0;34m\u001b[0m\u001b[0;34m\u001b[0m\u001b[0;34m\u001b[0m\u001b[0m\n",
      "\u001b[0;32m~/opt/anaconda3/lib/python3.8/site-packages/pandas/core/generic.py\u001b[0m in \u001b[0;36m_get_label_or_level_values\u001b[0;34m(self, key, axis)\u001b[0m\n\u001b[1;32m   1561\u001b[0m             \u001b[0mvalues\u001b[0m \u001b[0;34m=\u001b[0m \u001b[0mself\u001b[0m\u001b[0;34m.\u001b[0m\u001b[0maxes\u001b[0m\u001b[0;34m[\u001b[0m\u001b[0maxis\u001b[0m\u001b[0;34m]\u001b[0m\u001b[0;34m.\u001b[0m\u001b[0mget_level_values\u001b[0m\u001b[0;34m(\u001b[0m\u001b[0mkey\u001b[0m\u001b[0;34m)\u001b[0m\u001b[0;34m.\u001b[0m\u001b[0m_values\u001b[0m\u001b[0;34m\u001b[0m\u001b[0;34m\u001b[0m\u001b[0m\n\u001b[1;32m   1562\u001b[0m         \u001b[0;32melse\u001b[0m\u001b[0;34m:\u001b[0m\u001b[0;34m\u001b[0m\u001b[0;34m\u001b[0m\u001b[0m\n\u001b[0;32m-> 1563\u001b[0;31m             \u001b[0;32mraise\u001b[0m \u001b[0mKeyError\u001b[0m\u001b[0;34m(\u001b[0m\u001b[0mkey\u001b[0m\u001b[0;34m)\u001b[0m\u001b[0;34m\u001b[0m\u001b[0;34m\u001b[0m\u001b[0m\n\u001b[0m\u001b[1;32m   1564\u001b[0m \u001b[0;34m\u001b[0m\u001b[0m\n\u001b[1;32m   1565\u001b[0m         \u001b[0;31m# Check for duplicates\u001b[0m\u001b[0;34m\u001b[0m\u001b[0;34m\u001b[0m\u001b[0;34m\u001b[0m\u001b[0m\n",
      "\u001b[0;31mKeyError\u001b[0m: 'SN'"
     ]
    }
   ],
   "source": [
    "#average purchase price\n",
    "numbers_unique_user_purchase = pd.merge(numbers_unique_user_purchase, average_purchase_by_person, on=\"SN\")\n",
    "numbers_unique_user_purchase\n"
   ]
  },
  {
   "cell_type": "code",
   "execution_count": 2267,
   "metadata": {},
   "outputs": [
    {
     "output_type": "error",
     "ename": "KeyError",
     "evalue": "\"Passing list-likes to .loc or [] with any missing labels is no longer supported. The following labels were missing: Index(['ID', 'Item'], dtype='object'). See https://pandas.pydata.org/pandas-docs/stable/user_guide/indexing.html#deprecate-loc-reindex-listlike\"",
     "traceback": [
      "\u001b[0;31m---------------------------------------------------------------------------\u001b[0m",
      "\u001b[0;31mKeyError\u001b[0m                                  Traceback (most recent call last)",
      "\u001b[0;32m<ipython-input-2267-cfdd1b1d92d5>\u001b[0m in \u001b[0;36m<module>\u001b[0;34m\u001b[0m\n\u001b[1;32m      1\u001b[0m \u001b[0;31m#most popular items df\u001b[0m\u001b[0;34m\u001b[0m\u001b[0;34m\u001b[0m\u001b[0;34m\u001b[0m\u001b[0m\n\u001b[0;32m----> 2\u001b[0;31m \u001b[0mpopular_items_df\u001b[0m \u001b[0;34m=\u001b[0m \u001b[0mpurchase_data_df\u001b[0m\u001b[0;34m.\u001b[0m\u001b[0mloc\u001b[0m\u001b[0;34m[\u001b[0m\u001b[0;34m:\u001b[0m\u001b[0;34m,\u001b[0m \u001b[0;34m[\u001b[0m\u001b[0;34m\"ID\"\u001b[0m\u001b[0;34m,\u001b[0m \u001b[0;34m\"Item\"\u001b[0m\u001b[0;34m,\u001b[0m \u001b[0;34m\"Price\"\u001b[0m\u001b[0;34m]\u001b[0m\u001b[0;34m]\u001b[0m\u001b[0;34m\u001b[0m\u001b[0;34m\u001b[0m\u001b[0m\n\u001b[0m\u001b[1;32m      3\u001b[0m \u001b[0mpopular_items_df\u001b[0m\u001b[0;34m\u001b[0m\u001b[0;34m\u001b[0m\u001b[0m\n\u001b[1;32m      4\u001b[0m \u001b[0;31m#get item ID, item name, and item price columns\u001b[0m\u001b[0;34m\u001b[0m\u001b[0;34m\u001b[0m\u001b[0;34m\u001b[0m\u001b[0m\n\u001b[1;32m      5\u001b[0m \u001b[0;31m#groupby item ID and item name\u001b[0m\u001b[0;34m\u001b[0m\u001b[0;34m\u001b[0m\u001b[0;34m\u001b[0m\u001b[0m\n",
      "\u001b[0;32m~/opt/anaconda3/lib/python3.8/site-packages/pandas/core/indexing.py\u001b[0m in \u001b[0;36m__getitem__\u001b[0;34m(self, key)\u001b[0m\n\u001b[1;32m    871\u001b[0m                     \u001b[0;31m# AttributeError for IntervalTree get_value\u001b[0m\u001b[0;34m\u001b[0m\u001b[0;34m\u001b[0m\u001b[0;34m\u001b[0m\u001b[0m\n\u001b[1;32m    872\u001b[0m                     \u001b[0;32mpass\u001b[0m\u001b[0;34m\u001b[0m\u001b[0;34m\u001b[0m\u001b[0m\n\u001b[0;32m--> 873\u001b[0;31m             \u001b[0;32mreturn\u001b[0m \u001b[0mself\u001b[0m\u001b[0;34m.\u001b[0m\u001b[0m_getitem_tuple\u001b[0m\u001b[0;34m(\u001b[0m\u001b[0mkey\u001b[0m\u001b[0;34m)\u001b[0m\u001b[0;34m\u001b[0m\u001b[0;34m\u001b[0m\u001b[0m\n\u001b[0m\u001b[1;32m    874\u001b[0m         \u001b[0;32melse\u001b[0m\u001b[0;34m:\u001b[0m\u001b[0;34m\u001b[0m\u001b[0;34m\u001b[0m\u001b[0m\n\u001b[1;32m    875\u001b[0m             \u001b[0;31m# we by definition only have the 0th axis\u001b[0m\u001b[0;34m\u001b[0m\u001b[0;34m\u001b[0m\u001b[0;34m\u001b[0m\u001b[0m\n",
      "\u001b[0;32m~/opt/anaconda3/lib/python3.8/site-packages/pandas/core/indexing.py\u001b[0m in \u001b[0;36m_getitem_tuple\u001b[0;34m(self, tup)\u001b[0m\n\u001b[1;32m   1053\u001b[0m             \u001b[0;32mreturn\u001b[0m \u001b[0mself\u001b[0m\u001b[0;34m.\u001b[0m\u001b[0m_multi_take\u001b[0m\u001b[0;34m(\u001b[0m\u001b[0mtup\u001b[0m\u001b[0;34m)\u001b[0m\u001b[0;34m\u001b[0m\u001b[0;34m\u001b[0m\u001b[0m\n\u001b[1;32m   1054\u001b[0m \u001b[0;34m\u001b[0m\u001b[0m\n\u001b[0;32m-> 1055\u001b[0;31m         \u001b[0;32mreturn\u001b[0m \u001b[0mself\u001b[0m\u001b[0;34m.\u001b[0m\u001b[0m_getitem_tuple_same_dim\u001b[0m\u001b[0;34m(\u001b[0m\u001b[0mtup\u001b[0m\u001b[0;34m)\u001b[0m\u001b[0;34m\u001b[0m\u001b[0;34m\u001b[0m\u001b[0m\n\u001b[0m\u001b[1;32m   1056\u001b[0m \u001b[0;34m\u001b[0m\u001b[0m\n\u001b[1;32m   1057\u001b[0m     \u001b[0;32mdef\u001b[0m \u001b[0m_get_label\u001b[0m\u001b[0;34m(\u001b[0m\u001b[0mself\u001b[0m\u001b[0;34m,\u001b[0m \u001b[0mlabel\u001b[0m\u001b[0;34m,\u001b[0m \u001b[0maxis\u001b[0m\u001b[0;34m:\u001b[0m \u001b[0mint\u001b[0m\u001b[0;34m)\u001b[0m\u001b[0;34m:\u001b[0m\u001b[0;34m\u001b[0m\u001b[0;34m\u001b[0m\u001b[0m\n",
      "\u001b[0;32m~/opt/anaconda3/lib/python3.8/site-packages/pandas/core/indexing.py\u001b[0m in \u001b[0;36m_getitem_tuple_same_dim\u001b[0;34m(self, tup)\u001b[0m\n\u001b[1;32m    748\u001b[0m                 \u001b[0;32mcontinue\u001b[0m\u001b[0;34m\u001b[0m\u001b[0;34m\u001b[0m\u001b[0m\n\u001b[1;32m    749\u001b[0m \u001b[0;34m\u001b[0m\u001b[0m\n\u001b[0;32m--> 750\u001b[0;31m             \u001b[0mretval\u001b[0m \u001b[0;34m=\u001b[0m \u001b[0mgetattr\u001b[0m\u001b[0;34m(\u001b[0m\u001b[0mretval\u001b[0m\u001b[0;34m,\u001b[0m \u001b[0mself\u001b[0m\u001b[0;34m.\u001b[0m\u001b[0mname\u001b[0m\u001b[0;34m)\u001b[0m\u001b[0;34m.\u001b[0m\u001b[0m_getitem_axis\u001b[0m\u001b[0;34m(\u001b[0m\u001b[0mkey\u001b[0m\u001b[0;34m,\u001b[0m \u001b[0maxis\u001b[0m\u001b[0;34m=\u001b[0m\u001b[0mi\u001b[0m\u001b[0;34m)\u001b[0m\u001b[0;34m\u001b[0m\u001b[0;34m\u001b[0m\u001b[0m\n\u001b[0m\u001b[1;32m    751\u001b[0m             \u001b[0;31m# We should never have retval.ndim < self.ndim, as that should\u001b[0m\u001b[0;34m\u001b[0m\u001b[0;34m\u001b[0m\u001b[0;34m\u001b[0m\u001b[0m\n\u001b[1;32m    752\u001b[0m             \u001b[0;31m#  be handled by the _getitem_lowerdim call above.\u001b[0m\u001b[0;34m\u001b[0m\u001b[0;34m\u001b[0m\u001b[0;34m\u001b[0m\u001b[0m\n",
      "\u001b[0;32m~/opt/anaconda3/lib/python3.8/site-packages/pandas/core/indexing.py\u001b[0m in \u001b[0;36m_getitem_axis\u001b[0;34m(self, key, axis)\u001b[0m\n\u001b[1;32m   1097\u001b[0m                     \u001b[0;32mraise\u001b[0m \u001b[0mValueError\u001b[0m\u001b[0;34m(\u001b[0m\u001b[0;34m\"Cannot index with multidimensional key\"\u001b[0m\u001b[0;34m)\u001b[0m\u001b[0;34m\u001b[0m\u001b[0;34m\u001b[0m\u001b[0m\n\u001b[1;32m   1098\u001b[0m \u001b[0;34m\u001b[0m\u001b[0m\n\u001b[0;32m-> 1099\u001b[0;31m                 \u001b[0;32mreturn\u001b[0m \u001b[0mself\u001b[0m\u001b[0;34m.\u001b[0m\u001b[0m_getitem_iterable\u001b[0m\u001b[0;34m(\u001b[0m\u001b[0mkey\u001b[0m\u001b[0;34m,\u001b[0m \u001b[0maxis\u001b[0m\u001b[0;34m=\u001b[0m\u001b[0maxis\u001b[0m\u001b[0;34m)\u001b[0m\u001b[0;34m\u001b[0m\u001b[0;34m\u001b[0m\u001b[0m\n\u001b[0m\u001b[1;32m   1100\u001b[0m \u001b[0;34m\u001b[0m\u001b[0m\n\u001b[1;32m   1101\u001b[0m             \u001b[0;31m# nested tuple slicing\u001b[0m\u001b[0;34m\u001b[0m\u001b[0;34m\u001b[0m\u001b[0;34m\u001b[0m\u001b[0m\n",
      "\u001b[0;32m~/opt/anaconda3/lib/python3.8/site-packages/pandas/core/indexing.py\u001b[0m in \u001b[0;36m_getitem_iterable\u001b[0;34m(self, key, axis)\u001b[0m\n\u001b[1;32m   1035\u001b[0m \u001b[0;34m\u001b[0m\u001b[0m\n\u001b[1;32m   1036\u001b[0m         \u001b[0;31m# A collection of keys\u001b[0m\u001b[0;34m\u001b[0m\u001b[0;34m\u001b[0m\u001b[0;34m\u001b[0m\u001b[0m\n\u001b[0;32m-> 1037\u001b[0;31m         \u001b[0mkeyarr\u001b[0m\u001b[0;34m,\u001b[0m \u001b[0mindexer\u001b[0m \u001b[0;34m=\u001b[0m \u001b[0mself\u001b[0m\u001b[0;34m.\u001b[0m\u001b[0m_get_listlike_indexer\u001b[0m\u001b[0;34m(\u001b[0m\u001b[0mkey\u001b[0m\u001b[0;34m,\u001b[0m \u001b[0maxis\u001b[0m\u001b[0;34m,\u001b[0m \u001b[0mraise_missing\u001b[0m\u001b[0;34m=\u001b[0m\u001b[0;32mFalse\u001b[0m\u001b[0;34m)\u001b[0m\u001b[0;34m\u001b[0m\u001b[0;34m\u001b[0m\u001b[0m\n\u001b[0m\u001b[1;32m   1038\u001b[0m         return self.obj._reindex_with_indexers(\n\u001b[1;32m   1039\u001b[0m             \u001b[0;34m{\u001b[0m\u001b[0maxis\u001b[0m\u001b[0;34m:\u001b[0m \u001b[0;34m[\u001b[0m\u001b[0mkeyarr\u001b[0m\u001b[0;34m,\u001b[0m \u001b[0mindexer\u001b[0m\u001b[0;34m]\u001b[0m\u001b[0;34m}\u001b[0m\u001b[0;34m,\u001b[0m \u001b[0mcopy\u001b[0m\u001b[0;34m=\u001b[0m\u001b[0;32mTrue\u001b[0m\u001b[0;34m,\u001b[0m \u001b[0mallow_dups\u001b[0m\u001b[0;34m=\u001b[0m\u001b[0;32mTrue\u001b[0m\u001b[0;34m\u001b[0m\u001b[0;34m\u001b[0m\u001b[0m\n",
      "\u001b[0;32m~/opt/anaconda3/lib/python3.8/site-packages/pandas/core/indexing.py\u001b[0m in \u001b[0;36m_get_listlike_indexer\u001b[0;34m(self, key, axis, raise_missing)\u001b[0m\n\u001b[1;32m   1252\u001b[0m             \u001b[0mkeyarr\u001b[0m\u001b[0;34m,\u001b[0m \u001b[0mindexer\u001b[0m\u001b[0;34m,\u001b[0m \u001b[0mnew_indexer\u001b[0m \u001b[0;34m=\u001b[0m \u001b[0max\u001b[0m\u001b[0;34m.\u001b[0m\u001b[0m_reindex_non_unique\u001b[0m\u001b[0;34m(\u001b[0m\u001b[0mkeyarr\u001b[0m\u001b[0;34m)\u001b[0m\u001b[0;34m\u001b[0m\u001b[0;34m\u001b[0m\u001b[0m\n\u001b[1;32m   1253\u001b[0m \u001b[0;34m\u001b[0m\u001b[0m\n\u001b[0;32m-> 1254\u001b[0;31m         \u001b[0mself\u001b[0m\u001b[0;34m.\u001b[0m\u001b[0m_validate_read_indexer\u001b[0m\u001b[0;34m(\u001b[0m\u001b[0mkeyarr\u001b[0m\u001b[0;34m,\u001b[0m \u001b[0mindexer\u001b[0m\u001b[0;34m,\u001b[0m \u001b[0maxis\u001b[0m\u001b[0;34m,\u001b[0m \u001b[0mraise_missing\u001b[0m\u001b[0;34m=\u001b[0m\u001b[0mraise_missing\u001b[0m\u001b[0;34m)\u001b[0m\u001b[0;34m\u001b[0m\u001b[0;34m\u001b[0m\u001b[0m\n\u001b[0m\u001b[1;32m   1255\u001b[0m         \u001b[0;32mreturn\u001b[0m \u001b[0mkeyarr\u001b[0m\u001b[0;34m,\u001b[0m \u001b[0mindexer\u001b[0m\u001b[0;34m\u001b[0m\u001b[0;34m\u001b[0m\u001b[0m\n\u001b[1;32m   1256\u001b[0m \u001b[0;34m\u001b[0m\u001b[0m\n",
      "\u001b[0;32m~/opt/anaconda3/lib/python3.8/site-packages/pandas/core/indexing.py\u001b[0m in \u001b[0;36m_validate_read_indexer\u001b[0;34m(self, key, indexer, axis, raise_missing)\u001b[0m\n\u001b[1;32m   1313\u001b[0m \u001b[0;34m\u001b[0m\u001b[0m\n\u001b[1;32m   1314\u001b[0m                 \u001b[0;32mwith\u001b[0m \u001b[0moption_context\u001b[0m\u001b[0;34m(\u001b[0m\u001b[0;34m\"display.max_seq_items\"\u001b[0m\u001b[0;34m,\u001b[0m \u001b[0;36m10\u001b[0m\u001b[0;34m,\u001b[0m \u001b[0;34m\"display.width\"\u001b[0m\u001b[0;34m,\u001b[0m \u001b[0;36m80\u001b[0m\u001b[0;34m)\u001b[0m\u001b[0;34m:\u001b[0m\u001b[0;34m\u001b[0m\u001b[0;34m\u001b[0m\u001b[0m\n\u001b[0;32m-> 1315\u001b[0;31m                     raise KeyError(\n\u001b[0m\u001b[1;32m   1316\u001b[0m                         \u001b[0;34m\"Passing list-likes to .loc or [] with any missing labels \"\u001b[0m\u001b[0;34m\u001b[0m\u001b[0;34m\u001b[0m\u001b[0m\n\u001b[1;32m   1317\u001b[0m                         \u001b[0;34m\"is no longer supported. \"\u001b[0m\u001b[0;34m\u001b[0m\u001b[0;34m\u001b[0m\u001b[0m\n",
      "\u001b[0;31mKeyError\u001b[0m: \"Passing list-likes to .loc or [] with any missing labels is no longer supported. The following labels were missing: Index(['ID', 'Item'], dtype='object'). See https://pandas.pydata.org/pandas-docs/stable/user_guide/indexing.html#deprecate-loc-reindex-listlike\""
     ]
    }
   ],
   "source": [
    "#most popular items df\n",
    "popular_items_df = purchase_data_df.loc[:, [\"ID\", \"Item\", \"Price\"]]\n",
    "popular_items_df\n",
    "#get item ID, item name, and item price columns\n",
    "#groupby item ID and item name\n",
    "    #popular_items = purchase_data_df.groupby[\"ID\", \"Item\"]\n",
    "    #popular_purchases = purchase_data_df.loc[:, [\"Gender\", \"Price\"]]\n",
    "    #popular_items = pd.DataFrame(popular_purchases.groupby([\"Gender\"]).count())\n",
    "#create df and sort count column in descending order\n",
    "#optional: clean up formatting\n",
    "#print(popular_items_df.head())"
   ]
  },
  {
   "cell_type": "code",
   "execution_count": 2247,
   "metadata": {},
   "outputs": [],
   "source": [
    "#most profitable items df\n",
    "#sort most pop items df by total purchase value in descending order\n",
    "#display a preview of the data .head()"
   ]
  }
 ]
}