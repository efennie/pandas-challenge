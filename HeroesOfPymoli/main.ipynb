{
 "metadata": {
  "language_info": {
   "codemirror_mode": {
    "name": "ipython",
    "version": 3
   },
   "file_extension": ".py",
   "mimetype": "text/x-python",
   "name": "python",
   "nbconvert_exporter": "python",
   "pygments_lexer": "ipython3",
   "version": "3.8.5"
  },
  "orig_nbformat": 2,
  "kernelspec": {
   "name": "python385jvsc74a57bd0b75be9ad71603c40476c6c8216298ace4da278de65ecdbf5da31753ceef4d599",
   "display_name": "Python 3.8.5 64-bit ('base': conda)"
  }
 },
 "nbformat": 4,
 "nbformat_minor": 2,
 "cells": [
  {
   "cell_type": "code",
   "execution_count": 123,
   "metadata": {},
   "outputs": [],
   "source": [
    "#create dependencies\n",
    "import pandas as pd\n",
    "import csv"
   ]
  },
  {
   "cell_type": "code",
   "execution_count": 124,
   "metadata": {},
   "outputs": [],
   "source": [
    "#read csv file\n",
    "file_to_load_df = \"purchase_data.csv\"\n",
    "summary_analysis_df = []\n",
    "unique_items_list = 0"
   ]
  },
  {
   "cell_type": "code",
   "execution_count": 145,
   "metadata": {},
   "outputs": [
    {
     "output_type": "execute_result",
     "data": {
      "text/plain": [
       "   Purchase ID             SN  Age Gender  Item ID  \\\n",
       "0            0        Lisim78   20   Male      108   \n",
       "1            1    Lisovynya38   40   Male      143   \n",
       "2            2     Ithergue48   24   Male       92   \n",
       "3            3  Chamassasya86   24   Male      100   \n",
       "4            4      Iskosia90   23   Male      131   \n",
       "\n",
       "                                   Item Name  Price  \n",
       "0  Extraction, Quickblade Of Trembling Hands   3.53  \n",
       "1                          Frenzied Scimitar   1.56  \n",
       "2                               Final Critic   4.88  \n",
       "3                                Blindscythe   3.27  \n",
       "4                                       Fury   1.44  "
      ],
      "text/html": "<div>\n<style scoped>\n    .dataframe tbody tr th:only-of-type {\n        vertical-align: middle;\n    }\n\n    .dataframe tbody tr th {\n        vertical-align: top;\n    }\n\n    .dataframe thead th {\n        text-align: right;\n    }\n</style>\n<table border=\"1\" class=\"dataframe\">\n  <thead>\n    <tr style=\"text-align: right;\">\n      <th></th>\n      <th>Purchase ID</th>\n      <th>SN</th>\n      <th>Age</th>\n      <th>Gender</th>\n      <th>Item ID</th>\n      <th>Item Name</th>\n      <th>Price</th>\n    </tr>\n  </thead>\n  <tbody>\n    <tr>\n      <th>0</th>\n      <td>0</td>\n      <td>Lisim78</td>\n      <td>20</td>\n      <td>Male</td>\n      <td>108</td>\n      <td>Extraction, Quickblade Of Trembling Hands</td>\n      <td>3.53</td>\n    </tr>\n    <tr>\n      <th>1</th>\n      <td>1</td>\n      <td>Lisovynya38</td>\n      <td>40</td>\n      <td>Male</td>\n      <td>143</td>\n      <td>Frenzied Scimitar</td>\n      <td>1.56</td>\n    </tr>\n    <tr>\n      <th>2</th>\n      <td>2</td>\n      <td>Ithergue48</td>\n      <td>24</td>\n      <td>Male</td>\n      <td>92</td>\n      <td>Final Critic</td>\n      <td>4.88</td>\n    </tr>\n    <tr>\n      <th>3</th>\n      <td>3</td>\n      <td>Chamassasya86</td>\n      <td>24</td>\n      <td>Male</td>\n      <td>100</td>\n      <td>Blindscythe</td>\n      <td>3.27</td>\n    </tr>\n    <tr>\n      <th>4</th>\n      <td>4</td>\n      <td>Iskosia90</td>\n      <td>23</td>\n      <td>Male</td>\n      <td>131</td>\n      <td>Fury</td>\n      <td>1.44</td>\n    </tr>\n  </tbody>\n</table>\n</div>"
     },
     "metadata": {},
     "execution_count": 145
    }
   ],
   "source": [
    "\n",
    "# Read Purchasing File and store into Pandas data frame\n",
    "csv_path = \"/Users/bitty/pandas-challenge/pandas-challenge/Resources/purchase_data.csv\"\n",
    "purchase_data_df = pd.read_csv(csv_path)\n",
    "purchase_data_df.head()"
   ]
  },
  {
   "cell_type": "code",
   "execution_count": 126,
   "metadata": {},
   "outputs": [
    {
     "output_type": "execute_result",
     "data": {
      "text/plain": [
       "[{'Total Number of Players': [780]}]"
      ]
     },
     "metadata": {},
     "execution_count": 126
    }
   ],
   "source": [
    "all_players = purchase_data_df['SN'].count()\n",
    "all_players\n",
    "summary_analysis_df.append({\"Total Number of Players\":[all_players]})\n",
    "#print it as a column? with \"Total Players as the column name\"\n",
    "summary_analysis_df"
   ]
  },
  {
   "cell_type": "code",
   "execution_count": 127,
   "metadata": {},
   "outputs": [],
   "source": [
    "#DELETE THIS LATER\n",
    "#calculate # of players use len\n",
    "#all_players = purchase_data_df['SN'].value_counts()\n",
    "#all_players\n",
    "\n",
    "#print it as a column? with \"Total Players as the column name\"\n"
   ]
  },
  {
   "cell_type": "code",
   "execution_count": 128,
   "metadata": {},
   "outputs": [
    {
     "output_type": "execute_result",
     "data": {
      "text/plain": [
       "Final Critic                                    13\n",
       "Oathbreaker, Last Hope of the Breaking Storm    12\n",
       "Extraction, Quickblade Of Trembling Hands        9\n",
       "Nirvana                                          9\n",
       "Fiery Glass Crusader                             9\n",
       "                                                ..\n",
       "Undead Crusader                                  1\n",
       "Endbringer                                       1\n",
       "Betrayer                                         1\n",
       "Gladiator's Glaive                               1\n",
       "Celeste                                          1\n",
       "Name: Item Name, Length: 179, dtype: int64"
      ]
     },
     "metadata": {},
     "execution_count": 128
    }
   ],
   "source": [
    "#calculate purchase analysis & save to a summary_analysis_df\n",
    "    #number of unique items count\n",
    "unique_items_num = purchase_data_df[\"Item Name\"].value_counts()\n",
    "unique_items_num\n",
    "    "
   ]
  },
  {
   "cell_type": "code",
   "execution_count": 129,
   "metadata": {},
   "outputs": [
    {
     "output_type": "stream",
     "name": "stdout",
     "text": [
      "179\n"
     ]
    }
   ],
   "source": [
    "unique_items = purchase_data_df[\"Item Name\"].unique()\n",
    "print(len(unique_items))"
   ]
  },
  {
   "cell_type": "code",
   "execution_count": 130,
   "metadata": {},
   "outputs": [
    {
     "output_type": "execute_result",
     "data": {
      "text/plain": [
       "[{'Total Number of Players': [780]}, {'Unique Item Counts': [179]}]"
      ]
     },
     "metadata": {},
     "execution_count": 130
    }
   ],
   "source": [
    "#save unique items count to df\n",
    "summary_analysis_df.append({\"Unique Item Counts\":[len(unique_items)]})\n",
    "summary_analysis_df\n"
   ]
  },
  {
   "cell_type": "code",
   "execution_count": 131,
   "metadata": {},
   "outputs": [
    {
     "output_type": "stream",
     "name": "stdout",
     "text": [
      "3.05\n"
     ]
    }
   ],
   "source": [
    "#average price of items\n",
    "average_price_summary = purchase_data_df[\"Price\"]\n",
    "average_price_summary = purchase_data_df[\"Price\"].sum()\n",
    "average_price_summary = (average_price_summary / all_players).round(2)\n",
    "summary_analysis_df.append({\"Average Item Price\":[average_price_summary]})\n",
    "print(average_price_summary)\n"
   ]
  },
  {
   "cell_type": "code",
   "execution_count": 132,
   "metadata": {},
   "outputs": [
    {
     "output_type": "execute_result",
     "data": {
      "text/plain": [
       "780"
      ]
     },
     "metadata": {},
     "execution_count": 132
    }
   ],
   "source": [
    "    #total number of purchases\n",
    "total_purchases = purchase_data_df[\"Purchase ID\"].count()\n",
    "summary_analysis_df.append({\"Total Purchases\":[total_purchases]})\n",
    "total_purchases\n",
    "   "
   ]
  },
  {
   "cell_type": "code",
   "execution_count": 133,
   "metadata": {},
   "outputs": [
    {
     "output_type": "execute_result",
     "data": {
      "text/plain": [
       "2379.77"
      ]
     },
     "metadata": {},
     "execution_count": 133
    }
   ],
   "source": [
    " #total revenue\n",
    "total_revenue = purchase_data_df[\"Price\"].sum()\n",
    "summary_analysis_df.append({\"Total Revenue\":[total_revenue]})\n",
    "total_revenue\n"
   ]
  },
  {
   "cell_type": "code",
   "execution_count": 134,
   "metadata": {},
   "outputs": [
    {
     "output_type": "stream",
     "name": "stdout",
     "text": [
      "[{'Total Number of Players': [780]}, {'Unique Item Counts': [179]}, {'Average Item Price': [3.05]}, {'Total Purchases': [780]}, {'Total Revenue': [2379.77]}]\n"
     ]
    }
   ],
   "source": [
    "#summary analysis table\n",
    "summary_analysis_df\n",
    "\n",
    "print(summary_analysis_df)"
   ]
  },
  {
   "cell_type": "code",
   "execution_count": 135,
   "metadata": {},
   "outputs": [],
   "source": [
    "#summary analysis table\n",
    "#summary_analysis_df\n",
    "#summary_dataframe_df = pd.DataFrame(summary_analysis_df, columns=['Total Number of Players', 'Unique Item Counts', 'Average Item Price', 'Total Purchases', 'Total Revenue'])\n",
    "#print(summary_dataframe_df)"
   ]
  },
  {
   "cell_type": "code",
   "execution_count": 146,
   "metadata": {},
   "outputs": [
    {
     "output_type": "execute_result",
     "data": {
      "text/plain": [
       "Male                     652\n",
       "Female                   113\n",
       "Other / Non-Disclosed     15\n",
       "Name: Gender, dtype: int64"
      ]
     },
     "metadata": {},
     "execution_count": 146
    }
   ],
   "source": [
    "#get a count and percentage of male players & female players & Other/Non-disclosed\n",
    "gendered_purchase_analysis_df = purchase_data_df['Gender'].value_counts()\n",
    "\n",
    "#display the table"
   ]
  },
  {
   "cell_type": "code",
   "execution_count": 138,
   "metadata": {},
   "outputs": [],
   "source": [
    "#create a purchase analysis by gender & save to gendered_purchase_analysis_df\n",
    "#purchase count\n",
    "#average purchase price\n",
    "#total purchase value\n",
    "#average total purchase per person\n",
    "#create df and print results"
   ]
  },
  {
   "cell_type": "code",
   "execution_count": 139,
   "metadata": {},
   "outputs": [],
   "source": [
    "#age demographics\n",
    "#establish bins for age group (<10, 10-14, 15-19, 20-24, 25-29, 30-34, 35-39, 40+)\n",
    "#categorize existing players into age bins ---> pd.cut()\n",
    "#summarize results in a age_demo_df\n",
    "#round percentages to 2 decimal points format column \n",
    "#print(age_demo_df.head())"
   ]
  },
  {
   "cell_type": "code",
   "execution_count": 140,
   "metadata": {},
   "outputs": [],
   "source": [
    "#create another purchase analysis by age\n",
    "#calculate purchase count, av purchase price, total purchase value, av total purchase per person\n",
    "#print(analysis_by_age_df)"
   ]
  },
  {
   "cell_type": "code",
   "execution_count": 141,
   "metadata": {},
   "outputs": [],
   "source": [
    "#create a df of top_spenders_df and run analysis on purchase count, av purchase price, total purchase value, along with their screen name\n",
    "#print(top_spenders_df.head())"
   ]
  },
  {
   "cell_type": "code",
   "execution_count": 142,
   "metadata": {},
   "outputs": [],
   "source": [
    "#most popular items df\n",
    "#get item ID, item name, and item price columns\n",
    "#groupby item ID and item name\n",
    "#create df and sort count column in descending order\n",
    "#optional: clean up formatting\n",
    "#print(popular_items_df.head())"
   ]
  },
  {
   "cell_type": "code",
   "execution_count": 143,
   "metadata": {},
   "outputs": [],
   "source": [
    "#most profitable items df\n",
    "#sort most pop items df by total purchase value in descending order\n",
    "#display a preview of the data .head()"
   ]
  }
 ]
}