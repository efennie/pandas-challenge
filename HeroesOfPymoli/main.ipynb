{
 "metadata": {
  "language_info": {
   "codemirror_mode": {
    "name": "ipython",
    "version": 3
   },
   "file_extension": ".py",
   "mimetype": "text/x-python",
   "name": "python",
   "nbconvert_exporter": "python",
   "pygments_lexer": "ipython3",
   "version": "3.8.5"
  },
  "orig_nbformat": 2,
  "kernelspec": {
   "name": "python385jvsc74a57bd0b75be9ad71603c40476c6c8216298ace4da278de65ecdbf5da31753ceef4d599",
   "display_name": "Python 3.8.5 64-bit ('base': conda)"
  }
 },
 "nbformat": 4,
 "nbformat_minor": 2,
 "cells": [
  {
   "cell_type": "code",
   "execution_count": 3018,
   "metadata": {},
   "outputs": [],
   "source": [
    "#create dependencies\n",
    "import pandas as pd\n",
    "import csv"
   ]
  },
  {
   "cell_type": "code",
   "execution_count": 3019,
   "metadata": {},
   "outputs": [],
   "source": [
    "#read csv file\n",
    "file_to_load_df = \"purchase_data.csv\"\n",
    "summary_analysis_df = []\n",
    "unique_items_list = 0\n",
    "gendered_purchase_analysis_df = []"
   ]
  },
  {
   "cell_type": "code",
   "execution_count": 3020,
   "metadata": {},
   "outputs": [
    {
     "output_type": "execute_result",
     "data": {
      "text/plain": [
       "   Purchase ID             SN  Age Gender  Item ID  \\\n",
       "0            0        Lisim78   20   Male      108   \n",
       "1            1    Lisovynya38   40   Male      143   \n",
       "2            2     Ithergue48   24   Male       92   \n",
       "3            3  Chamassasya86   24   Male      100   \n",
       "4            4      Iskosia90   23   Male      131   \n",
       "\n",
       "                                   Item Name  Price  \n",
       "0  Extraction, Quickblade Of Trembling Hands   3.53  \n",
       "1                          Frenzied Scimitar   1.56  \n",
       "2                               Final Critic   4.88  \n",
       "3                                Blindscythe   3.27  \n",
       "4                                       Fury   1.44  "
      ],
      "text/html": "<div>\n<style scoped>\n    .dataframe tbody tr th:only-of-type {\n        vertical-align: middle;\n    }\n\n    .dataframe tbody tr th {\n        vertical-align: top;\n    }\n\n    .dataframe thead th {\n        text-align: right;\n    }\n</style>\n<table border=\"1\" class=\"dataframe\">\n  <thead>\n    <tr style=\"text-align: right;\">\n      <th></th>\n      <th>Purchase ID</th>\n      <th>SN</th>\n      <th>Age</th>\n      <th>Gender</th>\n      <th>Item ID</th>\n      <th>Item Name</th>\n      <th>Price</th>\n    </tr>\n  </thead>\n  <tbody>\n    <tr>\n      <th>0</th>\n      <td>0</td>\n      <td>Lisim78</td>\n      <td>20</td>\n      <td>Male</td>\n      <td>108</td>\n      <td>Extraction, Quickblade Of Trembling Hands</td>\n      <td>3.53</td>\n    </tr>\n    <tr>\n      <th>1</th>\n      <td>1</td>\n      <td>Lisovynya38</td>\n      <td>40</td>\n      <td>Male</td>\n      <td>143</td>\n      <td>Frenzied Scimitar</td>\n      <td>1.56</td>\n    </tr>\n    <tr>\n      <th>2</th>\n      <td>2</td>\n      <td>Ithergue48</td>\n      <td>24</td>\n      <td>Male</td>\n      <td>92</td>\n      <td>Final Critic</td>\n      <td>4.88</td>\n    </tr>\n    <tr>\n      <th>3</th>\n      <td>3</td>\n      <td>Chamassasya86</td>\n      <td>24</td>\n      <td>Male</td>\n      <td>100</td>\n      <td>Blindscythe</td>\n      <td>3.27</td>\n    </tr>\n    <tr>\n      <th>4</th>\n      <td>4</td>\n      <td>Iskosia90</td>\n      <td>23</td>\n      <td>Male</td>\n      <td>131</td>\n      <td>Fury</td>\n      <td>1.44</td>\n    </tr>\n  </tbody>\n</table>\n</div>"
     },
     "metadata": {},
     "execution_count": 3020
    }
   ],
   "source": [
    "\n",
    "# Read Purchasing File and store into Pandas data frame\n",
    "csv_path = \"/Users/bitty/pandas-challenge/pandas-challenge/Resources/purchase_data.csv\"\n",
    "purchase_data_df = pd.read_csv(csv_path)\n",
    "purchase_data_df.head()"
   ]
  },
  {
   "cell_type": "code",
   "execution_count": 3021,
   "metadata": {},
   "outputs": [
    {
     "output_type": "execute_result",
     "data": {
      "text/plain": [
       "576"
      ]
     },
     "metadata": {},
     "execution_count": 3021
    }
   ],
   "source": [
    "all_players = purchase_data_df['SN'].nunique()\n",
    "all_players\n"
   ]
  },
  {
   "cell_type": "code",
   "execution_count": 3022,
   "metadata": {},
   "outputs": [
    {
     "output_type": "execute_result",
     "data": {
      "text/plain": [
       "Final Critic                                    13\n",
       "Oathbreaker, Last Hope of the Breaking Storm    12\n",
       "Extraction, Quickblade Of Trembling Hands        9\n",
       "Nirvana                                          9\n",
       "Fiery Glass Crusader                             9\n",
       "                                                ..\n",
       "Undead Crusader                                  1\n",
       "Endbringer                                       1\n",
       "Betrayer                                         1\n",
       "Gladiator's Glaive                               1\n",
       "Celeste                                          1\n",
       "Name: Item Name, Length: 179, dtype: int64"
      ]
     },
     "metadata": {},
     "execution_count": 3022
    }
   ],
   "source": [
    "#calculate purchase analysis & save to a summary_analysis_df\n",
    "    #number of unique items count\n",
    "unique_items_num = purchase_data_df[\"Item Name\"].value_counts()\n",
    "unique_items_num\n",
    "    "
   ]
  },
  {
   "cell_type": "code",
   "execution_count": 3023,
   "metadata": {},
   "outputs": [
    {
     "output_type": "stream",
     "name": "stdout",
     "text": [
      "179\n"
     ]
    }
   ],
   "source": [
    "unique_items = purchase_data_df[\"Item Name\"].unique()\n",
    "print(len(unique_items))"
   ]
  },
  {
   "cell_type": "code",
   "execution_count": 3024,
   "metadata": {},
   "outputs": [
    {
     "output_type": "stream",
     "name": "stdout",
     "text": [
      "3.05\n"
     ]
    }
   ],
   "source": [
    "#average price of items\n",
    "average_price_summary = purchase_data_df[\"Price\"]\n",
    "average_price_summary = purchase_data_df[\"Price\"].sum()\n",
    "average_price_summary = (average_price_summary / total_purchases).round(2)\n",
    "print(average_price_summary)\n"
   ]
  },
  {
   "cell_type": "code",
   "execution_count": 3025,
   "metadata": {},
   "outputs": [
    {
     "output_type": "execute_result",
     "data": {
      "text/plain": [
       "780"
      ]
     },
     "metadata": {},
     "execution_count": 3025
    }
   ],
   "source": [
    "    #total number of purchases\n",
    "total_purchases = purchase_data_df[\"Purchase ID\"].count()\n",
    "total_purchases\n",
    "   "
   ]
  },
  {
   "cell_type": "code",
   "execution_count": 3026,
   "metadata": {},
   "outputs": [
    {
     "output_type": "execute_result",
     "data": {
      "text/plain": [
       "2379.77"
      ]
     },
     "metadata": {},
     "execution_count": 3026
    }
   ],
   "source": [
    " #total revenue\n",
    "total_revenue = purchase_data_df[\"Price\"].sum()\n",
    "total_revenue\n"
   ]
  },
  {
   "cell_type": "code",
   "execution_count": 3027,
   "metadata": {},
   "outputs": [
    {
     "output_type": "stream",
     "name": "stdout",
     "text": [
      "   Total Numbers of Players  Unique Item Counts  Average  Total Purchases  \\\n0                       576                 179     3.05              780   \n\n   Total Revenue  \n0        2379.77  \n"
     ]
    }
   ],
   "source": [
    "#summary analysis table\n",
    "summary_analysis_df = pd.DataFrame({\"Total Numbers of Players\": all_players, \"Unique Item Counts\": len(unique_items), \"Average\": average_price_summary, \"Total Purchases\": total_purchases, \"Total Revenue\": total_revenue}, index=[0])\n",
    "print(summary_analysis_df)"
   ]
  },
  {
   "cell_type": "code",
   "execution_count": 3028,
   "metadata": {},
   "outputs": [
    {
     "output_type": "execute_result",
     "data": {
      "text/plain": [
       "Male                     484\n",
       "Female                    81\n",
       "Other / Non-Disclosed     11\n",
       "Name: Gender, dtype: int64"
      ]
     },
     "metadata": {},
     "execution_count": 3028
    }
   ],
   "source": [
    "no_duplicates = purchase_data_df.loc[:, [\"SN\", \"Gender\"]]\n",
    "no_duplicates = no_duplicates.drop_duplicates()\n",
    "#get a count and percentage of male players & female players & Other/Non-disclosed\n",
    "gendered_value_counts_df = no_duplicates['Gender'].value_counts()\n",
    "gendered_value_counts_df\n",
    "#display the table"
   ]
  },
  {
   "cell_type": "code",
   "execution_count": 3029,
   "metadata": {},
   "outputs": [
    {
     "output_type": "execute_result",
     "data": {
      "text/plain": [
       "                       Player Count Percentage\n",
       "Male                            484     84.03%\n",
       "Female                           81     14.06%\n",
       "Other / Non-Disclosed            11      1.91%"
      ],
      "text/html": "<div>\n<style scoped>\n    .dataframe tbody tr th:only-of-type {\n        vertical-align: middle;\n    }\n\n    .dataframe tbody tr th {\n        vertical-align: top;\n    }\n\n    .dataframe thead th {\n        text-align: right;\n    }\n</style>\n<table border=\"1\" class=\"dataframe\">\n  <thead>\n    <tr style=\"text-align: right;\">\n      <th></th>\n      <th>Player Count</th>\n      <th>Percentage</th>\n    </tr>\n  </thead>\n  <tbody>\n    <tr>\n      <th>Male</th>\n      <td>484</td>\n      <td>84.03%</td>\n    </tr>\n    <tr>\n      <th>Female</th>\n      <td>81</td>\n      <td>14.06%</td>\n    </tr>\n    <tr>\n      <th>Other / Non-Disclosed</th>\n      <td>11</td>\n      <td>1.91%</td>\n    </tr>\n  </tbody>\n</table>\n</div>"
     },
     "metadata": {},
     "execution_count": 3029
    }
   ],
   "source": [
    "#percentages per gender (FORMAT PERCENTAGE LATER)\n",
    "gender_percent = ((gendered_value_counts_df/all_players)*100).round(2) \n",
    "gender_percent\n",
    "gendered_analysis_df = pd.DataFrame({\"Player Count\": gendered_value_counts_df, \"Percentage\": gender_percent})\n",
    "gendered_analysis_df[\"Percentage\"] = gendered_analysis_df[\"Percentage\"].map(\"{:.2f}%\".format)\n",
    "gendered_analysis_df\n",
    "\n"
   ]
  },
  {
   "cell_type": "code",
   "execution_count": 3030,
   "metadata": {},
   "outputs": [
    {
     "output_type": "stream",
     "name": "stdout",
     "text": [
      "                       Price\nGender                      \nFemale                   113\nMale                     652\nOther / Non-Disclosed     15\n                       Price\nGender                      \nFemale                  3.20\nMale                    3.02\nOther / Non-Disclosed   3.35\n                         Price\nGender                        \nFemale                  361.94\nMale                   1967.64\nOther / Non-Disclosed    50.19\n"
     ]
    }
   ],
   "source": [
    "#create a purchase analysis by gender & save to gendered_purchase_analysis_df\n",
    "gendered_purchases = purchase_data_df.loc[:, [\"Gender\", \"Price\"]]\n",
    "gendered_purchases\n",
    "\n",
    "#purchase count\n",
    "purchases_by_gender = pd.DataFrame(gendered_purchases.groupby([\"Gender\"]).count())\n",
    "print(purchases_by_gender)\n",
    "\n",
    "#average purchase price\n",
    "average_purchases_by_gender = pd.DataFrame(gendered_purchases.groupby([\"Gender\"]).mean().round(2))\n",
    "print(average_purchases_by_gender)\n",
    "\n",
    "#total purchase value\n",
    "total_value_by_gender = pd.DataFrame(gendered_purchases.groupby([\"Gender\"]).sum())\n",
    "print(total_value_by_gender)\n",
    "\n",
    "\n"
   ]
  },
  {
   "cell_type": "code",
   "execution_count": 3031,
   "metadata": {},
   "outputs": [
    {
     "output_type": "stream",
     "name": "stdout",
     "text": [
      "                       Average Total Purchase\nFemale                                   4.47\nMale                                     4.07\nOther / Non-Disclosed                    4.56\n"
     ]
    }
   ],
   "source": [
    "#average total purchase per person (by gender values)\n",
    "average_total_purchase = (total_value_by_gender[\"Price\"] / gendered_analysis_df[\"Player Count\"]).round(2)\n",
    "average_total_purchase = pd.DataFrame({\"Average Total Purchase\":average_total_purchase})\n",
    "print(average_total_purchase)"
   ]
  },
  {
   "cell_type": "code",
   "execution_count": 3032,
   "metadata": {},
   "outputs": [
    {
     "output_type": "execute_result",
     "data": {
      "text/plain": [
       "                       Purchases  Average Purchases\n",
       "Gender                                             \n",
       "Female                       113               3.20\n",
       "Male                         652               3.02\n",
       "Other / Non-Disclosed         15               3.35"
      ],
      "text/html": "<div>\n<style scoped>\n    .dataframe tbody tr th:only-of-type {\n        vertical-align: middle;\n    }\n\n    .dataframe tbody tr th {\n        vertical-align: top;\n    }\n\n    .dataframe thead th {\n        text-align: right;\n    }\n</style>\n<table border=\"1\" class=\"dataframe\">\n  <thead>\n    <tr style=\"text-align: right;\">\n      <th></th>\n      <th>Purchases</th>\n      <th>Average Purchases</th>\n    </tr>\n    <tr>\n      <th>Gender</th>\n      <th></th>\n      <th></th>\n    </tr>\n  </thead>\n  <tbody>\n    <tr>\n      <th>Female</th>\n      <td>113</td>\n      <td>3.20</td>\n    </tr>\n    <tr>\n      <th>Male</th>\n      <td>652</td>\n      <td>3.02</td>\n    </tr>\n    <tr>\n      <th>Other / Non-Disclosed</th>\n      <td>15</td>\n      <td>3.35</td>\n    </tr>\n  </tbody>\n</table>\n</div>"
     },
     "metadata": {},
     "execution_count": 3032
    }
   ],
   "source": [
    "#create df and print results\n",
    "gender_summary_df = pd.merge(purchases_by_gender, average_purchases_by_gender, on=\"Gender\")\n",
    "gender_summary_df = gender_summary_df.rename(columns={\"Price_x\":\"Purchases\", \"Price_y\":\"Average Purchases\"})\n",
    "gender_summary_df"
   ]
  },
  {
   "cell_type": "code",
   "execution_count": 3033,
   "metadata": {},
   "outputs": [
    {
     "output_type": "execute_result",
     "data": {
      "text/plain": [
       "                       Purchases  Average Purchases  Total Revenue\n",
       "Gender                                                            \n",
       "Female                       113               3.20         361.94\n",
       "Male                         652               3.02        1967.64\n",
       "Other / Non-Disclosed         15               3.35          50.19"
      ],
      "text/html": "<div>\n<style scoped>\n    .dataframe tbody tr th:only-of-type {\n        vertical-align: middle;\n    }\n\n    .dataframe tbody tr th {\n        vertical-align: top;\n    }\n\n    .dataframe thead th {\n        text-align: right;\n    }\n</style>\n<table border=\"1\" class=\"dataframe\">\n  <thead>\n    <tr style=\"text-align: right;\">\n      <th></th>\n      <th>Purchases</th>\n      <th>Average Purchases</th>\n      <th>Total Revenue</th>\n    </tr>\n    <tr>\n      <th>Gender</th>\n      <th></th>\n      <th></th>\n      <th></th>\n    </tr>\n  </thead>\n  <tbody>\n    <tr>\n      <th>Female</th>\n      <td>113</td>\n      <td>3.20</td>\n      <td>361.94</td>\n    </tr>\n    <tr>\n      <th>Male</th>\n      <td>652</td>\n      <td>3.02</td>\n      <td>1967.64</td>\n    </tr>\n    <tr>\n      <th>Other / Non-Disclosed</th>\n      <td>15</td>\n      <td>3.35</td>\n      <td>50.19</td>\n    </tr>\n  </tbody>\n</table>\n</div>"
     },
     "metadata": {},
     "execution_count": 3033
    }
   ],
   "source": [
    "gender_summary_df = pd.merge(gender_summary_df, total_value_by_gender, on=\"Gender\")\n",
    "gender_summary_df = gender_summary_df.rename(columns={\"Price\":\"Total Revenue\"})\n",
    "gender_summary_df\n"
   ]
  },
  {
   "cell_type": "code",
   "execution_count": 3034,
   "metadata": {},
   "outputs": [
    {
     "output_type": "execute_result",
     "data": {
      "text/plain": [
       "                       Purchases  Average Purchases  Total Revenue  \\\n",
       "Gender                                                               \n",
       "Female                       113               3.20         361.94   \n",
       "Male                         652               3.02        1967.64   \n",
       "Other / Non-Disclosed         15               3.35          50.19   \n",
       "\n",
       "                       Average Total Purchase  \n",
       "Gender                                         \n",
       "Female                                   4.47  \n",
       "Male                                     4.07  \n",
       "Other / Non-Disclosed                    4.56  "
      ],
      "text/html": "<div>\n<style scoped>\n    .dataframe tbody tr th:only-of-type {\n        vertical-align: middle;\n    }\n\n    .dataframe tbody tr th {\n        vertical-align: top;\n    }\n\n    .dataframe thead th {\n        text-align: right;\n    }\n</style>\n<table border=\"1\" class=\"dataframe\">\n  <thead>\n    <tr style=\"text-align: right;\">\n      <th></th>\n      <th>Purchases</th>\n      <th>Average Purchases</th>\n      <th>Total Revenue</th>\n      <th>Average Total Purchase</th>\n    </tr>\n    <tr>\n      <th>Gender</th>\n      <th></th>\n      <th></th>\n      <th></th>\n      <th></th>\n    </tr>\n  </thead>\n  <tbody>\n    <tr>\n      <th>Female</th>\n      <td>113</td>\n      <td>3.20</td>\n      <td>361.94</td>\n      <td>4.47</td>\n    </tr>\n    <tr>\n      <th>Male</th>\n      <td>652</td>\n      <td>3.02</td>\n      <td>1967.64</td>\n      <td>4.07</td>\n    </tr>\n    <tr>\n      <th>Other / Non-Disclosed</th>\n      <td>15</td>\n      <td>3.35</td>\n      <td>50.19</td>\n      <td>4.56</td>\n    </tr>\n  </tbody>\n</table>\n</div>"
     },
     "metadata": {},
     "execution_count": 3034
    }
   ],
   "source": [
    "gender_summary_df = pd.concat([gender_summary_df, average_total_purchase], axis=1)\n",
    "gender_summary_df"
   ]
  },
  {
   "cell_type": "code",
   "execution_count": 3035,
   "metadata": {},
   "outputs": [
    {
     "output_type": "stream",
     "name": "stdout",
     "text": [
      "45\n"
     ]
    }
   ],
   "source": [
    "#Find out the oldest player, in order to establish bin range\n",
    "column = purchase_data_df[\"Age\"]\n",
    "max_value = column.max()\n",
    "print(max_value)\n"
   ]
  },
  {
   "cell_type": "code",
   "execution_count": 3036,
   "metadata": {},
   "outputs": [
    {
     "output_type": "execute_result",
     "data": {
      "text/plain": [
       "   Purchase ID             SN  Age Gender  Item ID  \\\n",
       "0            0        Lisim78   20   Male      108   \n",
       "1            1    Lisovynya38   40   Male      143   \n",
       "2            2     Ithergue48   24   Male       92   \n",
       "3            3  Chamassasya86   24   Male      100   \n",
       "4            4      Iskosia90   23   Male      131   \n",
       "\n",
       "                                   Item Name  Price        Age Group  \n",
       "0  Extraction, Quickblade Of Trembling Hands   3.53  15-19 years old  \n",
       "1                          Frenzied Scimitar   1.56    40+ years old  \n",
       "2                               Final Critic   4.88  20-24 years old  \n",
       "3                                Blindscythe   3.27  20-24 years old  \n",
       "4                                       Fury   1.44  20-24 years old  "
      ],
      "text/html": "<div>\n<style scoped>\n    .dataframe tbody tr th:only-of-type {\n        vertical-align: middle;\n    }\n\n    .dataframe tbody tr th {\n        vertical-align: top;\n    }\n\n    .dataframe thead th {\n        text-align: right;\n    }\n</style>\n<table border=\"1\" class=\"dataframe\">\n  <thead>\n    <tr style=\"text-align: right;\">\n      <th></th>\n      <th>Purchase ID</th>\n      <th>SN</th>\n      <th>Age</th>\n      <th>Gender</th>\n      <th>Item ID</th>\n      <th>Item Name</th>\n      <th>Price</th>\n      <th>Age Group</th>\n    </tr>\n  </thead>\n  <tbody>\n    <tr>\n      <th>0</th>\n      <td>0</td>\n      <td>Lisim78</td>\n      <td>20</td>\n      <td>Male</td>\n      <td>108</td>\n      <td>Extraction, Quickblade Of Trembling Hands</td>\n      <td>3.53</td>\n      <td>15-19 years old</td>\n    </tr>\n    <tr>\n      <th>1</th>\n      <td>1</td>\n      <td>Lisovynya38</td>\n      <td>40</td>\n      <td>Male</td>\n      <td>143</td>\n      <td>Frenzied Scimitar</td>\n      <td>1.56</td>\n      <td>40+ years old</td>\n    </tr>\n    <tr>\n      <th>2</th>\n      <td>2</td>\n      <td>Ithergue48</td>\n      <td>24</td>\n      <td>Male</td>\n      <td>92</td>\n      <td>Final Critic</td>\n      <td>4.88</td>\n      <td>20-24 years old</td>\n    </tr>\n    <tr>\n      <th>3</th>\n      <td>3</td>\n      <td>Chamassasya86</td>\n      <td>24</td>\n      <td>Male</td>\n      <td>100</td>\n      <td>Blindscythe</td>\n      <td>3.27</td>\n      <td>20-24 years old</td>\n    </tr>\n    <tr>\n      <th>4</th>\n      <td>4</td>\n      <td>Iskosia90</td>\n      <td>23</td>\n      <td>Male</td>\n      <td>131</td>\n      <td>Fury</td>\n      <td>1.44</td>\n      <td>20-24 years old</td>\n    </tr>\n  </tbody>\n</table>\n</div>"
     },
     "metadata": {},
     "execution_count": 3036
    }
   ],
   "source": [
    "#age demographics\n",
    "#establish bins for age group (<10, 10-14, 15-19, 20-24, 25-29, 30-34, 35-39, 40+)\n",
    "bins = [0, 10, 15, 20, 25, 30, 35, 39, 46]\n",
    "group_names = [\">10 years old\", \"10-14 years old\", \"15-19 years old\", \"20-24 years old\", \"25-29 years old\", \"30-34 years old\", \"35-39 years old\", \"40+ years old\"]\n",
    "#categorize existing players into age bins ---> pd.cut()\n",
    "purchase_data_df[\"Age Group\"] = pd.cut(purchase_data_df[\"Age\"], bins, labels=group_names, include_lowest=True)\n",
    "purchase_data_df.head()\n",
    "#summarize results in a age_demo_df"
   ]
  },
  {
   "cell_type": "code",
   "execution_count": 3037,
   "metadata": {},
   "outputs": [
    {
     "output_type": "execute_result",
     "data": {
      "text/plain": [
       "                 Total Players in Age Group\n",
       "Age Group                                  \n",
       ">10 years old                            24\n",
       "10-14 years old                          41\n",
       "15-19 years old                         150\n",
       "20-24 years old                         232\n",
       "25-29 years old                          59\n",
       "30-34 years old                          37\n",
       "35-39 years old                          21\n",
       "40+ years old                            12"
      ],
      "text/html": "<div>\n<style scoped>\n    .dataframe tbody tr th:only-of-type {\n        vertical-align: middle;\n    }\n\n    .dataframe tbody tr th {\n        vertical-align: top;\n    }\n\n    .dataframe thead th {\n        text-align: right;\n    }\n</style>\n<table border=\"1\" class=\"dataframe\">\n  <thead>\n    <tr style=\"text-align: right;\">\n      <th></th>\n      <th>Total Players in Age Group</th>\n    </tr>\n    <tr>\n      <th>Age Group</th>\n      <th></th>\n    </tr>\n  </thead>\n  <tbody>\n    <tr>\n      <th>&gt;10 years old</th>\n      <td>24</td>\n    </tr>\n    <tr>\n      <th>10-14 years old</th>\n      <td>41</td>\n    </tr>\n    <tr>\n      <th>15-19 years old</th>\n      <td>150</td>\n    </tr>\n    <tr>\n      <th>20-24 years old</th>\n      <td>232</td>\n    </tr>\n    <tr>\n      <th>25-29 years old</th>\n      <td>59</td>\n    </tr>\n    <tr>\n      <th>30-34 years old</th>\n      <td>37</td>\n    </tr>\n    <tr>\n      <th>35-39 years old</th>\n      <td>21</td>\n    </tr>\n    <tr>\n      <th>40+ years old</th>\n      <td>12</td>\n    </tr>\n  </tbody>\n</table>\n</div>"
     },
     "metadata": {},
     "execution_count": 3037
    }
   ],
   "source": [
    "no_duplicates = purchase_data_df.loc[:, [\"SN\", \"Age Group\"]]\n",
    "no_duplicates = no_duplicates.drop_duplicates()\n",
    "#get a count and percentage of male players & female players & Other/Non-disclosed\n",
    "age_group_df = pd.DataFrame(no_duplicates.groupby([\"Age Group\"]).count())\n",
    "age_group_df = age_group_df.rename(columns= {\"SN\":\"Total Players in Age Group\"})\n",
    "age_group_df\n",
    "#display the table"
   ]
  },
  {
   "cell_type": "code",
   "execution_count": 3038,
   "metadata": {},
   "outputs": [
    {
     "output_type": "stream",
     "name": "stdout",
     "text": [
      "                 Total Purchases\nAge Group                       \n>10 years old                 32\n10-14 years old               54\n15-19 years old              200\n20-24 years old              325\n25-29 years old               77\n30-34 years old               52\n35-39 years old               27\n40+ years old                 13\n"
     ]
    }
   ],
   "source": [
    "#create another purchase analysis by age\n",
    "#calculate purchase count\n",
    "purchases_by_age_group = purchase_data_df.loc[:, [\"Age Group\", \"Price\"]]\n",
    "purchases_by_age_group = pd.DataFrame(purchases_by_age_group.groupby([\"Age Group\"]).count())\n",
    "purchases_by_age_group = purchases_by_age_group.rename(columns= {\"Price\":\"Total Purchases\"})\n",
    "print(purchases_by_age_group)\n",
    "\n"
   ]
  },
  {
   "cell_type": "code",
   "execution_count": 3039,
   "metadata": {},
   "outputs": [
    {
     "output_type": "stream",
     "name": "stdout",
     "text": [
      "                 Price\nAge Group             \n>10 years old     3.40\n10-14 years old   2.90\n15-19 years old   3.11\n20-24 years old   3.02\n25-29 years old   2.88\n30-34 years old   2.99\n35-39 years old   3.54\n40+ years old     2.94\n"
     ]
    }
   ],
   "source": [
    "#calculate av purchase price \n",
    "average_purchase_by_age = purchase_data_df.loc[:, [\"Age Group\", \"Price\"]]\n",
    "average_purchase_by_age = pd.DataFrame(average_purchase_by_age.groupby([\"Age Group\"]).mean().round(2))\n",
    "print(average_purchase_by_age)\n"
   ]
  },
  {
   "cell_type": "code",
   "execution_count": 3040,
   "metadata": {},
   "outputs": [
    {
     "output_type": "stream",
     "name": "stdout",
     "text": [
      "                  Price\nAge Group              \n>10 years old    108.96\n10-14 years old  156.60\n15-19 years old  621.56\n20-24 years old  981.64\n25-29 years old  221.42\n30-34 years old  155.71\n35-39 years old   95.64\n40+ years old     38.24\n"
     ]
    }
   ],
   "source": [
    "\n",
    "#calculate total purchase value \n",
    "total_purchased_by_age = purchase_data_df.loc[:, [\"Age Group\", \"Price\"]]\n",
    "total_purchased_by_age = pd.DataFrame(total_purchased_by_age.groupby([\"Age Group\"]).sum())\n",
    "print(total_purchased_by_age)\n"
   ]
  },
  {
   "cell_type": "code",
   "execution_count": 3041,
   "metadata": {},
   "outputs": [
    {
     "output_type": "stream",
     "name": "stdout",
     "text": [
      "                 Average Purchase per Player per Group\nAge Group                                             \n>10 years old                                     3.40\n10-14 years old                                   2.90\n15-19 years old                                   3.11\n20-24 years old                                   3.02\n25-29 years old                                   2.88\n30-34 years old                                   2.99\n35-39 years old                                   3.54\n40+ years old                                     2.94\n"
     ]
    }
   ],
   "source": [
    "\n",
    "# calculate av total purchase per person\n",
    "average_total_purchase_by_age = (total_purchased_by_age[\"Price\"] / age_group_df[\"Total Players in Age Group\"])\n",
    "average_total_purchase_by_age = average_purchase_by_age.rename(columns={\"Price\":\"Average Purchase per Player per Group\"})\n",
    "print(average_total_purchase_by_age)\n"
   ]
  },
  {
   "cell_type": "code",
   "execution_count": 3042,
   "metadata": {},
   "outputs": [
    {
     "output_type": "stream",
     "name": "stdout",
     "text": [
      "                 Total Players in Age Group  Total Purchases\nAge Group                                                   \n>10 years old                            24               32\n10-14 years old                          41               54\n15-19 years old                         150              200\n20-24 years old                         232              325\n25-29 years old                          59               77\n30-34 years old                          37               52\n35-39 years old                          21               27\n40+ years old                            12               13\n"
     ]
    }
   ],
   "source": [
    "#merge data\n",
    "age_summary_df = pd.merge(age_group_df, purchases_by_age_group, on=\"Age Group\")\n",
    "print(age_summary_df)"
   ]
  },
  {
   "cell_type": "code",
   "execution_count": 3043,
   "metadata": {},
   "outputs": [
    {
     "output_type": "stream",
     "name": "stdout",
     "text": [
      "                 Total Players in Age Group  Total Purchases  \\\nAge Group                                                      \n>10 years old                            24               32   \n10-14 years old                          41               54   \n15-19 years old                         150              200   \n20-24 years old                         232              325   \n25-29 years old                          59               77   \n30-34 years old                          37               52   \n35-39 years old                          21               27   \n40+ years old                            12               13   \n\n                 Average Purchase Price  \nAge Group                                \n>10 years old                      3.40  \n10-14 years old                    2.90  \n15-19 years old                    3.11  \n20-24 years old                    3.02  \n25-29 years old                    2.88  \n30-34 years old                    2.99  \n35-39 years old                    3.54  \n40+ years old                      2.94  \n"
     ]
    }
   ],
   "source": [
    "#merge data pt 2\n",
    "age_summary_df = pd.merge(age_summary_df, average_purchase_by_age, on=\"Age Group\")\n",
    "age_summary_df = age_summary_df.rename(columns= {\"Price\":\"Average Purchase Price\"})\n",
    "print(age_summary_df)"
   ]
  },
  {
   "cell_type": "code",
   "execution_count": 3044,
   "metadata": {},
   "outputs": [
    {
     "output_type": "stream",
     "name": "stdout",
     "text": [
      "                 Total Players in Age Group  Total Purchases  \\\nAge Group                                                      \n>10 years old                            24               32   \n10-14 years old                          41               54   \n15-19 years old                         150              200   \n20-24 years old                         232              325   \n25-29 years old                          59               77   \n30-34 years old                          37               52   \n35-39 years old                          21               27   \n40+ years old                            12               13   \n\n                 Average Purchase Price  Total Purchase Value  \nAge Group                                                      \n>10 years old                      3.40                108.96  \n10-14 years old                    2.90                156.60  \n15-19 years old                    3.11                621.56  \n20-24 years old                    3.02                981.64  \n25-29 years old                    2.88                221.42  \n30-34 years old                    2.99                155.71  \n35-39 years old                    3.54                 95.64  \n40+ years old                      2.94                 38.24  \n"
     ]
    }
   ],
   "source": [
    "#merge data pt 3\n",
    "age_summary_df = pd.merge(age_summary_df, total_purchased_by_age, on=\"Age Group\")\n",
    "age_summary_df = age_summary_df.rename(columns= {\"Price\":\"Total Purchase Value\"})\n",
    "print(age_summary_df)"
   ]
  },
  {
   "cell_type": "code",
   "execution_count": 3045,
   "metadata": {},
   "outputs": [
    {
     "output_type": "stream",
     "name": "stdout",
     "text": [
      "                 Total Players in Age Group  Total Purchases  \\\nAge Group                                                      \n>10 years old                            24               32   \n10-14 years old                          41               54   \n15-19 years old                         150              200   \n20-24 years old                         232              325   \n25-29 years old                          59               77   \n30-34 years old                          37               52   \n35-39 years old                          21               27   \n40+ years old                            12               13   \n\n                 Average Purchase Price  Total Purchase Value  \\\nAge Group                                                       \n>10 years old                      3.40                108.96   \n10-14 years old                    2.90                156.60   \n15-19 years old                    3.11                621.56   \n20-24 years old                    3.02                981.64   \n25-29 years old                    2.88                221.42   \n30-34 years old                    2.99                155.71   \n35-39 years old                    3.54                 95.64   \n40+ years old                      2.94                 38.24   \n\n                 Average Purchase per Player per Group  \nAge Group                                               \n>10 years old                                     3.40  \n10-14 years old                                   2.90  \n15-19 years old                                   3.11  \n20-24 years old                                   3.02  \n25-29 years old                                   2.88  \n30-34 years old                                   2.99  \n35-39 years old                                   3.54  \n40+ years old                                     2.94  \n"
     ]
    }
   ],
   "source": [
    "#merge data pt 4\n",
    "age_summary_df = pd.concat([age_summary_df, average_total_purchase_by_age], axis=1)\n",
    "print(age_summary_df)"
   ]
  },
  {
   "cell_type": "code",
   "execution_count": 3046,
   "metadata": {},
   "outputs": [
    {
     "output_type": "execute_result",
     "data": {
      "text/plain": [
       "               SN  Price\n",
       "467  Adairialis76   2.28\n",
       "142   Adastirin33   4.48\n",
       "388        Aeda94   4.91\n",
       "28         Aela59   4.32\n",
       "630     Aelaria33   1.79\n",
       "..            ...    ...\n",
       "54     Zhisrisu83   4.35\n",
       "141    Zhisrisu83   3.54\n",
       "560     Zontibe81   2.48\n",
       "442     Zontibe81   3.79\n",
       "17      Zontibe81   1.76\n",
       "\n",
       "[780 rows x 2 columns]"
      ],
      "text/html": "<div>\n<style scoped>\n    .dataframe tbody tr th:only-of-type {\n        vertical-align: middle;\n    }\n\n    .dataframe tbody tr th {\n        vertical-align: top;\n    }\n\n    .dataframe thead th {\n        text-align: right;\n    }\n</style>\n<table border=\"1\" class=\"dataframe\">\n  <thead>\n    <tr style=\"text-align: right;\">\n      <th></th>\n      <th>SN</th>\n      <th>Price</th>\n    </tr>\n  </thead>\n  <tbody>\n    <tr>\n      <th>467</th>\n      <td>Adairialis76</td>\n      <td>2.28</td>\n    </tr>\n    <tr>\n      <th>142</th>\n      <td>Adastirin33</td>\n      <td>4.48</td>\n    </tr>\n    <tr>\n      <th>388</th>\n      <td>Aeda94</td>\n      <td>4.91</td>\n    </tr>\n    <tr>\n      <th>28</th>\n      <td>Aela59</td>\n      <td>4.32</td>\n    </tr>\n    <tr>\n      <th>630</th>\n      <td>Aelaria33</td>\n      <td>1.79</td>\n    </tr>\n    <tr>\n      <th>...</th>\n      <td>...</td>\n      <td>...</td>\n    </tr>\n    <tr>\n      <th>54</th>\n      <td>Zhisrisu83</td>\n      <td>4.35</td>\n    </tr>\n    <tr>\n      <th>141</th>\n      <td>Zhisrisu83</td>\n      <td>3.54</td>\n    </tr>\n    <tr>\n      <th>560</th>\n      <td>Zontibe81</td>\n      <td>2.48</td>\n    </tr>\n    <tr>\n      <th>442</th>\n      <td>Zontibe81</td>\n      <td>3.79</td>\n    </tr>\n    <tr>\n      <th>17</th>\n      <td>Zontibe81</td>\n      <td>1.76</td>\n    </tr>\n  </tbody>\n</table>\n<p>780 rows × 2 columns</p>\n</div>"
     },
     "metadata": {},
     "execution_count": 3046
    }
   ],
   "source": [
    "#create a df of top_spenders_df and run analysis on purchase count, av purchase price, total purchase value, along with their screen name\n",
    "big_spender_purchases = purchase_data_df.loc[:, [\"SN\", \"Price\"]]\n",
    "big_spender_v = big_spender_purchases.sort_values('SN')\n",
    "big_spender_v"
   ]
  },
  {
   "cell_type": "code",
   "execution_count": 3047,
   "metadata": {},
   "outputs": [
    {
     "output_type": "stream",
     "name": "stdout",
     "text": [
      "               Price\nSN                  \nYathecal82      6.22\nYathedeu43      6.02\nYoishirrala98   4.58\nZhisrisu83      7.89\nZontibe81       8.03\n"
     ]
    }
   ],
   "source": [
    "total_purchased_by_SN = pd.DataFrame(big_spender_purchases.groupby([\"SN\"]).sum())\n",
    "print(total_purchased_by_SN.tail())"
   ]
  },
  {
   "cell_type": "code",
   "execution_count": 3048,
   "metadata": {},
   "outputs": [
    {
     "output_type": "execute_result",
     "data": {
      "text/plain": [
       "Price    18.96\n",
       "dtype: float64"
      ]
     },
     "metadata": {},
     "execution_count": 3048
    }
   ],
   "source": [
    "total_purchased_condensed = total_purchased_by_SN.max()\n",
    "total_purchased_condensed"
   ]
  },
  {
   "cell_type": "code",
   "execution_count": 3049,
   "metadata": {},
   "outputs": [
    {
     "output_type": "execute_result",
     "data": {
      "text/plain": [
       "               SN3\n",
       "SN                \n",
       "Lisosia93    18.96\n",
       "Idastidru52  15.45\n",
       "Chamjask73   13.83\n",
       "Iral74       13.62\n",
       "Iskadarya95  13.10"
      ],
      "text/html": "<div>\n<style scoped>\n    .dataframe tbody tr th:only-of-type {\n        vertical-align: middle;\n    }\n\n    .dataframe tbody tr th {\n        vertical-align: top;\n    }\n\n    .dataframe thead th {\n        text-align: right;\n    }\n</style>\n<table border=\"1\" class=\"dataframe\">\n  <thead>\n    <tr style=\"text-align: right;\">\n      <th></th>\n      <th>SN3</th>\n    </tr>\n    <tr>\n      <th>SN</th>\n      <th></th>\n    </tr>\n  </thead>\n  <tbody>\n    <tr>\n      <th>Lisosia93</th>\n      <td>18.96</td>\n    </tr>\n    <tr>\n      <th>Idastidru52</th>\n      <td>15.45</td>\n    </tr>\n    <tr>\n      <th>Chamjask73</th>\n      <td>13.83</td>\n    </tr>\n    <tr>\n      <th>Iral74</th>\n      <td>13.62</td>\n    </tr>\n    <tr>\n      <th>Iskadarya95</th>\n      <td>13.10</td>\n    </tr>\n  </tbody>\n</table>\n</div>"
     },
     "metadata": {},
     "execution_count": 3049
    }
   ],
   "source": [
    "#calculate total purchase value + SN\n",
    "find_the_max_spenders = total_purchased_by_SN.sort_values('Price')\n",
    "find_the_max_spenders = find_the_max_spenders.tail(5)\n",
    "find_the_max_spenders = find_the_max_spenders.sort_values('Price', ascending=False)\n",
    "find_the_max_spenders = pd.DataFrame(find_the_max_spenders.round(2))\n",
    "find_the_max_spenders = find_the_max_spenders.rename(columns={\"Price\":\"SN3\"})\n",
    "find_the_max_spenders"
   ]
  },
  {
   "cell_type": "code",
   "execution_count": 3050,
   "metadata": {},
   "outputs": [
    {
     "output_type": "stream",
     "name": "stderr",
     "text": [
      "/Users/bitty/opt/anaconda3/lib/python3.8/site-packages/IPython/core/displayhook.py:275: UserWarning: Output cache limit (currently 1000 entries) hit.\nFlushing oldest 200 entries.\n  warn('Output cache limit (currently {sz} entries) hit.\\n'\n"
     ]
    },
    {
     "output_type": "execute_result",
     "data": {
      "text/plain": [
       "Lisosia93      5\n",
       "Idastidru52    4\n",
       "Iral74         4\n",
       "Iskadarya95    3\n",
       "Chamjask73     3\n",
       "Name: SN, dtype: int64"
      ]
     },
     "metadata": {},
     "execution_count": 3050
    }
   ],
   "source": [
    "#get number of purchases easier\n",
    "big_spender_purchases = purchase_data_df.loc[:, [\"SN\", \"Price\"]]\n",
    "numbers_unique_user_purchase = big_spender_purchases.loc[(big_spender_purchases[\"SN\"]==\"Lisosia93\") | (big_spender_purchases[\"SN\"]==\"Idastidru52\") | (big_spender_purchases[\"SN\"]==\"Chamjask73\") | (big_spender_purchases[\"SN\"]==\"Iral74\") | (big_spender_purchases[\"SN\"]==\"Iskadarya95\") , :]\n",
    "\n",
    "\n",
    "numbers_unique_user_purchase = numbers_unique_user_purchase.sort_values('SN', ascending=False)\n",
    "numbers_unique_user_purchase = numbers_unique_user_purchase[\"SN\"].value_counts()\n",
    "numbers_unique_user_purchase"
   ]
  },
  {
   "cell_type": "code",
   "execution_count": 3051,
   "metadata": {},
   "outputs": [
    {
     "output_type": "execute_result",
     "data": {
      "text/plain": [
       "             SN\n",
       "Lisosia93     5\n",
       "Idastidru52   4\n",
       "Iral74        4\n",
       "Iskadarya95   3\n",
       "Chamjask73    3"
      ],
      "text/html": "<div>\n<style scoped>\n    .dataframe tbody tr th:only-of-type {\n        vertical-align: middle;\n    }\n\n    .dataframe tbody tr th {\n        vertical-align: top;\n    }\n\n    .dataframe thead th {\n        text-align: right;\n    }\n</style>\n<table border=\"1\" class=\"dataframe\">\n  <thead>\n    <tr style=\"text-align: right;\">\n      <th></th>\n      <th>SN</th>\n    </tr>\n  </thead>\n  <tbody>\n    <tr>\n      <th>Lisosia93</th>\n      <td>5</td>\n    </tr>\n    <tr>\n      <th>Idastidru52</th>\n      <td>4</td>\n    </tr>\n    <tr>\n      <th>Iral74</th>\n      <td>4</td>\n    </tr>\n    <tr>\n      <th>Iskadarya95</th>\n      <td>3</td>\n    </tr>\n    <tr>\n      <th>Chamjask73</th>\n      <td>3</td>\n    </tr>\n  </tbody>\n</table>\n</div>"
     },
     "metadata": {},
     "execution_count": 3051
    }
   ],
   "source": [
    "#get number of purchases easier\n",
    "big_spender_purchases = purchase_data_df.loc[:, [\"SN\", \"Price\"]]\n",
    "numbers_unique_user_purchase = big_spender_purchases.loc[(big_spender_purchases[\"SN\"]==\"Lisosia93\") | (big_spender_purchases[\"SN\"]==\"Idastidru52\") | (big_spender_purchases[\"SN\"]==\"Chamjask73\") | (big_spender_purchases[\"SN\"]==\"Iral74\") | (big_spender_purchases[\"SN\"]==\"Iskadarya95\") , :]\n",
    "\n",
    "\n",
    "numbers_unique_user_purchase = numbers_unique_user_purchase.sort_values('SN', ascending=False)\n",
    "numbers_unique_user_purchase = pd.DataFrame(numbers_unique_user_purchase[\"SN\"].value_counts())\n",
    "numbers_unique_user_purchase"
   ]
  },
  {
   "cell_type": "code",
   "execution_count": 3052,
   "metadata": {},
   "outputs": [
    {
     "output_type": "execute_result",
     "data": {
      "text/plain": [
       "              SN2\n",
       "Chamjask73   4.61\n",
       "Idastidru52  3.86\n",
       "Iral74       3.40\n",
       "Iskadarya95  4.37\n",
       "Lisosia93    3.79"
      ],
      "text/html": "<div>\n<style scoped>\n    .dataframe tbody tr th:only-of-type {\n        vertical-align: middle;\n    }\n\n    .dataframe tbody tr th {\n        vertical-align: top;\n    }\n\n    .dataframe thead th {\n        text-align: right;\n    }\n</style>\n<table border=\"1\" class=\"dataframe\">\n  <thead>\n    <tr style=\"text-align: right;\">\n      <th></th>\n      <th>SN2</th>\n    </tr>\n  </thead>\n  <tbody>\n    <tr>\n      <th>Chamjask73</th>\n      <td>4.61</td>\n    </tr>\n    <tr>\n      <th>Idastidru52</th>\n      <td>3.86</td>\n    </tr>\n    <tr>\n      <th>Iral74</th>\n      <td>3.40</td>\n    </tr>\n    <tr>\n      <th>Iskadarya95</th>\n      <td>4.37</td>\n    </tr>\n    <tr>\n      <th>Lisosia93</th>\n      <td>3.79</td>\n    </tr>\n  </tbody>\n</table>\n</div>"
     },
     "metadata": {},
     "execution_count": 3052
    }
   ],
   "source": [
    "average_purchase_by_person = find_the_max_spenders[\"SN3\"] / numbers_unique_user_purchase[\"SN\"]\n",
    "average_purchase_by_person = pd.DataFrame(average_purchase_by_person.round(2),columns=[\"SN2\"])\n",
    "average_purchase_by_person"
   ]
  },
  {
   "cell_type": "code",
   "execution_count": 3053,
   "metadata": {},
   "outputs": [
    {
     "output_type": "execute_result",
     "data": {
      "text/plain": [
       "             SN   SN2\n",
       "Lisosia93     5  3.79\n",
       "Idastidru52   4  3.86\n",
       "Iral74        4  3.40\n",
       "Iskadarya95   3  4.37\n",
       "Chamjask73    3  4.61"
      ],
      "text/html": "<div>\n<style scoped>\n    .dataframe tbody tr th:only-of-type {\n        vertical-align: middle;\n    }\n\n    .dataframe tbody tr th {\n        vertical-align: top;\n    }\n\n    .dataframe thead th {\n        text-align: right;\n    }\n</style>\n<table border=\"1\" class=\"dataframe\">\n  <thead>\n    <tr style=\"text-align: right;\">\n      <th></th>\n      <th>SN</th>\n      <th>SN2</th>\n    </tr>\n  </thead>\n  <tbody>\n    <tr>\n      <th>Lisosia93</th>\n      <td>5</td>\n      <td>3.79</td>\n    </tr>\n    <tr>\n      <th>Idastidru52</th>\n      <td>4</td>\n      <td>3.86</td>\n    </tr>\n    <tr>\n      <th>Iral74</th>\n      <td>4</td>\n      <td>3.40</td>\n    </tr>\n    <tr>\n      <th>Iskadarya95</th>\n      <td>3</td>\n      <td>4.37</td>\n    </tr>\n    <tr>\n      <th>Chamjask73</th>\n      <td>3</td>\n      <td>4.61</td>\n    </tr>\n  </tbody>\n</table>\n</div>"
     },
     "metadata": {},
     "execution_count": 3053
    }
   ],
   "source": [
    "#average purchase price\n",
    "numbers_unique_user_purchase = pd.concat([numbers_unique_user_purchase, average_purchase_by_person],axis=1)\n",
    "numbers_unique_user_purchase\n"
   ]
  },
  {
   "cell_type": "code",
   "execution_count": 3054,
   "metadata": {},
   "outputs": [
    {
     "output_type": "execute_result",
     "data": {
      "text/plain": [
       "             Purchases  Average Purchase Price  Total Purchase Price\n",
       "Lisosia93            5                    3.79                 18.96\n",
       "Idastidru52          4                    3.86                 15.45\n",
       "Iral74               4                    3.40                 13.62\n",
       "Iskadarya95          3                    4.37                 13.10\n",
       "Chamjask73           3                    4.61                 13.83"
      ],
      "text/html": "<div>\n<style scoped>\n    .dataframe tbody tr th:only-of-type {\n        vertical-align: middle;\n    }\n\n    .dataframe tbody tr th {\n        vertical-align: top;\n    }\n\n    .dataframe thead th {\n        text-align: right;\n    }\n</style>\n<table border=\"1\" class=\"dataframe\">\n  <thead>\n    <tr style=\"text-align: right;\">\n      <th></th>\n      <th>Purchases</th>\n      <th>Average Purchase Price</th>\n      <th>Total Purchase Price</th>\n    </tr>\n  </thead>\n  <tbody>\n    <tr>\n      <th>Lisosia93</th>\n      <td>5</td>\n      <td>3.79</td>\n      <td>18.96</td>\n    </tr>\n    <tr>\n      <th>Idastidru52</th>\n      <td>4</td>\n      <td>3.86</td>\n      <td>15.45</td>\n    </tr>\n    <tr>\n      <th>Iral74</th>\n      <td>4</td>\n      <td>3.40</td>\n      <td>13.62</td>\n    </tr>\n    <tr>\n      <th>Iskadarya95</th>\n      <td>3</td>\n      <td>4.37</td>\n      <td>13.10</td>\n    </tr>\n    <tr>\n      <th>Chamjask73</th>\n      <td>3</td>\n      <td>4.61</td>\n      <td>13.83</td>\n    </tr>\n  </tbody>\n</table>\n</div>"
     },
     "metadata": {},
     "execution_count": 3054
    }
   ],
   "source": [
    "numbers_unique_user_purchase= pd.concat([numbers_unique_user_purchase, find_the_max_spenders],axis=1)\n",
    "numbers_unique_user_purchase = numbers_unique_user_purchase.rename(columns={\"\":\"SN\", \"SN\":\"Purchases\", \"SN2\":\"Average Purchase Price\", \"SN3\":\"Total Purchase Price\"})\n",
    "numbers_unique_user_purchase"
   ]
  },
  {
   "cell_type": "code",
   "execution_count": 3055,
   "metadata": {},
   "outputs": [
    {
     "output_type": "stream",
     "name": "stdout",
     "text": [
      "     Item ID                                  Item Name  Price\n0        108  Extraction, Quickblade Of Trembling Hands   3.53\n1        143                          Frenzied Scimitar   1.56\n2         92                               Final Critic   4.88\n3        100                                Blindscythe   3.27\n4        131                                       Fury   1.44\n..       ...                                        ...    ...\n775       60                                       Wolf   3.54\n776      164                           Exiled Doomblade   1.63\n777       67      Celeste, Incarnation of the Corrupted   3.46\n778       92                               Final Critic   4.19\n779       50                                       Dawn   4.60\n\n[780 rows x 3 columns]\n                                              Item ID  Price\nItem Name                                                   \nFinal Critic                                       13     13\nOathbreaker, Last Hope of the Breaking Storm       12     12\nPersuasion                                          9      9\nNirvana                                             9      9\nExtraction, Quickblade Of Trembling Hands           9      9\n"
     ]
    }
   ],
   "source": [
    "#most popular items df\n",
    "#Identify the 5 most popular items by purchase count, then list (in a table):\n",
    "\n",
    "#Item ID\n",
    "#Item Name\n",
    "#Purchase Count\n",
    "#Item Price\n",
    "#Total Purchase Value\n",
    "\n",
    "popular_items_df = purchase_data_df.loc[:, [\"Item ID\", \"Item Name\", \"Price\"]]\n",
    "print(popular_items_df)\n",
    "\n",
    "#groupby item ID and item name\n",
    "popular_items = pd.DataFrame(popular_items_df.groupby(['Item Name']).count())\n",
    "popular_items = popular_items.sort_values('Item ID', ascending=False)\n",
    "popular_items = popular_items.head(5)\n",
    "print(popular_items)\n"
   ]
  },
  {
   "cell_type": "code",
   "execution_count": 3056,
   "metadata": {},
   "outputs": [
    {
     "output_type": "stream",
     "name": "stdout",
     "text": [
      "                                              Item Name\nFinal Critic                                         13\nOathbreaker, Last Hope of the Breaking Storm         12\nExtraction, Quickblade Of Trembling Hands             9\nNirvana                                               9\nPersuasion                                            9\n     Item ID\n92        13\n178       12\n108        9\n82         9\n132        9\n                                              Price\nItem Name                                          \nExtraction, Quickblade Of Trembling Hands     31.77\nFinal Critic                                  59.99\nNirvana                                       44.10\nOathbreaker, Last Hope of the Breaking Storm  50.76\nPersuasion                                    28.99\n    Item ID\n0       108\n2        92\n18       82\n24      132\n25      178\n    Price\n0    3.53\n2    4.88\n18   4.90\n24   3.19\n25   4.23\n"
     ]
    }
   ],
   "source": [
    "#most popular items df\n",
    "#Identify the 5 most popular items by purchase count, then list (in a table):\n",
    "\n",
    "#Item ID\n",
    "#Item Name\n",
    "#Purchase Count\n",
    "#Item Price\n",
    "#Total Purchase Value\n",
    "\n",
    "popular_items_df = purchase_data_df.loc[:, [\"Item ID\", \"Item Name\", \"Price\"]]\n",
    "\n",
    "#groupby item ID and item name\n",
    "\n",
    "value_pop_item = purchase_data_df.loc[(purchase_data_df[\"Item Name\"]==\"Final Critic\") | (purchase_data_df[\"Item Name\"]==\"Oathbreaker, Last Hope of the Breaking Storm\") | (purchase_data_df[\"Item Name\"]==\"Persuasion\") | (purchase_data_df[\"Item Name\"]==\"Nirvana\") | (purchase_data_df[\"Item Name\"]==\"Extraction, Quickblade Of Trembling Hands\") , :]\n",
    "#number of purchases and name of item\n",
    "num_purchased_pop_item = pd.DataFrame(value_pop_item[\"Item Name\"].value_counts())\n",
    "print(num_purchased_pop_item)\n",
    "\n",
    "#item count and number of purchases\n",
    "item_id = pd.DataFrame(value_pop_item[\"Item ID\"].value_counts())\n",
    "#item_id = item_id.rename(columns={\"Item ID\":\"Valuecount2\"})\n",
    "print(item_id)\n",
    "\n",
    "#\n",
    "total_price_pop = pd.DataFrame(value_pop_item.groupby([\"Item Name\"]).sum())\n",
    "total_price_pop = total_price_pop.drop(columns=[\"Purchase ID\", \"Age\", \"Item ID\"])\n",
    "print(total_price_pop)\n",
    "\n",
    "second_item_id = pd.DataFrame(value_pop_item[\"Item ID\"].head())\n",
    "print(second_item_id)\n",
    "\n",
    "price_for_pop = pd.DataFrame(value_pop_item[\"Price\"].head())\n",
    "print(price_for_pop)\n",
    "\n"
   ]
  },
  {
   "cell_type": "code",
   "execution_count": 3057,
   "metadata": {},
   "outputs": [
    {
     "output_type": "execute_result",
     "data": {
      "text/plain": [
       "   Item ID  Price\n",
       "0      108   3.53\n",
       "1       92   4.88\n",
       "2       82   4.90\n",
       "3      132   3.19\n",
       "4      178   4.23"
      ],
      "text/html": "<div>\n<style scoped>\n    .dataframe tbody tr th:only-of-type {\n        vertical-align: middle;\n    }\n\n    .dataframe tbody tr th {\n        vertical-align: top;\n    }\n\n    .dataframe thead th {\n        text-align: right;\n    }\n</style>\n<table border=\"1\" class=\"dataframe\">\n  <thead>\n    <tr style=\"text-align: right;\">\n      <th></th>\n      <th>Item ID</th>\n      <th>Price</th>\n    </tr>\n  </thead>\n  <tbody>\n    <tr>\n      <th>0</th>\n      <td>108</td>\n      <td>3.53</td>\n    </tr>\n    <tr>\n      <th>1</th>\n      <td>92</td>\n      <td>4.88</td>\n    </tr>\n    <tr>\n      <th>2</th>\n      <td>82</td>\n      <td>4.90</td>\n    </tr>\n    <tr>\n      <th>3</th>\n      <td>132</td>\n      <td>3.19</td>\n    </tr>\n    <tr>\n      <th>4</th>\n      <td>178</td>\n      <td>4.23</td>\n    </tr>\n  </tbody>\n</table>\n</div>"
     },
     "metadata": {},
     "execution_count": 3057
    }
   ],
   "source": [
    "second_item_id.reset_index(drop=True, inplace=True)\n",
    "price_for_pop.reset_index(drop=True, inplace=True)\n",
    "price_and_item_id= pd.concat([second_item_id, price_for_pop], axis=1)\n",
    "price_and_item_id"
   ]
  },
  {
   "cell_type": "code",
   "execution_count": 3058,
   "metadata": {},
   "outputs": [
    {
     "output_type": "execute_result",
     "data": {
      "text/plain": [
       "                                              Price  Purchase Count\n",
       "Extraction, Quickblade Of Trembling Hands     31.77               9\n",
       "Final Critic                                  59.99              13\n",
       "Nirvana                                       44.10               9\n",
       "Oathbreaker, Last Hope of the Breaking Storm  50.76              12\n",
       "Persuasion                                    28.99               9"
      ],
      "text/html": "<div>\n<style scoped>\n    .dataframe tbody tr th:only-of-type {\n        vertical-align: middle;\n    }\n\n    .dataframe tbody tr th {\n        vertical-align: top;\n    }\n\n    .dataframe thead th {\n        text-align: right;\n    }\n</style>\n<table border=\"1\" class=\"dataframe\">\n  <thead>\n    <tr style=\"text-align: right;\">\n      <th></th>\n      <th>Price</th>\n      <th>Purchase Count</th>\n    </tr>\n  </thead>\n  <tbody>\n    <tr>\n      <th>Extraction, Quickblade Of Trembling Hands</th>\n      <td>31.77</td>\n      <td>9</td>\n    </tr>\n    <tr>\n      <th>Final Critic</th>\n      <td>59.99</td>\n      <td>13</td>\n    </tr>\n    <tr>\n      <th>Nirvana</th>\n      <td>44.10</td>\n      <td>9</td>\n    </tr>\n    <tr>\n      <th>Oathbreaker, Last Hope of the Breaking Storm</th>\n      <td>50.76</td>\n      <td>12</td>\n    </tr>\n    <tr>\n      <th>Persuasion</th>\n      <td>28.99</td>\n      <td>9</td>\n    </tr>\n  </tbody>\n</table>\n</div>"
     },
     "metadata": {},
     "execution_count": 3058
    }
   ],
   "source": [
    "total_price_pop = pd.concat([total_price_pop, num_purchased_pop_item],axis=1)\n",
    "total_price_pop = total_price_pop.rename(columns={\"Item Name\":\"Purchase Count\"})\n",
    "total_price_pop"
   ]
  },
  {
   "cell_type": "code",
   "execution_count": 3059,
   "metadata": {},
   "outputs": [
    {
     "output_type": "execute_result",
     "data": {
      "text/plain": [
       "                                          index  Price  Purchase Count  \\\n",
       "0     Extraction, Quickblade Of Trembling Hands  31.77               9   \n",
       "1                                  Final Critic  59.99              13   \n",
       "2                                       Nirvana  44.10               9   \n",
       "3  Oathbreaker, Last Hope of the Breaking Storm  50.76              12   \n",
       "4                                    Persuasion  28.99               9   \n",
       "\n",
       "   Item ID  Price  \n",
       "0      108   3.53  \n",
       "1       92   4.88  \n",
       "2       82   4.90  \n",
       "3      132   3.19  \n",
       "4      178   4.23  "
      ],
      "text/html": "<div>\n<style scoped>\n    .dataframe tbody tr th:only-of-type {\n        vertical-align: middle;\n    }\n\n    .dataframe tbody tr th {\n        vertical-align: top;\n    }\n\n    .dataframe thead th {\n        text-align: right;\n    }\n</style>\n<table border=\"1\" class=\"dataframe\">\n  <thead>\n    <tr style=\"text-align: right;\">\n      <th></th>\n      <th>index</th>\n      <th>Price</th>\n      <th>Purchase Count</th>\n      <th>Item ID</th>\n      <th>Price</th>\n    </tr>\n  </thead>\n  <tbody>\n    <tr>\n      <th>0</th>\n      <td>Extraction, Quickblade Of Trembling Hands</td>\n      <td>31.77</td>\n      <td>9</td>\n      <td>108</td>\n      <td>3.53</td>\n    </tr>\n    <tr>\n      <th>1</th>\n      <td>Final Critic</td>\n      <td>59.99</td>\n      <td>13</td>\n      <td>92</td>\n      <td>4.88</td>\n    </tr>\n    <tr>\n      <th>2</th>\n      <td>Nirvana</td>\n      <td>44.10</td>\n      <td>9</td>\n      <td>82</td>\n      <td>4.90</td>\n    </tr>\n    <tr>\n      <th>3</th>\n      <td>Oathbreaker, Last Hope of the Breaking Storm</td>\n      <td>50.76</td>\n      <td>12</td>\n      <td>132</td>\n      <td>3.19</td>\n    </tr>\n    <tr>\n      <th>4</th>\n      <td>Persuasion</td>\n      <td>28.99</td>\n      <td>9</td>\n      <td>178</td>\n      <td>4.23</td>\n    </tr>\n  </tbody>\n</table>\n</div>"
     },
     "metadata": {},
     "execution_count": 3059
    }
   ],
   "source": [
    "\n",
    "total_price_pop.reset_index(drop=False, inplace=True)\n",
    "total_price_pop = pd.concat([total_price_pop, price_and_item_id], axis=1)\n",
    "total_price_pop"
   ]
  },
  {
   "cell_type": "code",
   "execution_count": 3060,
   "metadata": {},
   "outputs": [
    {
     "output_type": "stream",
     "name": "stdout",
     "text": [
      "                                              Price\nItem Name                                          \nFinal Critic                                  59.99\nOathbreaker, Last Hope of the Breaking Storm  50.76\nNirvana                                       44.10\nFiery Glass Crusader                          41.22\nSinged Scalpel                                34.80\n"
     ]
    },
    {
     "output_type": "execute_result",
     "data": {
      "text/plain": [
       "                                   0  \\\n",
       "0                      Abyssal Shard   \n",
       "1     Aetherius, Boon of the Blessed   \n",
       "2                             Agatha   \n",
       "3                              Alpha   \n",
       "4                Alpha, Oath of Zeal   \n",
       "..                               ...   \n",
       "174                             Wolf   \n",
       "175  Wolf, Promise of the Moonwalker   \n",
       "176                     Worldbreaker   \n",
       "177                 Yearning Crusher   \n",
       "178               Yearning Mageblade   \n",
       "\n",
       "                                                     1  \n",
       "0             Item Name  Item ID\n",
       "209  Abyssal Shard...  \n",
       "1                              Item Name  Item ID\n",
       "2...  \n",
       "2        Item Name  Item ID\n",
       "415    Agatha      120\n",
       "...  \n",
       "3        Item Name  Item ID\n",
       "699     Alpha      130\n",
       "...  \n",
       "4                   Item Name  Item ID\n",
       "352  Alpha, ...  \n",
       "..                                                 ...  \n",
       "174      Item Name  Item ID\n",
       "775      Wolf       60\n",
       "...  \n",
       "175                             Item Name  Item ID\n",
       "...  \n",
       "176          Item Name  Item ID\n",
       "752  Worldbreaker  ...  \n",
       "177              Item Name  Item ID\n",
       "729  Yearning C...  \n",
       "178                Item Name  Item ID\n",
       "232  Yearning...  \n",
       "\n",
       "[179 rows x 2 columns]"
      ],
      "text/html": "<div>\n<style scoped>\n    .dataframe tbody tr th:only-of-type {\n        vertical-align: middle;\n    }\n\n    .dataframe tbody tr th {\n        vertical-align: top;\n    }\n\n    .dataframe thead th {\n        text-align: right;\n    }\n</style>\n<table border=\"1\" class=\"dataframe\">\n  <thead>\n    <tr style=\"text-align: right;\">\n      <th></th>\n      <th>0</th>\n      <th>1</th>\n    </tr>\n  </thead>\n  <tbody>\n    <tr>\n      <th>0</th>\n      <td>Abyssal Shard</td>\n      <td>Item Name  Item ID\n209  Abyssal Shard...</td>\n    </tr>\n    <tr>\n      <th>1</th>\n      <td>Aetherius, Boon of the Blessed</td>\n      <td>Item Name  Item ID\n2...</td>\n    </tr>\n    <tr>\n      <th>2</th>\n      <td>Agatha</td>\n      <td>Item Name  Item ID\n415    Agatha      120\n...</td>\n    </tr>\n    <tr>\n      <th>3</th>\n      <td>Alpha</td>\n      <td>Item Name  Item ID\n699     Alpha      130\n...</td>\n    </tr>\n    <tr>\n      <th>4</th>\n      <td>Alpha, Oath of Zeal</td>\n      <td>Item Name  Item ID\n352  Alpha, ...</td>\n    </tr>\n    <tr>\n      <th>...</th>\n      <td>...</td>\n      <td>...</td>\n    </tr>\n    <tr>\n      <th>174</th>\n      <td>Wolf</td>\n      <td>Item Name  Item ID\n775      Wolf       60\n...</td>\n    </tr>\n    <tr>\n      <th>175</th>\n      <td>Wolf, Promise of the Moonwalker</td>\n      <td>Item Name  Item ID\n...</td>\n    </tr>\n    <tr>\n      <th>176</th>\n      <td>Worldbreaker</td>\n      <td>Item Name  Item ID\n752  Worldbreaker  ...</td>\n    </tr>\n    <tr>\n      <th>177</th>\n      <td>Yearning Crusher</td>\n      <td>Item Name  Item ID\n729  Yearning C...</td>\n    </tr>\n    <tr>\n      <th>178</th>\n      <td>Yearning Mageblade</td>\n      <td>Item Name  Item ID\n232  Yearning...</td>\n    </tr>\n  </tbody>\n</table>\n<p>179 rows × 2 columns</p>\n</div>"
     },
     "metadata": {},
     "execution_count": 3060
    }
   ],
   "source": [
    "#most profitable items df\n",
    "#Identify the 5 most profitable items by total purchase value, then list (in a table):\n",
    "\n",
    "#Item ID\n",
    "#Item Name\n",
    "#Purchase Count\n",
    "#Item Price\n",
    "#Total Purchase Value\n",
    "most_profitable_items = purchase_data_df.loc[:, [\"Item Name\", \"Price\"]]\n",
    "most_profitable_items= pd.DataFrame(most_profitable_items.groupby([\"Item Name\"]).sum())\n",
    "most_profitable_items = most_profitable_items.sort_values('Price',ascending=False)\n",
    "print(most_profitable_items.head())\n",
    "\n",
    "id_with_name = purchase_data_df.loc[:, [\"Item Name\", \"Item ID\"]]\n",
    "id_with_name = id_with_name.sort_values(\"Item ID\")\n",
    "id_with_name = pd.DataFrame(id_with_name.groupby([\"Item Name\"]))\n",
    "id_with_name"
   ]
  },
  {
   "cell_type": "code",
   "execution_count": null,
   "metadata": {},
   "outputs": [],
   "source": []
  }
 ]
}