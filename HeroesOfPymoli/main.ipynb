{
 "metadata": {
  "language_info": {
   "codemirror_mode": {
    "name": "ipython",
    "version": 3
   },
   "file_extension": ".py",
   "mimetype": "text/x-python",
   "name": "python",
   "nbconvert_exporter": "python",
   "pygments_lexer": "ipython3",
   "version": "3.8.5"
  },
  "orig_nbformat": 2,
  "kernelspec": {
   "name": "python385jvsc74a57bd0b75be9ad71603c40476c6c8216298ace4da278de65ecdbf5da31753ceef4d599",
   "display_name": "Python 3.8.5 64-bit ('base': conda)"
  }
 },
 "nbformat": 4,
 "nbformat_minor": 2,
 "cells": [
  {
   "cell_type": "code",
   "execution_count": 1078,
   "metadata": {},
   "outputs": [],
   "source": [
    "#create dependencies\n",
    "import pandas as pd\n",
    "import csv"
   ]
  },
  {
   "cell_type": "code",
   "execution_count": 1079,
   "metadata": {},
   "outputs": [],
   "source": [
    "#read csv file\n",
    "file_to_load_df = \"purchase_data.csv\"\n",
    "summary_analysis_df = []\n",
    "unique_items_list = 0\n",
    "gendered_purchase_analysis_df = []"
   ]
  },
  {
   "cell_type": "code",
   "execution_count": 1080,
   "metadata": {},
   "outputs": [
    {
     "output_type": "execute_result",
     "data": {
      "text/plain": [
       "   Purchase ID             SN  Age Gender  Item ID  \\\n",
       "0            0        Lisim78   20   Male      108   \n",
       "1            1    Lisovynya38   40   Male      143   \n",
       "2            2     Ithergue48   24   Male       92   \n",
       "3            3  Chamassasya86   24   Male      100   \n",
       "4            4      Iskosia90   23   Male      131   \n",
       "\n",
       "                                   Item Name  Price  \n",
       "0  Extraction, Quickblade Of Trembling Hands   3.53  \n",
       "1                          Frenzied Scimitar   1.56  \n",
       "2                               Final Critic   4.88  \n",
       "3                                Blindscythe   3.27  \n",
       "4                                       Fury   1.44  "
      ],
      "text/html": "<div>\n<style scoped>\n    .dataframe tbody tr th:only-of-type {\n        vertical-align: middle;\n    }\n\n    .dataframe tbody tr th {\n        vertical-align: top;\n    }\n\n    .dataframe thead th {\n        text-align: right;\n    }\n</style>\n<table border=\"1\" class=\"dataframe\">\n  <thead>\n    <tr style=\"text-align: right;\">\n      <th></th>\n      <th>Purchase ID</th>\n      <th>SN</th>\n      <th>Age</th>\n      <th>Gender</th>\n      <th>Item ID</th>\n      <th>Item Name</th>\n      <th>Price</th>\n    </tr>\n  </thead>\n  <tbody>\n    <tr>\n      <th>0</th>\n      <td>0</td>\n      <td>Lisim78</td>\n      <td>20</td>\n      <td>Male</td>\n      <td>108</td>\n      <td>Extraction, Quickblade Of Trembling Hands</td>\n      <td>3.53</td>\n    </tr>\n    <tr>\n      <th>1</th>\n      <td>1</td>\n      <td>Lisovynya38</td>\n      <td>40</td>\n      <td>Male</td>\n      <td>143</td>\n      <td>Frenzied Scimitar</td>\n      <td>1.56</td>\n    </tr>\n    <tr>\n      <th>2</th>\n      <td>2</td>\n      <td>Ithergue48</td>\n      <td>24</td>\n      <td>Male</td>\n      <td>92</td>\n      <td>Final Critic</td>\n      <td>4.88</td>\n    </tr>\n    <tr>\n      <th>3</th>\n      <td>3</td>\n      <td>Chamassasya86</td>\n      <td>24</td>\n      <td>Male</td>\n      <td>100</td>\n      <td>Blindscythe</td>\n      <td>3.27</td>\n    </tr>\n    <tr>\n      <th>4</th>\n      <td>4</td>\n      <td>Iskosia90</td>\n      <td>23</td>\n      <td>Male</td>\n      <td>131</td>\n      <td>Fury</td>\n      <td>1.44</td>\n    </tr>\n  </tbody>\n</table>\n</div>"
     },
     "metadata": {},
     "execution_count": 1080
    }
   ],
   "source": [
    "\n",
    "# Read Purchasing File and store into Pandas data frame\n",
    "csv_path = \"/Users/bitty/pandas-challenge/pandas-challenge/Resources/purchase_data.csv\"\n",
    "purchase_data_df = pd.read_csv(csv_path)\n",
    "purchase_data_df.head()"
   ]
  },
  {
   "cell_type": "code",
   "execution_count": 1081,
   "metadata": {},
   "outputs": [
    {
     "output_type": "execute_result",
     "data": {
      "text/plain": [
       "576"
      ]
     },
     "metadata": {},
     "execution_count": 1081
    }
   ],
   "source": [
    "all_players = purchase_data_df['SN'].nunique()\n",
    "all_players\n",
    "#print it as a column? with \"Total Players as the column name\""
   ]
  },
  {
   "cell_type": "code",
   "execution_count": 1082,
   "metadata": {},
   "outputs": [],
   "source": [
    "#DELETE THIS LATER\n",
    "#calculate # of players use len\n",
    "#all_players = purchase_data_df['SN'].value_counts()\n",
    "#all_players\n",
    "\n",
    "#print it as a column? with \"Total Players as the column name\"\n"
   ]
  },
  {
   "cell_type": "code",
   "execution_count": 1083,
   "metadata": {},
   "outputs": [
    {
     "output_type": "execute_result",
     "data": {
      "text/plain": [
       "Final Critic                                    13\n",
       "Oathbreaker, Last Hope of the Breaking Storm    12\n",
       "Extraction, Quickblade Of Trembling Hands        9\n",
       "Nirvana                                          9\n",
       "Fiery Glass Crusader                             9\n",
       "                                                ..\n",
       "Undead Crusader                                  1\n",
       "Endbringer                                       1\n",
       "Betrayer                                         1\n",
       "Gladiator's Glaive                               1\n",
       "Celeste                                          1\n",
       "Name: Item Name, Length: 179, dtype: int64"
      ]
     },
     "metadata": {},
     "execution_count": 1083
    }
   ],
   "source": [
    "#calculate purchase analysis & save to a summary_analysis_df\n",
    "    #number of unique items count\n",
    "unique_items_num = purchase_data_df[\"Item Name\"].value_counts()\n",
    "unique_items_num\n",
    "    "
   ]
  },
  {
   "cell_type": "code",
   "execution_count": 1084,
   "metadata": {},
   "outputs": [
    {
     "output_type": "stream",
     "name": "stdout",
     "text": [
      "179\n"
     ]
    }
   ],
   "source": [
    "unique_items = purchase_data_df[\"Item Name\"].unique()\n",
    "print(len(unique_items))"
   ]
  },
  {
   "cell_type": "code",
   "execution_count": 1085,
   "metadata": {},
   "outputs": [
    {
     "output_type": "stream",
     "name": "stdout",
     "text": [
      "3.05\n"
     ]
    }
   ],
   "source": [
    "#average price of items\n",
    "average_price_summary = purchase_data_df[\"Price\"]\n",
    "average_price_summary = purchase_data_df[\"Price\"].sum()\n",
    "average_price_summary = (average_price_summary / total_purchases).round(2)\n",
    "print(average_price_summary)\n"
   ]
  },
  {
   "cell_type": "code",
   "execution_count": 1086,
   "metadata": {},
   "outputs": [
    {
     "output_type": "execute_result",
     "data": {
      "text/plain": [
       "780"
      ]
     },
     "metadata": {},
     "execution_count": 1086
    }
   ],
   "source": [
    "    #total number of purchases\n",
    "total_purchases = purchase_data_df[\"Purchase ID\"].count()\n",
    "total_purchases\n",
    "   "
   ]
  },
  {
   "cell_type": "code",
   "execution_count": 1087,
   "metadata": {},
   "outputs": [
    {
     "output_type": "execute_result",
     "data": {
      "text/plain": [
       "2379.77"
      ]
     },
     "metadata": {},
     "execution_count": 1087
    }
   ],
   "source": [
    " #total revenue\n",
    "total_revenue = purchase_data_df[\"Price\"].sum()\n",
    "total_revenue\n"
   ]
  },
  {
   "cell_type": "code",
   "execution_count": 1088,
   "metadata": {},
   "outputs": [
    {
     "output_type": "stream",
     "name": "stdout",
     "text": [
      "   Total Numbers of Players  Unique Item Counts  Average  Total Purchases  \\\n0                       576                 179     3.05              780   \n\n   Total Revenue  \n0        2379.77  \n"
     ]
    }
   ],
   "source": [
    "#summary analysis table\n",
    "summary_analysis_df = pd.DataFrame({\"Total Numbers of Players\": all_players, \"Unique Item Counts\": len(unique_items), \"Average\": average_price_summary, \"Total Purchases\": total_purchases, \"Total Revenue\": total_revenue}, index=[0])\n",
    "print(summary_analysis_df)"
   ]
  },
  {
   "cell_type": "code",
   "execution_count": 1089,
   "metadata": {},
   "outputs": [],
   "source": [
    "#summary analysis table\n",
    "#summary_analysis_df\n",
    "#summary_dataframe_df = pd.DataFrame(summary_analysis_df, columns=['Total Number of Players', 'Unique Item Counts', 'Average Item Price', 'Total Purchases', 'Total Revenue'])\n",
    "#print(summary_dataframe_df)"
   ]
  },
  {
   "cell_type": "code",
   "execution_count": 1090,
   "metadata": {},
   "outputs": [],
   "source": [
    "no_duplicates = purchase_data_df.loc[:, [\"SN\", \"Gender\"]]\n",
    "no_duplicates = no_duplicates.drop_duplicates()"
   ]
  },
  {
   "cell_type": "code",
   "execution_count": 1091,
   "metadata": {},
   "outputs": [
    {
     "output_type": "execute_result",
     "data": {
      "text/plain": [
       "Male                     484\n",
       "Female                    81\n",
       "Other / Non-Disclosed     11\n",
       "Name: Gender, dtype: int64"
      ]
     },
     "metadata": {},
     "execution_count": 1091
    }
   ],
   "source": [
    "#get a count and percentage of male players & female players & Other/Non-disclosed\n",
    "gendered_value_counts_df = no_duplicates['Gender'].value_counts()\n",
    "gendered_value_counts_df\n",
    "#display the table"
   ]
  },
  {
   "cell_type": "code",
   "execution_count": 1092,
   "metadata": {},
   "outputs": [
    {
     "output_type": "execute_result",
     "data": {
      "text/plain": [
       "                       Player Count Percentage\n",
       "Male                            484     84.03%\n",
       "Female                           81     14.06%\n",
       "Other / Non-Disclosed            11      1.91%"
      ],
      "text/html": "<div>\n<style scoped>\n    .dataframe tbody tr th:only-of-type {\n        vertical-align: middle;\n    }\n\n    .dataframe tbody tr th {\n        vertical-align: top;\n    }\n\n    .dataframe thead th {\n        text-align: right;\n    }\n</style>\n<table border=\"1\" class=\"dataframe\">\n  <thead>\n    <tr style=\"text-align: right;\">\n      <th></th>\n      <th>Player Count</th>\n      <th>Percentage</th>\n    </tr>\n  </thead>\n  <tbody>\n    <tr>\n      <th>Male</th>\n      <td>484</td>\n      <td>84.03%</td>\n    </tr>\n    <tr>\n      <th>Female</th>\n      <td>81</td>\n      <td>14.06%</td>\n    </tr>\n    <tr>\n      <th>Other / Non-Disclosed</th>\n      <td>11</td>\n      <td>1.91%</td>\n    </tr>\n  </tbody>\n</table>\n</div>"
     },
     "metadata": {},
     "execution_count": 1092
    }
   ],
   "source": [
    "#percentages per gender (FORMAT PERCENTAGE LATER)\n",
    "gender_percent = ((gendered_value_counts_df/all_players)*100).round(2) \n",
    "gender_percent\n",
    "gendered_analysis_df = pd.DataFrame({\"Player Count\": gendered_value_counts_df, \"Percentage\": gender_percent})\n",
    "gendered_analysis_df[\"Percentage\"] = gendered_analysis_df[\"Percentage\"].map(\"{:.2f}%\".format)\n",
    "gendered_analysis_df\n",
    "\n"
   ]
  },
  {
   "cell_type": "code",
   "execution_count": 1093,
   "metadata": {},
   "outputs": [
    {
     "output_type": "execute_result",
     "data": {
      "text/plain": [
       "     Purchase ID               SN  Age  Gender  Item ID  \\\n",
       "15            15        Lisassa64   21  Female       98   \n",
       "18            18        Reunasu60   22  Female       82   \n",
       "38            38         Reulae52   10  Female      116   \n",
       "41            41        Assosia88   20  Female        7   \n",
       "55            55        Phaelap26   25  Female       84   \n",
       "..           ...              ...  ...     ...      ...   \n",
       "731          731         Eudanu84   22  Female       12   \n",
       "740          740        Reunasu60   22  Female      127   \n",
       "754          754  Pheosurllorin41   23  Female       79   \n",
       "767          767          Ilmol66    8  Female       92   \n",
       "775          775       Aethedru70   21  Female       60   \n",
       "\n",
       "                        Item Name  Price  \n",
       "15    Deadline, Voice Of Subtlety   2.89  \n",
       "18                        Nirvana   4.90  \n",
       "38        Renewed Skeletal Katana   4.18  \n",
       "41   Thorn, Satchel of Dark Souls   1.33  \n",
       "55                     Arcane Gem   3.79  \n",
       "..                            ...    ...  \n",
       "731                         Dawne   1.02  \n",
       "740  Heartseeker, Reaver of Souls   3.92  \n",
       "754           Alpha, Oath of Zeal   4.05  \n",
       "767                  Final Critic   4.88  \n",
       "775                          Wolf   3.54  \n",
       "\n",
       "[113 rows x 7 columns]"
      ],
      "text/html": "<div>\n<style scoped>\n    .dataframe tbody tr th:only-of-type {\n        vertical-align: middle;\n    }\n\n    .dataframe tbody tr th {\n        vertical-align: top;\n    }\n\n    .dataframe thead th {\n        text-align: right;\n    }\n</style>\n<table border=\"1\" class=\"dataframe\">\n  <thead>\n    <tr style=\"text-align: right;\">\n      <th></th>\n      <th>Purchase ID</th>\n      <th>SN</th>\n      <th>Age</th>\n      <th>Gender</th>\n      <th>Item ID</th>\n      <th>Item Name</th>\n      <th>Price</th>\n    </tr>\n  </thead>\n  <tbody>\n    <tr>\n      <th>15</th>\n      <td>15</td>\n      <td>Lisassa64</td>\n      <td>21</td>\n      <td>Female</td>\n      <td>98</td>\n      <td>Deadline, Voice Of Subtlety</td>\n      <td>2.89</td>\n    </tr>\n    <tr>\n      <th>18</th>\n      <td>18</td>\n      <td>Reunasu60</td>\n      <td>22</td>\n      <td>Female</td>\n      <td>82</td>\n      <td>Nirvana</td>\n      <td>4.90</td>\n    </tr>\n    <tr>\n      <th>38</th>\n      <td>38</td>\n      <td>Reulae52</td>\n      <td>10</td>\n      <td>Female</td>\n      <td>116</td>\n      <td>Renewed Skeletal Katana</td>\n      <td>4.18</td>\n    </tr>\n    <tr>\n      <th>41</th>\n      <td>41</td>\n      <td>Assosia88</td>\n      <td>20</td>\n      <td>Female</td>\n      <td>7</td>\n      <td>Thorn, Satchel of Dark Souls</td>\n      <td>1.33</td>\n    </tr>\n    <tr>\n      <th>55</th>\n      <td>55</td>\n      <td>Phaelap26</td>\n      <td>25</td>\n      <td>Female</td>\n      <td>84</td>\n      <td>Arcane Gem</td>\n      <td>3.79</td>\n    </tr>\n    <tr>\n      <th>...</th>\n      <td>...</td>\n      <td>...</td>\n      <td>...</td>\n      <td>...</td>\n      <td>...</td>\n      <td>...</td>\n      <td>...</td>\n    </tr>\n    <tr>\n      <th>731</th>\n      <td>731</td>\n      <td>Eudanu84</td>\n      <td>22</td>\n      <td>Female</td>\n      <td>12</td>\n      <td>Dawne</td>\n      <td>1.02</td>\n    </tr>\n    <tr>\n      <th>740</th>\n      <td>740</td>\n      <td>Reunasu60</td>\n      <td>22</td>\n      <td>Female</td>\n      <td>127</td>\n      <td>Heartseeker, Reaver of Souls</td>\n      <td>3.92</td>\n    </tr>\n    <tr>\n      <th>754</th>\n      <td>754</td>\n      <td>Pheosurllorin41</td>\n      <td>23</td>\n      <td>Female</td>\n      <td>79</td>\n      <td>Alpha, Oath of Zeal</td>\n      <td>4.05</td>\n    </tr>\n    <tr>\n      <th>767</th>\n      <td>767</td>\n      <td>Ilmol66</td>\n      <td>8</td>\n      <td>Female</td>\n      <td>92</td>\n      <td>Final Critic</td>\n      <td>4.88</td>\n    </tr>\n    <tr>\n      <th>775</th>\n      <td>775</td>\n      <td>Aethedru70</td>\n      <td>21</td>\n      <td>Female</td>\n      <td>60</td>\n      <td>Wolf</td>\n      <td>3.54</td>\n    </tr>\n  </tbody>\n</table>\n<p>113 rows × 7 columns</p>\n</div>"
     },
     "metadata": {},
     "execution_count": 1093
    }
   ],
   "source": [
    "grouped_by_F_df = purchase_data_df.loc[purchase_data_df[\"Gender\"] == \"Female\", :]\n",
    "grouped_by_F_df\n"
   ]
  },
  {
   "cell_type": "code",
   "execution_count": 1094,
   "metadata": {},
   "outputs": [
    {
     "output_type": "execute_result",
     "data": {
      "text/plain": [
       "     Purchase ID             SN  Age Gender  Item ID  \\\n",
       "0              0        Lisim78   20   Male      108   \n",
       "1              1    Lisovynya38   40   Male      143   \n",
       "2              2     Ithergue48   24   Male       92   \n",
       "3              3  Chamassasya86   24   Male      100   \n",
       "4              4      Iskosia90   23   Male      131   \n",
       "..           ...            ...  ...    ...      ...   \n",
       "774          774     Jiskjask80   11   Male       92   \n",
       "776          776         Iral74   21   Male      164   \n",
       "777          777     Yathecal72   20   Male       67   \n",
       "778          778        Sisur91    7   Male       92   \n",
       "779          779      Ennrian78   24   Male       50   \n",
       "\n",
       "                                     Item Name  Price  \n",
       "0    Extraction, Quickblade Of Trembling Hands   3.53  \n",
       "1                            Frenzied Scimitar   1.56  \n",
       "2                                 Final Critic   4.88  \n",
       "3                                  Blindscythe   3.27  \n",
       "4                                         Fury   1.44  \n",
       "..                                         ...    ...  \n",
       "774                               Final Critic   4.19  \n",
       "776                           Exiled Doomblade   1.63  \n",
       "777      Celeste, Incarnation of the Corrupted   3.46  \n",
       "778                               Final Critic   4.19  \n",
       "779                                       Dawn   4.60  \n",
       "\n",
       "[652 rows x 7 columns]"
      ],
      "text/html": "<div>\n<style scoped>\n    .dataframe tbody tr th:only-of-type {\n        vertical-align: middle;\n    }\n\n    .dataframe tbody tr th {\n        vertical-align: top;\n    }\n\n    .dataframe thead th {\n        text-align: right;\n    }\n</style>\n<table border=\"1\" class=\"dataframe\">\n  <thead>\n    <tr style=\"text-align: right;\">\n      <th></th>\n      <th>Purchase ID</th>\n      <th>SN</th>\n      <th>Age</th>\n      <th>Gender</th>\n      <th>Item ID</th>\n      <th>Item Name</th>\n      <th>Price</th>\n    </tr>\n  </thead>\n  <tbody>\n    <tr>\n      <th>0</th>\n      <td>0</td>\n      <td>Lisim78</td>\n      <td>20</td>\n      <td>Male</td>\n      <td>108</td>\n      <td>Extraction, Quickblade Of Trembling Hands</td>\n      <td>3.53</td>\n    </tr>\n    <tr>\n      <th>1</th>\n      <td>1</td>\n      <td>Lisovynya38</td>\n      <td>40</td>\n      <td>Male</td>\n      <td>143</td>\n      <td>Frenzied Scimitar</td>\n      <td>1.56</td>\n    </tr>\n    <tr>\n      <th>2</th>\n      <td>2</td>\n      <td>Ithergue48</td>\n      <td>24</td>\n      <td>Male</td>\n      <td>92</td>\n      <td>Final Critic</td>\n      <td>4.88</td>\n    </tr>\n    <tr>\n      <th>3</th>\n      <td>3</td>\n      <td>Chamassasya86</td>\n      <td>24</td>\n      <td>Male</td>\n      <td>100</td>\n      <td>Blindscythe</td>\n      <td>3.27</td>\n    </tr>\n    <tr>\n      <th>4</th>\n      <td>4</td>\n      <td>Iskosia90</td>\n      <td>23</td>\n      <td>Male</td>\n      <td>131</td>\n      <td>Fury</td>\n      <td>1.44</td>\n    </tr>\n    <tr>\n      <th>...</th>\n      <td>...</td>\n      <td>...</td>\n      <td>...</td>\n      <td>...</td>\n      <td>...</td>\n      <td>...</td>\n      <td>...</td>\n    </tr>\n    <tr>\n      <th>774</th>\n      <td>774</td>\n      <td>Jiskjask80</td>\n      <td>11</td>\n      <td>Male</td>\n      <td>92</td>\n      <td>Final Critic</td>\n      <td>4.19</td>\n    </tr>\n    <tr>\n      <th>776</th>\n      <td>776</td>\n      <td>Iral74</td>\n      <td>21</td>\n      <td>Male</td>\n      <td>164</td>\n      <td>Exiled Doomblade</td>\n      <td>1.63</td>\n    </tr>\n    <tr>\n      <th>777</th>\n      <td>777</td>\n      <td>Yathecal72</td>\n      <td>20</td>\n      <td>Male</td>\n      <td>67</td>\n      <td>Celeste, Incarnation of the Corrupted</td>\n      <td>3.46</td>\n    </tr>\n    <tr>\n      <th>778</th>\n      <td>778</td>\n      <td>Sisur91</td>\n      <td>7</td>\n      <td>Male</td>\n      <td>92</td>\n      <td>Final Critic</td>\n      <td>4.19</td>\n    </tr>\n    <tr>\n      <th>779</th>\n      <td>779</td>\n      <td>Ennrian78</td>\n      <td>24</td>\n      <td>Male</td>\n      <td>50</td>\n      <td>Dawn</td>\n      <td>4.60</td>\n    </tr>\n  </tbody>\n</table>\n<p>652 rows × 7 columns</p>\n</div>"
     },
     "metadata": {},
     "execution_count": 1094
    }
   ],
   "source": [
    "grouped_by_M_df = purchase_data_df.loc[purchase_data_df[\"Gender\"] == \"Male\", :]\n",
    "grouped_by_M_df"
   ]
  },
  {
   "cell_type": "code",
   "execution_count": 1095,
   "metadata": {},
   "outputs": [
    {
     "output_type": "execute_result",
     "data": {
      "text/plain": [
       "     Purchase ID            SN  Age                 Gender  Item ID  \\\n",
       "9              9   Chanosian48   35  Other / Non-Disclosed      136   \n",
       "22            22  Siarithria38   38  Other / Non-Disclosed       24   \n",
       "82            82    Haerithp41   16  Other / Non-Disclosed      160   \n",
       "111          111      Sundim98   21  Other / Non-Disclosed       41   \n",
       "228          228   Jiskirran77   20  Other / Non-Disclosed       80   \n",
       "237          237     Idairin51   20  Other / Non-Disclosed       16   \n",
       "242          242     Eodaisu60   16  Other / Non-Disclosed       39   \n",
       "291          291     Idairin51   20  Other / Non-Disclosed       35   \n",
       "350          350     Rairith81   15  Other / Non-Disclosed       34   \n",
       "401          401      Lirtim36   15  Other / Non-Disclosed       46   \n",
       "484          484   Chanosian48   35  Other / Non-Disclosed       39   \n",
       "549          549    Maluncil97   25  Other / Non-Disclosed      146   \n",
       "629          629    Maluncil97   25  Other / Non-Disclosed      107   \n",
       "637          637        Airi27   24  Other / Non-Disclosed      163   \n",
       "747          747  Siarithria38   38  Other / Non-Disclosed      146   \n",
       "\n",
       "                                Item Name  Price  \n",
       "9            Ghastly Adamantite Protector   3.58  \n",
       "22                          Warped Fetish   3.81  \n",
       "82                             Azurewrath   4.40  \n",
       "111                                 Orbit   4.75  \n",
       "228                             Dreamsong   3.39  \n",
       "237                       Restored Bauble   3.55  \n",
       "242  Betrayal, Whisper of Grieving Widows   3.94  \n",
       "291              Heartless Bone Dualblade   3.45  \n",
       "350                       Retribution Axe   2.22  \n",
       "401               Hopeless Ebon Dualblade   1.33  \n",
       "484  Betrayal, Whisper of Grieving Widows   3.94  \n",
       "549                  Warped Iron Scimitar   3.10  \n",
       "629             Splitter, Foe Of Subtlety   2.18  \n",
       "637                  Thunderfury Scimitar   3.45  \n",
       "747                  Warped Iron Scimitar   3.10  "
      ],
      "text/html": "<div>\n<style scoped>\n    .dataframe tbody tr th:only-of-type {\n        vertical-align: middle;\n    }\n\n    .dataframe tbody tr th {\n        vertical-align: top;\n    }\n\n    .dataframe thead th {\n        text-align: right;\n    }\n</style>\n<table border=\"1\" class=\"dataframe\">\n  <thead>\n    <tr style=\"text-align: right;\">\n      <th></th>\n      <th>Purchase ID</th>\n      <th>SN</th>\n      <th>Age</th>\n      <th>Gender</th>\n      <th>Item ID</th>\n      <th>Item Name</th>\n      <th>Price</th>\n    </tr>\n  </thead>\n  <tbody>\n    <tr>\n      <th>9</th>\n      <td>9</td>\n      <td>Chanosian48</td>\n      <td>35</td>\n      <td>Other / Non-Disclosed</td>\n      <td>136</td>\n      <td>Ghastly Adamantite Protector</td>\n      <td>3.58</td>\n    </tr>\n    <tr>\n      <th>22</th>\n      <td>22</td>\n      <td>Siarithria38</td>\n      <td>38</td>\n      <td>Other / Non-Disclosed</td>\n      <td>24</td>\n      <td>Warped Fetish</td>\n      <td>3.81</td>\n    </tr>\n    <tr>\n      <th>82</th>\n      <td>82</td>\n      <td>Haerithp41</td>\n      <td>16</td>\n      <td>Other / Non-Disclosed</td>\n      <td>160</td>\n      <td>Azurewrath</td>\n      <td>4.40</td>\n    </tr>\n    <tr>\n      <th>111</th>\n      <td>111</td>\n      <td>Sundim98</td>\n      <td>21</td>\n      <td>Other / Non-Disclosed</td>\n      <td>41</td>\n      <td>Orbit</td>\n      <td>4.75</td>\n    </tr>\n    <tr>\n      <th>228</th>\n      <td>228</td>\n      <td>Jiskirran77</td>\n      <td>20</td>\n      <td>Other / Non-Disclosed</td>\n      <td>80</td>\n      <td>Dreamsong</td>\n      <td>3.39</td>\n    </tr>\n    <tr>\n      <th>237</th>\n      <td>237</td>\n      <td>Idairin51</td>\n      <td>20</td>\n      <td>Other / Non-Disclosed</td>\n      <td>16</td>\n      <td>Restored Bauble</td>\n      <td>3.55</td>\n    </tr>\n    <tr>\n      <th>242</th>\n      <td>242</td>\n      <td>Eodaisu60</td>\n      <td>16</td>\n      <td>Other / Non-Disclosed</td>\n      <td>39</td>\n      <td>Betrayal, Whisper of Grieving Widows</td>\n      <td>3.94</td>\n    </tr>\n    <tr>\n      <th>291</th>\n      <td>291</td>\n      <td>Idairin51</td>\n      <td>20</td>\n      <td>Other / Non-Disclosed</td>\n      <td>35</td>\n      <td>Heartless Bone Dualblade</td>\n      <td>3.45</td>\n    </tr>\n    <tr>\n      <th>350</th>\n      <td>350</td>\n      <td>Rairith81</td>\n      <td>15</td>\n      <td>Other / Non-Disclosed</td>\n      <td>34</td>\n      <td>Retribution Axe</td>\n      <td>2.22</td>\n    </tr>\n    <tr>\n      <th>401</th>\n      <td>401</td>\n      <td>Lirtim36</td>\n      <td>15</td>\n      <td>Other / Non-Disclosed</td>\n      <td>46</td>\n      <td>Hopeless Ebon Dualblade</td>\n      <td>1.33</td>\n    </tr>\n    <tr>\n      <th>484</th>\n      <td>484</td>\n      <td>Chanosian48</td>\n      <td>35</td>\n      <td>Other / Non-Disclosed</td>\n      <td>39</td>\n      <td>Betrayal, Whisper of Grieving Widows</td>\n      <td>3.94</td>\n    </tr>\n    <tr>\n      <th>549</th>\n      <td>549</td>\n      <td>Maluncil97</td>\n      <td>25</td>\n      <td>Other / Non-Disclosed</td>\n      <td>146</td>\n      <td>Warped Iron Scimitar</td>\n      <td>3.10</td>\n    </tr>\n    <tr>\n      <th>629</th>\n      <td>629</td>\n      <td>Maluncil97</td>\n      <td>25</td>\n      <td>Other / Non-Disclosed</td>\n      <td>107</td>\n      <td>Splitter, Foe Of Subtlety</td>\n      <td>2.18</td>\n    </tr>\n    <tr>\n      <th>637</th>\n      <td>637</td>\n      <td>Airi27</td>\n      <td>24</td>\n      <td>Other / Non-Disclosed</td>\n      <td>163</td>\n      <td>Thunderfury Scimitar</td>\n      <td>3.45</td>\n    </tr>\n    <tr>\n      <th>747</th>\n      <td>747</td>\n      <td>Siarithria38</td>\n      <td>38</td>\n      <td>Other / Non-Disclosed</td>\n      <td>146</td>\n      <td>Warped Iron Scimitar</td>\n      <td>3.10</td>\n    </tr>\n  </tbody>\n</table>\n</div>"
     },
     "metadata": {},
     "execution_count": 1095
    }
   ],
   "source": [
    "grouped_by_nondisc_df = purchase_data_df.loc[purchase_data_df[\"Gender\"] == \"Other / Non-Disclosed\", :]\n",
    "grouped_by_nondisc_df"
   ]
  },
  {
   "cell_type": "code",
   "execution_count": 1096,
   "metadata": {},
   "outputs": [
    {
     "output_type": "stream",
     "name": "stdout",
     "text": [
      "                       Price\nGender                      \nFemale                   113\nMale                     652\nOther / Non-Disclosed     15\n                       Price\nGender                      \nFemale                  3.20\nMale                    3.02\nOther / Non-Disclosed   3.35\n                         Price\nGender                        \nFemale                  361.94\nMale                   1967.64\nOther / Non-Disclosed    50.19\n                          0\nFemale                 4.47\nMale                   4.07\nOther / Non-Disclosed  4.56\n"
     ]
    }
   ],
   "source": [
    "#create a purchase analysis by gender & save to gendered_purchase_analysis_df\n",
    "gendered_purchases = purchase_data_df.loc[:, [\"Gender\", \"Price\"]]\n",
    "gendered_purchases\n",
    "\n",
    "#purchase count\n",
    "purchases_by_gender = pd.DataFrame(gendered_purchases.groupby([\"Gender\"]).count())\n",
    "print(purchases_by_gender)\n",
    "\n",
    "#average purchase price\n",
    "average_purchases_by_gender = pd.DataFrame(gendered_purchases.groupby([\"Gender\"]).mean().round(2))\n",
    "print(average_purchases_by_gender)\n",
    "\n",
    "#total purchase value\n",
    "total_value_by_gender = pd.DataFrame(gendered_purchases.groupby([\"Gender\"]).sum())\n",
    "print(total_value_by_gender)\n",
    "\n",
    "\n"
   ]
  },
  {
   "cell_type": "code",
   "execution_count": 1114,
   "metadata": {},
   "outputs": [
    {
     "output_type": "stream",
     "name": "stdout",
     "text": [
      "                       Average Total Purchase\nFemale                                   4.47\nMale                                     4.07\nOther / Non-Disclosed                    4.56\n"
     ]
    }
   ],
   "source": [
    "#average total purchase per person (by gender values)\n",
    "average_total_purchase = (total_value_by_gender[\"Price\"] / gendered_analysis_df[\"Player Count\"]).round(2)\n",
    "average_total_purchase = pd.DataFrame({\"Average Total Purchase\":average_total_purchase})\n",
    "print(average_total_purchase)"
   ]
  },
  {
   "cell_type": "code",
   "execution_count": 1097,
   "metadata": {},
   "outputs": [
    {
     "output_type": "execute_result",
     "data": {
      "text/plain": [
       "                       Purchases  Average Purchases\n",
       "Gender                                             \n",
       "Female                       113               3.20\n",
       "Male                         652               3.02\n",
       "Other / Non-Disclosed         15               3.35"
      ],
      "text/html": "<div>\n<style scoped>\n    .dataframe tbody tr th:only-of-type {\n        vertical-align: middle;\n    }\n\n    .dataframe tbody tr th {\n        vertical-align: top;\n    }\n\n    .dataframe thead th {\n        text-align: right;\n    }\n</style>\n<table border=\"1\" class=\"dataframe\">\n  <thead>\n    <tr style=\"text-align: right;\">\n      <th></th>\n      <th>Purchases</th>\n      <th>Average Purchases</th>\n    </tr>\n    <tr>\n      <th>Gender</th>\n      <th></th>\n      <th></th>\n    </tr>\n  </thead>\n  <tbody>\n    <tr>\n      <th>Female</th>\n      <td>113</td>\n      <td>3.20</td>\n    </tr>\n    <tr>\n      <th>Male</th>\n      <td>652</td>\n      <td>3.02</td>\n    </tr>\n    <tr>\n      <th>Other / Non-Disclosed</th>\n      <td>15</td>\n      <td>3.35</td>\n    </tr>\n  </tbody>\n</table>\n</div>"
     },
     "metadata": {},
     "execution_count": 1097
    }
   ],
   "source": [
    "#create df and print results\n",
    "gender_summary_df = pd.merge(purchases_by_gender, average_purchases_by_gender, on=\"Gender\")\n",
    "gender_summary_df = gender_summary_df.rename(columns={\"Price_x\":\"Purchases\", \"Price_y\":\"Average Purchases\"})\n",
    "gender_summary_df"
   ]
  },
  {
   "cell_type": "code",
   "execution_count": 1098,
   "metadata": {},
   "outputs": [
    {
     "output_type": "execute_result",
     "data": {
      "text/plain": [
       "                       Purchases  Average Purchases  Total Revenue\n",
       "Gender                                                            \n",
       "Female                       113               3.20         361.94\n",
       "Male                         652               3.02        1967.64\n",
       "Other / Non-Disclosed         15               3.35          50.19"
      ],
      "text/html": "<div>\n<style scoped>\n    .dataframe tbody tr th:only-of-type {\n        vertical-align: middle;\n    }\n\n    .dataframe tbody tr th {\n        vertical-align: top;\n    }\n\n    .dataframe thead th {\n        text-align: right;\n    }\n</style>\n<table border=\"1\" class=\"dataframe\">\n  <thead>\n    <tr style=\"text-align: right;\">\n      <th></th>\n      <th>Purchases</th>\n      <th>Average Purchases</th>\n      <th>Total Revenue</th>\n    </tr>\n    <tr>\n      <th>Gender</th>\n      <th></th>\n      <th></th>\n      <th></th>\n    </tr>\n  </thead>\n  <tbody>\n    <tr>\n      <th>Female</th>\n      <td>113</td>\n      <td>3.20</td>\n      <td>361.94</td>\n    </tr>\n    <tr>\n      <th>Male</th>\n      <td>652</td>\n      <td>3.02</td>\n      <td>1967.64</td>\n    </tr>\n    <tr>\n      <th>Other / Non-Disclosed</th>\n      <td>15</td>\n      <td>3.35</td>\n      <td>50.19</td>\n    </tr>\n  </tbody>\n</table>\n</div>"
     },
     "metadata": {},
     "execution_count": 1098
    }
   ],
   "source": [
    "gender_summary_df = pd.merge(gender_summary_df, total_value_by_gender, on=\"Gender\")\n",
    "gender_summary_df = gender_summary_df.rename(columns={\"Price\":\"Total Revenue\"})\n",
    "gender_summary_df\n"
   ]
  },
  {
   "cell_type": "code",
   "execution_count": 1117,
   "metadata": {},
   "outputs": [
    {
     "output_type": "execute_result",
     "data": {
      "text/plain": [
       "                       Purchases  Average Purchases  Total Revenue  \\\n",
       "Gender                                                               \n",
       "Female                       113               3.20         361.94   \n",
       "Male                         652               3.02        1967.64   \n",
       "Other / Non-Disclosed         15               3.35          50.19   \n",
       "\n",
       "                       Average Total Purchase  \n",
       "Gender                                         \n",
       "Female                                   4.47  \n",
       "Male                                     4.07  \n",
       "Other / Non-Disclosed                    4.56  "
      ],
      "text/html": "<div>\n<style scoped>\n    .dataframe tbody tr th:only-of-type {\n        vertical-align: middle;\n    }\n\n    .dataframe tbody tr th {\n        vertical-align: top;\n    }\n\n    .dataframe thead th {\n        text-align: right;\n    }\n</style>\n<table border=\"1\" class=\"dataframe\">\n  <thead>\n    <tr style=\"text-align: right;\">\n      <th></th>\n      <th>Purchases</th>\n      <th>Average Purchases</th>\n      <th>Total Revenue</th>\n      <th>Average Total Purchase</th>\n    </tr>\n    <tr>\n      <th>Gender</th>\n      <th></th>\n      <th></th>\n      <th></th>\n      <th></th>\n    </tr>\n  </thead>\n  <tbody>\n    <tr>\n      <th>Female</th>\n      <td>113</td>\n      <td>3.20</td>\n      <td>361.94</td>\n      <td>4.47</td>\n    </tr>\n    <tr>\n      <th>Male</th>\n      <td>652</td>\n      <td>3.02</td>\n      <td>1967.64</td>\n      <td>4.07</td>\n    </tr>\n    <tr>\n      <th>Other / Non-Disclosed</th>\n      <td>15</td>\n      <td>3.35</td>\n      <td>50.19</td>\n      <td>4.56</td>\n    </tr>\n  </tbody>\n</table>\n</div>"
     },
     "metadata": {},
     "execution_count": 1117
    }
   ],
   "source": [
    "gender_summary_df = pd.concat([gender_summary_df, average_total_purchase], axis=1)\n",
    "gender_summary_df"
   ]
  },
  {
   "cell_type": "code",
   "execution_count": 1099,
   "metadata": {},
   "outputs": [],
   "source": [
    "#age demographics\n",
    "#establish bins for age group (<10, 10-14, 15-19, 20-24, 25-29, 30-34, 35-39, 40+)\n",
    "#categorize existing players into age bins ---> pd.cut()\n",
    "#summarize results in a age_demo_df\n",
    "#round percentages to 2 decimal points format column \n",
    "#print(age_demo_df.head())"
   ]
  },
  {
   "cell_type": "code",
   "execution_count": 1100,
   "metadata": {},
   "outputs": [],
   "source": [
    "#create another purchase analysis by age\n",
    "#calculate purchase count, av purchase price, total purchase value, av total purchase per person\n",
    "#print(analysis_by_age_df)"
   ]
  },
  {
   "cell_type": "code",
   "execution_count": 1101,
   "metadata": {},
   "outputs": [],
   "source": [
    "#create a df of top_spenders_df and run analysis on purchase count, av purchase price, total purchase value, along with their screen name\n",
    "#print(top_spenders_df.head())"
   ]
  },
  {
   "cell_type": "code",
   "execution_count": 1102,
   "metadata": {},
   "outputs": [],
   "source": [
    "#most popular items df\n",
    "#get item ID, item name, and item price columns\n",
    "#groupby item ID and item name\n",
    "#create df and sort count column in descending order\n",
    "#optional: clean up formatting\n",
    "#print(popular_items_df.head())"
   ]
  },
  {
   "cell_type": "code",
   "execution_count": 1103,
   "metadata": {},
   "outputs": [],
   "source": [
    "#most profitable items df\n",
    "#sort most pop items df by total purchase value in descending order\n",
    "#display a preview of the data .head()"
   ]
  }
 ]
}