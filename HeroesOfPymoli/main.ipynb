{
 "metadata": {
  "language_info": {
   "codemirror_mode": {
    "name": "ipython",
    "version": 3
   },
   "file_extension": ".py",
   "mimetype": "text/x-python",
   "name": "python",
   "nbconvert_exporter": "python",
   "pygments_lexer": "ipython3",
   "version": "3.8.5"
  },
  "orig_nbformat": 2,
  "kernelspec": {
   "name": "python385jvsc74a57bd0b75be9ad71603c40476c6c8216298ace4da278de65ecdbf5da31753ceef4d599",
   "display_name": "Python 3.8.5 64-bit ('base': conda)"
  }
 },
 "nbformat": 4,
 "nbformat_minor": 2,
 "cells": [
  {
   "cell_type": "code",
   "execution_count": 21,
   "metadata": {},
   "outputs": [],
   "source": [
    "#create dependencies\n",
    "import pandas as pd\n",
    "import csv"
   ]
  },
  {
   "cell_type": "code",
   "execution_count": 22,
   "metadata": {},
   "outputs": [],
   "source": [
    "#read csv file\n",
    "file_to_load_df = \"purchase_data.csv\"\n",
    "summary_analysis_df = []"
   ]
  },
  {
   "cell_type": "code",
   "execution_count": 23,
   "metadata": {},
   "outputs": [
    {
     "output_type": "execute_result",
     "data": {
      "text/plain": [
       "   Purchase ID             SN  Age Gender  Item ID  \\\n",
       "0            0        Lisim78   20   Male      108   \n",
       "1            1    Lisovynya38   40   Male      143   \n",
       "2            2     Ithergue48   24   Male       92   \n",
       "3            3  Chamassasya86   24   Male      100   \n",
       "4            4      Iskosia90   23   Male      131   \n",
       "\n",
       "                                   Item Name  Price  \n",
       "0  Extraction, Quickblade Of Trembling Hands   3.53  \n",
       "1                          Frenzied Scimitar   1.56  \n",
       "2                               Final Critic   4.88  \n",
       "3                                Blindscythe   3.27  \n",
       "4                                       Fury   1.44  "
      ],
      "text/html": "<div>\n<style scoped>\n    .dataframe tbody tr th:only-of-type {\n        vertical-align: middle;\n    }\n\n    .dataframe tbody tr th {\n        vertical-align: top;\n    }\n\n    .dataframe thead th {\n        text-align: right;\n    }\n</style>\n<table border=\"1\" class=\"dataframe\">\n  <thead>\n    <tr style=\"text-align: right;\">\n      <th></th>\n      <th>Purchase ID</th>\n      <th>SN</th>\n      <th>Age</th>\n      <th>Gender</th>\n      <th>Item ID</th>\n      <th>Item Name</th>\n      <th>Price</th>\n    </tr>\n  </thead>\n  <tbody>\n    <tr>\n      <th>0</th>\n      <td>0</td>\n      <td>Lisim78</td>\n      <td>20</td>\n      <td>Male</td>\n      <td>108</td>\n      <td>Extraction, Quickblade Of Trembling Hands</td>\n      <td>3.53</td>\n    </tr>\n    <tr>\n      <th>1</th>\n      <td>1</td>\n      <td>Lisovynya38</td>\n      <td>40</td>\n      <td>Male</td>\n      <td>143</td>\n      <td>Frenzied Scimitar</td>\n      <td>1.56</td>\n    </tr>\n    <tr>\n      <th>2</th>\n      <td>2</td>\n      <td>Ithergue48</td>\n      <td>24</td>\n      <td>Male</td>\n      <td>92</td>\n      <td>Final Critic</td>\n      <td>4.88</td>\n    </tr>\n    <tr>\n      <th>3</th>\n      <td>3</td>\n      <td>Chamassasya86</td>\n      <td>24</td>\n      <td>Male</td>\n      <td>100</td>\n      <td>Blindscythe</td>\n      <td>3.27</td>\n    </tr>\n    <tr>\n      <th>4</th>\n      <td>4</td>\n      <td>Iskosia90</td>\n      <td>23</td>\n      <td>Male</td>\n      <td>131</td>\n      <td>Fury</td>\n      <td>1.44</td>\n    </tr>\n  </tbody>\n</table>\n</div>"
     },
     "metadata": {},
     "execution_count": 23
    }
   ],
   "source": [
    "\n",
    "# Read Purchasing File and store into Pandas data frame\n",
    "csv_path = \"/Users/bitty/pandas-challenge/pandas-challenge/Resources/purchase_data.csv\"\n",
    "purchase_data_df = pd.read_csv(csv_path)\n",
    "purchase_data_df.head()"
   ]
  },
  {
   "cell_type": "code",
   "execution_count": 24,
   "metadata": {},
   "outputs": [
    {
     "output_type": "execute_result",
     "data": {
      "text/plain": [
       "[{'Total Number of Players': [780]}]"
      ]
     },
     "metadata": {},
     "execution_count": 24
    }
   ],
   "source": [
    "all_players = purchase_data_df['SN'].count()\n",
    "all_players\n",
    "summary_analysis_df.append({\"Total Number of Players\":[all_players]})\n",
    "#print it as a column? with \"Total Players as the column name\"\n",
    "summary_analysis_df"
   ]
  },
  {
   "cell_type": "code",
   "execution_count": 25,
   "metadata": {},
   "outputs": [],
   "source": [
    "#DELETE THIS LATER\n",
    "#calculate # of players use len\n",
    "#all_players = purchase_data_df['SN'].value_counts()\n",
    "#all_players\n",
    "\n",
    "#print it as a column? with \"Total Players as the column name\"\n"
   ]
  },
  {
   "cell_type": "code",
   "execution_count": 26,
   "metadata": {},
   "outputs": [
    {
     "output_type": "execute_result",
     "data": {
      "text/plain": [
       "Final Critic                                    13\n",
       "Oathbreaker, Last Hope of the Breaking Storm    12\n",
       "Extraction, Quickblade Of Trembling Hands        9\n",
       "Nirvana                                          9\n",
       "Fiery Glass Crusader                             9\n",
       "                                                ..\n",
       "Undead Crusader                                  1\n",
       "Endbringer                                       1\n",
       "Betrayer                                         1\n",
       "Gladiator's Glaive                               1\n",
       "Celeste                                          1\n",
       "Name: Item Name, Length: 179, dtype: int64"
      ]
     },
     "metadata": {},
     "execution_count": 26
    }
   ],
   "source": [
    "#calculate purchase analysis & save to a summary_analysis_df\n",
    "    #number of unique items count\n",
    "unique_items_num = purchase_data_df[\"Item Name\"].value_counts()\n",
    "unique_items_num\n",
    "    "
   ]
  },
  {
   "cell_type": "code",
   "execution_count": 27,
   "metadata": {},
   "outputs": [
    {
     "output_type": "execute_result",
     "data": {
      "text/plain": [
       "[{'Total Number of Players': [780]},\n",
       " {'Unique Item Counts': [Final Critic                                    13\n",
       "   Oathbreaker, Last Hope of the Breaking Storm    12\n",
       "   Extraction, Quickblade Of Trembling Hands        9\n",
       "   Nirvana                                          9\n",
       "   Fiery Glass Crusader                             9\n",
       "                                                   ..\n",
       "   Undead Crusader                                  1\n",
       "   Endbringer                                       1\n",
       "   Betrayer                                         1\n",
       "   Gladiator's Glaive                               1\n",
       "   Celeste                                          1\n",
       "   Name: Item Name, Length: 179, dtype: int64]}]"
      ]
     },
     "metadata": {},
     "execution_count": 27
    }
   ],
   "source": [
    "#save unique items count to df\n",
    "summary_analysis_df.append({\"Unique Item Counts\":[unique_items_num]})\n",
    "summary_analysis_df\n"
   ]
  },
  {
   "cell_type": "code",
   "execution_count": 35,
   "metadata": {},
   "outputs": [
    {
     "output_type": "stream",
     "name": "stdout",
     "text": [
      "3.05\n"
     ]
    }
   ],
   "source": [
    "#average price of items\n",
    "average_price_summary = purchase_data_df[\"Price\"]\n",
    "average_price_summary = purchase_data_df[\"Price\"].sum()\n",
    "average_price_summary = (average_price_summary / all_players).round(2)\n",
    "print(average_price_summary)\n"
   ]
  },
  {
   "cell_type": "code",
   "execution_count": 29,
   "metadata": {},
   "outputs": [
    {
     "output_type": "execute_result",
     "data": {
      "text/plain": [
       "780"
      ]
     },
     "metadata": {},
     "execution_count": 29
    }
   ],
   "source": [
    "    #total number of purchases\n",
    "total_purchases = purchase_data_df[\"Purchase ID\"].count()\n",
    "total_purchases\n",
    "   "
   ]
  },
  {
   "cell_type": "code",
   "execution_count": 30,
   "metadata": {},
   "outputs": [
    {
     "output_type": "execute_result",
     "data": {
      "text/plain": [
       "2379.77"
      ]
     },
     "metadata": {},
     "execution_count": 30
    }
   ],
   "source": [
    " #total revenue\n",
    "total_revenue = purchase_data_df[\"Price\"].sum()\n",
    "total_revenue\n"
   ]
  },
  {
   "cell_type": "code",
   "execution_count": 36,
   "metadata": {},
   "outputs": [
    {
     "output_type": "stream",
     "name": "stdout",
     "text": [
      "[{'Total Number of Players': [780]}, {'Unique Item Counts': [Final Critic                                    13\nOathbreaker, Last Hope of the Breaking Storm    12\nExtraction, Quickblade Of Trembling Hands        9\nNirvana                                          9\nFiery Glass Crusader                             9\n                                                ..\nUndead Crusader                                  1\nEndbringer                                       1\nBetrayer                                         1\nGladiator's Glaive                               1\nCeleste                                          1\nName: Item Name, Length: 179, dtype: int64]}]\n"
     ]
    },
    {
     "output_type": "execute_result",
     "data": {
      "text/plain": [
       "[{'Number of Unique Items': [Final Critic                                    13\n",
       "   Oathbreaker, Last Hope of the Breaking Storm    12\n",
       "   Extraction, Quickblade Of Trembling Hands        9\n",
       "   Nirvana                                          9\n",
       "   Fiery Glass Crusader                             9\n",
       "                                                   ..\n",
       "   Undead Crusader                                  1\n",
       "   Endbringer                                       1\n",
       "   Betrayer                                         1\n",
       "   Gladiator's Glaive                               1\n",
       "   Celeste                                          1\n",
       "   Name: Item Name, Length: 179, dtype: int64]},\n",
       " {'Average Price': [3.05]},\n",
       " {'Number of Purchases': [780]},\n",
       " {'Total Revenue': [2379.77]}]"
      ]
     },
     "metadata": {},
     "execution_count": 36
    }
   ],
   "source": [
    "print(summary_analysis_df)\n",
    "column_names = [{\"Number of Unique Items\":[unique_items_num]},\n",
    "                {\"Average Price\":[average_price_summary]},\n",
    "                {\"Number of Purchases\":[total_purchases]}, \n",
    "                {\"Total Revenue\":[total_revenue]}]\n",
    "column_names"
   ]
  },
  {
   "cell_type": "code",
   "execution_count": null,
   "metadata": {},
   "outputs": [],
   "source": [
    "#get a count and percentage of male players & female players & Other/Non-disclosed\n",
    "#display the table"
   ]
  },
  {
   "cell_type": "code",
   "execution_count": null,
   "metadata": {},
   "outputs": [],
   "source": [
    "#create a purchase analysis by gender & save to gendered_purchase_analysis_df\n",
    "#purchase count\n",
    "#average purchase price\n",
    "#total purchase value\n",
    "#average total purchase per person\n",
    "#create df and print results"
   ]
  },
  {
   "cell_type": "code",
   "execution_count": null,
   "metadata": {},
   "outputs": [],
   "source": [
    "#age demographics\n",
    "#establish bins for age group (<10, 10-14, 15-19, 20-24, 25-29, 30-34, 35-39, 40+)\n",
    "#categorize existing players into age bins ---> pd.cut()\n",
    "#summarize results in a age_demo_df\n",
    "#round percentages to 2 decimal points format column \n",
    "#print(age_demo_df.head())"
   ]
  },
  {
   "cell_type": "code",
   "execution_count": null,
   "metadata": {},
   "outputs": [],
   "source": [
    "#create another purchase analysis by age\n",
    "#calculate purchase count, av purchase price, total purchase value, av total purchase per person\n",
    "#print(analysis_by_age_df)"
   ]
  },
  {
   "cell_type": "code",
   "execution_count": null,
   "metadata": {},
   "outputs": [],
   "source": [
    "#create a df of top_spenders_df and run analysis on purchase count, av purchase price, total purchase value, along with their screen name\n",
    "#print(top_spenders_df.head())"
   ]
  },
  {
   "cell_type": "code",
   "execution_count": null,
   "metadata": {},
   "outputs": [],
   "source": [
    "#most popular items df\n",
    "#get item ID, item name, and item price columns\n",
    "#groupby item ID and item name\n",
    "#create df and sort count column in descending order\n",
    "#optional: clean up formatting\n",
    "#print(popular_items_df.head())"
   ]
  },
  {
   "cell_type": "code",
   "execution_count": null,
   "metadata": {},
   "outputs": [],
   "source": [
    "#most profitable items df\n",
    "#sort most pop items df by total purchase value in descending order\n",
    "#display a preview of the data .head()"
   ]
  }
 ]
}