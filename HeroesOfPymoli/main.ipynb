{
 "metadata": {
  "language_info": {
   "codemirror_mode": {
    "name": "ipython",
    "version": 3
   },
   "file_extension": ".py",
   "mimetype": "text/x-python",
   "name": "python",
   "nbconvert_exporter": "python",
   "pygments_lexer": "ipython3",
   "version": "3.8.5"
  },
  "orig_nbformat": 2,
  "kernelspec": {
   "name": "python385jvsc74a57bd0b75be9ad71603c40476c6c8216298ace4da278de65ecdbf5da31753ceef4d599",
   "display_name": "Python 3.8.5 64-bit ('base': conda)"
  }
 },
 "nbformat": 4,
 "nbformat_minor": 2,
 "cells": [
  {
   "cell_type": "code",
   "execution_count": 1917,
   "metadata": {},
   "outputs": [],
   "source": [
    "#create dependencies\n",
    "import pandas as pd\n",
    "import csv"
   ]
  },
  {
   "cell_type": "code",
   "execution_count": 1918,
   "metadata": {},
   "outputs": [],
   "source": [
    "#read csv file\n",
    "file_to_load_df = \"purchase_data.csv\"\n",
    "summary_analysis_df = []\n",
    "unique_items_list = 0\n",
    "gendered_purchase_analysis_df = []"
   ]
  },
  {
   "cell_type": "code",
   "execution_count": 1919,
   "metadata": {},
   "outputs": [
    {
     "output_type": "execute_result",
     "data": {
      "text/plain": [
       "   Purchase ID             SN  Age Gender  Item ID  \\\n",
       "0            0        Lisim78   20   Male      108   \n",
       "1            1    Lisovynya38   40   Male      143   \n",
       "2            2     Ithergue48   24   Male       92   \n",
       "3            3  Chamassasya86   24   Male      100   \n",
       "4            4      Iskosia90   23   Male      131   \n",
       "\n",
       "                                   Item Name  Price  \n",
       "0  Extraction, Quickblade Of Trembling Hands   3.53  \n",
       "1                          Frenzied Scimitar   1.56  \n",
       "2                               Final Critic   4.88  \n",
       "3                                Blindscythe   3.27  \n",
       "4                                       Fury   1.44  "
      ],
      "text/html": "<div>\n<style scoped>\n    .dataframe tbody tr th:only-of-type {\n        vertical-align: middle;\n    }\n\n    .dataframe tbody tr th {\n        vertical-align: top;\n    }\n\n    .dataframe thead th {\n        text-align: right;\n    }\n</style>\n<table border=\"1\" class=\"dataframe\">\n  <thead>\n    <tr style=\"text-align: right;\">\n      <th></th>\n      <th>Purchase ID</th>\n      <th>SN</th>\n      <th>Age</th>\n      <th>Gender</th>\n      <th>Item ID</th>\n      <th>Item Name</th>\n      <th>Price</th>\n    </tr>\n  </thead>\n  <tbody>\n    <tr>\n      <th>0</th>\n      <td>0</td>\n      <td>Lisim78</td>\n      <td>20</td>\n      <td>Male</td>\n      <td>108</td>\n      <td>Extraction, Quickblade Of Trembling Hands</td>\n      <td>3.53</td>\n    </tr>\n    <tr>\n      <th>1</th>\n      <td>1</td>\n      <td>Lisovynya38</td>\n      <td>40</td>\n      <td>Male</td>\n      <td>143</td>\n      <td>Frenzied Scimitar</td>\n      <td>1.56</td>\n    </tr>\n    <tr>\n      <th>2</th>\n      <td>2</td>\n      <td>Ithergue48</td>\n      <td>24</td>\n      <td>Male</td>\n      <td>92</td>\n      <td>Final Critic</td>\n      <td>4.88</td>\n    </tr>\n    <tr>\n      <th>3</th>\n      <td>3</td>\n      <td>Chamassasya86</td>\n      <td>24</td>\n      <td>Male</td>\n      <td>100</td>\n      <td>Blindscythe</td>\n      <td>3.27</td>\n    </tr>\n    <tr>\n      <th>4</th>\n      <td>4</td>\n      <td>Iskosia90</td>\n      <td>23</td>\n      <td>Male</td>\n      <td>131</td>\n      <td>Fury</td>\n      <td>1.44</td>\n    </tr>\n  </tbody>\n</table>\n</div>"
     },
     "metadata": {},
     "execution_count": 1919
    }
   ],
   "source": [
    "\n",
    "# Read Purchasing File and store into Pandas data frame\n",
    "csv_path = \"/Users/bitty/pandas-challenge/pandas-challenge/Resources/purchase_data.csv\"\n",
    "purchase_data_df = pd.read_csv(csv_path)\n",
    "purchase_data_df.head()"
   ]
  },
  {
   "cell_type": "code",
   "execution_count": 1920,
   "metadata": {},
   "outputs": [
    {
     "output_type": "execute_result",
     "data": {
      "text/plain": [
       "576"
      ]
     },
     "metadata": {},
     "execution_count": 1920
    }
   ],
   "source": [
    "all_players = purchase_data_df['SN'].nunique()\n",
    "all_players\n"
   ]
  },
  {
   "cell_type": "code",
   "execution_count": 1921,
   "metadata": {},
   "outputs": [
    {
     "output_type": "execute_result",
     "data": {
      "text/plain": [
       "Final Critic                                    13\n",
       "Oathbreaker, Last Hope of the Breaking Storm    12\n",
       "Extraction, Quickblade Of Trembling Hands        9\n",
       "Nirvana                                          9\n",
       "Fiery Glass Crusader                             9\n",
       "                                                ..\n",
       "Undead Crusader                                  1\n",
       "Endbringer                                       1\n",
       "Betrayer                                         1\n",
       "Gladiator's Glaive                               1\n",
       "Celeste                                          1\n",
       "Name: Item Name, Length: 179, dtype: int64"
      ]
     },
     "metadata": {},
     "execution_count": 1921
    }
   ],
   "source": [
    "#calculate purchase analysis & save to a summary_analysis_df\n",
    "    #number of unique items count\n",
    "unique_items_num = purchase_data_df[\"Item Name\"].value_counts()\n",
    "unique_items_num\n",
    "    "
   ]
  },
  {
   "cell_type": "code",
   "execution_count": 1922,
   "metadata": {},
   "outputs": [
    {
     "output_type": "stream",
     "name": "stdout",
     "text": [
      "179\n"
     ]
    }
   ],
   "source": [
    "unique_items = purchase_data_df[\"Item Name\"].unique()\n",
    "print(len(unique_items))"
   ]
  },
  {
   "cell_type": "code",
   "execution_count": 1923,
   "metadata": {},
   "outputs": [
    {
     "output_type": "stream",
     "name": "stdout",
     "text": [
      "3.05\n"
     ]
    }
   ],
   "source": [
    "#average price of items\n",
    "average_price_summary = purchase_data_df[\"Price\"]\n",
    "average_price_summary = purchase_data_df[\"Price\"].sum()\n",
    "average_price_summary = (average_price_summary / total_purchases).round(2)\n",
    "print(average_price_summary)\n"
   ]
  },
  {
   "cell_type": "code",
   "execution_count": 1924,
   "metadata": {},
   "outputs": [
    {
     "output_type": "execute_result",
     "data": {
      "text/plain": [
       "780"
      ]
     },
     "metadata": {},
     "execution_count": 1924
    }
   ],
   "source": [
    "    #total number of purchases\n",
    "total_purchases = purchase_data_df[\"Purchase ID\"].count()\n",
    "total_purchases\n",
    "   "
   ]
  },
  {
   "cell_type": "code",
   "execution_count": 1925,
   "metadata": {},
   "outputs": [
    {
     "output_type": "execute_result",
     "data": {
      "text/plain": [
       "2379.77"
      ]
     },
     "metadata": {},
     "execution_count": 1925
    }
   ],
   "source": [
    " #total revenue\n",
    "total_revenue = purchase_data_df[\"Price\"].sum()\n",
    "total_revenue\n"
   ]
  },
  {
   "cell_type": "code",
   "execution_count": 1926,
   "metadata": {},
   "outputs": [
    {
     "output_type": "stream",
     "name": "stdout",
     "text": [
      "   Total Numbers of Players  Unique Item Counts  Average  Total Purchases  \\\n0                       576                 179     3.05              780   \n\n   Total Revenue  \n0        2379.77  \n"
     ]
    }
   ],
   "source": [
    "#summary analysis table\n",
    "summary_analysis_df = pd.DataFrame({\"Total Numbers of Players\": all_players, \"Unique Item Counts\": len(unique_items), \"Average\": average_price_summary, \"Total Purchases\": total_purchases, \"Total Revenue\": total_revenue}, index=[0])\n",
    "print(summary_analysis_df)"
   ]
  },
  {
   "cell_type": "code",
   "execution_count": 1927,
   "metadata": {},
   "outputs": [],
   "source": [
    "#summary analysis table\n",
    "#summary_analysis_df\n",
    "#summary_dataframe_df = pd.DataFrame(summary_analysis_df, columns=['Total Number of Players', 'Unique Item Counts', 'Average Item Price', 'Total Purchases', 'Total Revenue'])\n",
    "#print(summary_dataframe_df)"
   ]
  },
  {
   "cell_type": "code",
   "execution_count": 1928,
   "metadata": {},
   "outputs": [
    {
     "output_type": "execute_result",
     "data": {
      "text/plain": [
       "Male                     484\n",
       "Female                    81\n",
       "Other / Non-Disclosed     11\n",
       "Name: Gender, dtype: int64"
      ]
     },
     "metadata": {},
     "execution_count": 1928
    }
   ],
   "source": [
    "no_duplicates = purchase_data_df.loc[:, [\"SN\", \"Gender\"]]\n",
    "no_duplicates = no_duplicates.drop_duplicates()\n",
    "#get a count and percentage of male players & female players & Other/Non-disclosed\n",
    "gendered_value_counts_df = no_duplicates['Gender'].value_counts()\n",
    "gendered_value_counts_df\n",
    "#display the table"
   ]
  },
  {
   "cell_type": "code",
   "execution_count": 1929,
   "metadata": {},
   "outputs": [
    {
     "output_type": "execute_result",
     "data": {
      "text/plain": [
       "                       Player Count Percentage\n",
       "Male                            484     84.03%\n",
       "Female                           81     14.06%\n",
       "Other / Non-Disclosed            11      1.91%"
      ],
      "text/html": "<div>\n<style scoped>\n    .dataframe tbody tr th:only-of-type {\n        vertical-align: middle;\n    }\n\n    .dataframe tbody tr th {\n        vertical-align: top;\n    }\n\n    .dataframe thead th {\n        text-align: right;\n    }\n</style>\n<table border=\"1\" class=\"dataframe\">\n  <thead>\n    <tr style=\"text-align: right;\">\n      <th></th>\n      <th>Player Count</th>\n      <th>Percentage</th>\n    </tr>\n  </thead>\n  <tbody>\n    <tr>\n      <th>Male</th>\n      <td>484</td>\n      <td>84.03%</td>\n    </tr>\n    <tr>\n      <th>Female</th>\n      <td>81</td>\n      <td>14.06%</td>\n    </tr>\n    <tr>\n      <th>Other / Non-Disclosed</th>\n      <td>11</td>\n      <td>1.91%</td>\n    </tr>\n  </tbody>\n</table>\n</div>"
     },
     "metadata": {},
     "execution_count": 1929
    }
   ],
   "source": [
    "#percentages per gender (FORMAT PERCENTAGE LATER)\n",
    "gender_percent = ((gendered_value_counts_df/all_players)*100).round(2) \n",
    "gender_percent\n",
    "gendered_analysis_df = pd.DataFrame({\"Player Count\": gendered_value_counts_df, \"Percentage\": gender_percent})\n",
    "gendered_analysis_df[\"Percentage\"] = gendered_analysis_df[\"Percentage\"].map(\"{:.2f}%\".format)\n",
    "gendered_analysis_df\n",
    "\n"
   ]
  },
  {
   "cell_type": "code",
   "execution_count": 1930,
   "metadata": {},
   "outputs": [
    {
     "output_type": "stream",
     "name": "stdout",
     "text": [
      "                       Price\nGender                      \nFemale                   113\nMale                     652\nOther / Non-Disclosed     15\n                       Price\nGender                      \nFemale                  3.20\nMale                    3.02\nOther / Non-Disclosed   3.35\n                         Price\nGender                        \nFemale                  361.94\nMale                   1967.64\nOther / Non-Disclosed    50.19\n"
     ]
    }
   ],
   "source": [
    "#create a purchase analysis by gender & save to gendered_purchase_analysis_df\n",
    "gendered_purchases = purchase_data_df.loc[:, [\"Gender\", \"Price\"]]\n",
    "gendered_purchases\n",
    "\n",
    "#purchase count\n",
    "purchases_by_gender = pd.DataFrame(gendered_purchases.groupby([\"Gender\"]).count())\n",
    "print(purchases_by_gender)\n",
    "\n",
    "#average purchase price\n",
    "average_purchases_by_gender = pd.DataFrame(gendered_purchases.groupby([\"Gender\"]).mean().round(2))\n",
    "print(average_purchases_by_gender)\n",
    "\n",
    "#total purchase value\n",
    "total_value_by_gender = pd.DataFrame(gendered_purchases.groupby([\"Gender\"]).sum())\n",
    "print(total_value_by_gender)\n",
    "\n",
    "\n"
   ]
  },
  {
   "cell_type": "code",
   "execution_count": 1931,
   "metadata": {},
   "outputs": [
    {
     "output_type": "stream",
     "name": "stdout",
     "text": [
      "                       Average Total Purchase\nFemale                                   4.47\nMale                                     4.07\nOther / Non-Disclosed                    4.56\n"
     ]
    }
   ],
   "source": [
    "#average total purchase per person (by gender values)\n",
    "average_total_purchase = (total_value_by_gender[\"Price\"] / gendered_analysis_df[\"Player Count\"]).round(2)\n",
    "average_total_purchase = pd.DataFrame({\"Average Total Purchase\":average_total_purchase})\n",
    "print(average_total_purchase)"
   ]
  },
  {
   "cell_type": "code",
   "execution_count": 1932,
   "metadata": {},
   "outputs": [
    {
     "output_type": "execute_result",
     "data": {
      "text/plain": [
       "                       Purchases  Average Purchases\n",
       "Gender                                             \n",
       "Female                       113               3.20\n",
       "Male                         652               3.02\n",
       "Other / Non-Disclosed         15               3.35"
      ],
      "text/html": "<div>\n<style scoped>\n    .dataframe tbody tr th:only-of-type {\n        vertical-align: middle;\n    }\n\n    .dataframe tbody tr th {\n        vertical-align: top;\n    }\n\n    .dataframe thead th {\n        text-align: right;\n    }\n</style>\n<table border=\"1\" class=\"dataframe\">\n  <thead>\n    <tr style=\"text-align: right;\">\n      <th></th>\n      <th>Purchases</th>\n      <th>Average Purchases</th>\n    </tr>\n    <tr>\n      <th>Gender</th>\n      <th></th>\n      <th></th>\n    </tr>\n  </thead>\n  <tbody>\n    <tr>\n      <th>Female</th>\n      <td>113</td>\n      <td>3.20</td>\n    </tr>\n    <tr>\n      <th>Male</th>\n      <td>652</td>\n      <td>3.02</td>\n    </tr>\n    <tr>\n      <th>Other / Non-Disclosed</th>\n      <td>15</td>\n      <td>3.35</td>\n    </tr>\n  </tbody>\n</table>\n</div>"
     },
     "metadata": {},
     "execution_count": 1932
    }
   ],
   "source": [
    "#create df and print results\n",
    "gender_summary_df = pd.merge(purchases_by_gender, average_purchases_by_gender, on=\"Gender\")\n",
    "gender_summary_df = gender_summary_df.rename(columns={\"Price_x\":\"Purchases\", \"Price_y\":\"Average Purchases\"})\n",
    "gender_summary_df"
   ]
  },
  {
   "cell_type": "code",
   "execution_count": 1933,
   "metadata": {},
   "outputs": [
    {
     "output_type": "execute_result",
     "data": {
      "text/plain": [
       "                       Purchases  Average Purchases  Total Revenue\n",
       "Gender                                                            \n",
       "Female                       113               3.20         361.94\n",
       "Male                         652               3.02        1967.64\n",
       "Other / Non-Disclosed         15               3.35          50.19"
      ],
      "text/html": "<div>\n<style scoped>\n    .dataframe tbody tr th:only-of-type {\n        vertical-align: middle;\n    }\n\n    .dataframe tbody tr th {\n        vertical-align: top;\n    }\n\n    .dataframe thead th {\n        text-align: right;\n    }\n</style>\n<table border=\"1\" class=\"dataframe\">\n  <thead>\n    <tr style=\"text-align: right;\">\n      <th></th>\n      <th>Purchases</th>\n      <th>Average Purchases</th>\n      <th>Total Revenue</th>\n    </tr>\n    <tr>\n      <th>Gender</th>\n      <th></th>\n      <th></th>\n      <th></th>\n    </tr>\n  </thead>\n  <tbody>\n    <tr>\n      <th>Female</th>\n      <td>113</td>\n      <td>3.20</td>\n      <td>361.94</td>\n    </tr>\n    <tr>\n      <th>Male</th>\n      <td>652</td>\n      <td>3.02</td>\n      <td>1967.64</td>\n    </tr>\n    <tr>\n      <th>Other / Non-Disclosed</th>\n      <td>15</td>\n      <td>3.35</td>\n      <td>50.19</td>\n    </tr>\n  </tbody>\n</table>\n</div>"
     },
     "metadata": {},
     "execution_count": 1933
    }
   ],
   "source": [
    "gender_summary_df = pd.merge(gender_summary_df, total_value_by_gender, on=\"Gender\")\n",
    "gender_summary_df = gender_summary_df.rename(columns={\"Price\":\"Total Revenue\"})\n",
    "gender_summary_df\n"
   ]
  },
  {
   "cell_type": "code",
   "execution_count": 1934,
   "metadata": {},
   "outputs": [
    {
     "output_type": "execute_result",
     "data": {
      "text/plain": [
       "                       Purchases  Average Purchases  Total Revenue  \\\n",
       "Gender                                                               \n",
       "Female                       113               3.20         361.94   \n",
       "Male                         652               3.02        1967.64   \n",
       "Other / Non-Disclosed         15               3.35          50.19   \n",
       "\n",
       "                       Average Total Purchase  \n",
       "Gender                                         \n",
       "Female                                   4.47  \n",
       "Male                                     4.07  \n",
       "Other / Non-Disclosed                    4.56  "
      ],
      "text/html": "<div>\n<style scoped>\n    .dataframe tbody tr th:only-of-type {\n        vertical-align: middle;\n    }\n\n    .dataframe tbody tr th {\n        vertical-align: top;\n    }\n\n    .dataframe thead th {\n        text-align: right;\n    }\n</style>\n<table border=\"1\" class=\"dataframe\">\n  <thead>\n    <tr style=\"text-align: right;\">\n      <th></th>\n      <th>Purchases</th>\n      <th>Average Purchases</th>\n      <th>Total Revenue</th>\n      <th>Average Total Purchase</th>\n    </tr>\n    <tr>\n      <th>Gender</th>\n      <th></th>\n      <th></th>\n      <th></th>\n      <th></th>\n    </tr>\n  </thead>\n  <tbody>\n    <tr>\n      <th>Female</th>\n      <td>113</td>\n      <td>3.20</td>\n      <td>361.94</td>\n      <td>4.47</td>\n    </tr>\n    <tr>\n      <th>Male</th>\n      <td>652</td>\n      <td>3.02</td>\n      <td>1967.64</td>\n      <td>4.07</td>\n    </tr>\n    <tr>\n      <th>Other / Non-Disclosed</th>\n      <td>15</td>\n      <td>3.35</td>\n      <td>50.19</td>\n      <td>4.56</td>\n    </tr>\n  </tbody>\n</table>\n</div>"
     },
     "metadata": {},
     "execution_count": 1934
    }
   ],
   "source": [
    "gender_summary_df = pd.concat([gender_summary_df, average_total_purchase], axis=1)\n",
    "gender_summary_df"
   ]
  },
  {
   "cell_type": "code",
   "execution_count": 1935,
   "metadata": {},
   "outputs": [
    {
     "output_type": "stream",
     "name": "stdout",
     "text": [
      "45\n"
     ]
    }
   ],
   "source": [
    "#Find out the oldest player, in order to establish bin range\n",
    "column = purchase_data_df[\"Age\"]\n",
    "max_value = column.max()\n",
    "print(max_value)\n"
   ]
  },
  {
   "cell_type": "code",
   "execution_count": 1936,
   "metadata": {},
   "outputs": [
    {
     "output_type": "execute_result",
     "data": {
      "text/plain": [
       "   Purchase ID             SN  Age Gender  Item ID  \\\n",
       "0            0        Lisim78   20   Male      108   \n",
       "1            1    Lisovynya38   40   Male      143   \n",
       "2            2     Ithergue48   24   Male       92   \n",
       "3            3  Chamassasya86   24   Male      100   \n",
       "4            4      Iskosia90   23   Male      131   \n",
       "\n",
       "                                   Item Name  Price        Age Group  \n",
       "0  Extraction, Quickblade Of Trembling Hands   3.53  15-19 years old  \n",
       "1                          Frenzied Scimitar   1.56    40+ years old  \n",
       "2                               Final Critic   4.88  20-24 years old  \n",
       "3                                Blindscythe   3.27  20-24 years old  \n",
       "4                                       Fury   1.44  20-24 years old  "
      ],
      "text/html": "<div>\n<style scoped>\n    .dataframe tbody tr th:only-of-type {\n        vertical-align: middle;\n    }\n\n    .dataframe tbody tr th {\n        vertical-align: top;\n    }\n\n    .dataframe thead th {\n        text-align: right;\n    }\n</style>\n<table border=\"1\" class=\"dataframe\">\n  <thead>\n    <tr style=\"text-align: right;\">\n      <th></th>\n      <th>Purchase ID</th>\n      <th>SN</th>\n      <th>Age</th>\n      <th>Gender</th>\n      <th>Item ID</th>\n      <th>Item Name</th>\n      <th>Price</th>\n      <th>Age Group</th>\n    </tr>\n  </thead>\n  <tbody>\n    <tr>\n      <th>0</th>\n      <td>0</td>\n      <td>Lisim78</td>\n      <td>20</td>\n      <td>Male</td>\n      <td>108</td>\n      <td>Extraction, Quickblade Of Trembling Hands</td>\n      <td>3.53</td>\n      <td>15-19 years old</td>\n    </tr>\n    <tr>\n      <th>1</th>\n      <td>1</td>\n      <td>Lisovynya38</td>\n      <td>40</td>\n      <td>Male</td>\n      <td>143</td>\n      <td>Frenzied Scimitar</td>\n      <td>1.56</td>\n      <td>40+ years old</td>\n    </tr>\n    <tr>\n      <th>2</th>\n      <td>2</td>\n      <td>Ithergue48</td>\n      <td>24</td>\n      <td>Male</td>\n      <td>92</td>\n      <td>Final Critic</td>\n      <td>4.88</td>\n      <td>20-24 years old</td>\n    </tr>\n    <tr>\n      <th>3</th>\n      <td>3</td>\n      <td>Chamassasya86</td>\n      <td>24</td>\n      <td>Male</td>\n      <td>100</td>\n      <td>Blindscythe</td>\n      <td>3.27</td>\n      <td>20-24 years old</td>\n    </tr>\n    <tr>\n      <th>4</th>\n      <td>4</td>\n      <td>Iskosia90</td>\n      <td>23</td>\n      <td>Male</td>\n      <td>131</td>\n      <td>Fury</td>\n      <td>1.44</td>\n      <td>20-24 years old</td>\n    </tr>\n  </tbody>\n</table>\n</div>"
     },
     "metadata": {},
     "execution_count": 1936
    }
   ],
   "source": [
    "#age demographics\n",
    "#establish bins for age group (<10, 10-14, 15-19, 20-24, 25-29, 30-34, 35-39, 40+)\n",
    "bins = [0, 10, 15, 20, 25, 30, 35, 39, 46]\n",
    "group_names = [\">10 years old\", \"10-14 years old\", \"15-19 years old\", \"20-24 years old\", \"25-29 years old\", \"30-34 years old\", \"35-39 years old\", \"40+ years old\"]\n",
    "#categorize existing players into age bins ---> pd.cut()\n",
    "purchase_data_df[\"Age Group\"] = pd.cut(purchase_data_df[\"Age\"], bins, labels=group_names, include_lowest=True)\n",
    "purchase_data_df.head()\n",
    "#summarize results in a age_demo_df"
   ]
  },
  {
   "cell_type": "code",
   "execution_count": 1937,
   "metadata": {},
   "outputs": [
    {
     "output_type": "execute_result",
     "data": {
      "text/plain": [
       "                 Total Players in Age Group\n",
       "Age Group                                  \n",
       ">10 years old                            24\n",
       "10-14 years old                          41\n",
       "15-19 years old                         150\n",
       "20-24 years old                         232\n",
       "25-29 years old                          59\n",
       "30-34 years old                          37\n",
       "35-39 years old                          21\n",
       "40+ years old                            12"
      ],
      "text/html": "<div>\n<style scoped>\n    .dataframe tbody tr th:only-of-type {\n        vertical-align: middle;\n    }\n\n    .dataframe tbody tr th {\n        vertical-align: top;\n    }\n\n    .dataframe thead th {\n        text-align: right;\n    }\n</style>\n<table border=\"1\" class=\"dataframe\">\n  <thead>\n    <tr style=\"text-align: right;\">\n      <th></th>\n      <th>Total Players in Age Group</th>\n    </tr>\n    <tr>\n      <th>Age Group</th>\n      <th></th>\n    </tr>\n  </thead>\n  <tbody>\n    <tr>\n      <th>&gt;10 years old</th>\n      <td>24</td>\n    </tr>\n    <tr>\n      <th>10-14 years old</th>\n      <td>41</td>\n    </tr>\n    <tr>\n      <th>15-19 years old</th>\n      <td>150</td>\n    </tr>\n    <tr>\n      <th>20-24 years old</th>\n      <td>232</td>\n    </tr>\n    <tr>\n      <th>25-29 years old</th>\n      <td>59</td>\n    </tr>\n    <tr>\n      <th>30-34 years old</th>\n      <td>37</td>\n    </tr>\n    <tr>\n      <th>35-39 years old</th>\n      <td>21</td>\n    </tr>\n    <tr>\n      <th>40+ years old</th>\n      <td>12</td>\n    </tr>\n  </tbody>\n</table>\n</div>"
     },
     "metadata": {},
     "execution_count": 1937
    }
   ],
   "source": [
    "no_duplicates = purchase_data_df.loc[:, [\"SN\", \"Age Group\"]]\n",
    "no_duplicates = no_duplicates.drop_duplicates()\n",
    "#get a count and percentage of male players & female players & Other/Non-disclosed\n",
    "age_group_df = pd.DataFrame(no_duplicates.groupby([\"Age Group\"]).count())\n",
    "age_group_df = age_group_df.rename(columns= {\"SN\":\"Total Players in Age Group\"})\n",
    "age_group_df\n",
    "#display the table"
   ]
  },
  {
   "cell_type": "code",
   "execution_count": 1938,
   "metadata": {},
   "outputs": [
    {
     "output_type": "stream",
     "name": "stdout",
     "text": [
      "                 Total Purchases\nAge Group                       \n>10 years old                 32\n10-14 years old               54\n15-19 years old              200\n20-24 years old              325\n25-29 years old               77\n30-34 years old               52\n35-39 years old               27\n40+ years old                 13\n"
     ]
    }
   ],
   "source": [
    "#create another purchase analysis by age\n",
    "#calculate purchase count\n",
    "purchases_by_age_group = purchase_data_df.loc[:, [\"Age Group\", \"Price\"]]\n",
    "purchases_by_age_group = pd.DataFrame(purchases_by_age_group.groupby([\"Age Group\"]).count())\n",
    "purchases_by_age_group = purchases_by_age_group.rename(columns= {\"Price\":\"Total Purchases\"})\n",
    "print(purchases_by_age_group)\n",
    "\n"
   ]
  },
  {
   "cell_type": "code",
   "execution_count": 1939,
   "metadata": {},
   "outputs": [
    {
     "output_type": "stream",
     "name": "stdout",
     "text": [
      "                 Price\nAge Group             \n>10 years old     3.40\n10-14 years old   2.90\n15-19 years old   3.11\n20-24 years old   3.02\n25-29 years old   2.88\n30-34 years old   2.99\n35-39 years old   3.54\n40+ years old     2.94\n"
     ]
    }
   ],
   "source": [
    "#calculate av purchase price \n",
    "average_purchase_by_age = purchase_data_df.loc[:, [\"Age Group\", \"Price\"]]\n",
    "average_purchase_by_age = pd.DataFrame(average_purchase_by_age.groupby([\"Age Group\"]).mean().round(2))\n",
    "print(average_purchase_by_age)\n"
   ]
  },
  {
   "cell_type": "code",
   "execution_count": 1940,
   "metadata": {},
   "outputs": [
    {
     "output_type": "stream",
     "name": "stdout",
     "text": [
      "                  Price\nAge Group              \n>10 years old    108.96\n10-14 years old  156.60\n15-19 years old  621.56\n20-24 years old  981.64\n25-29 years old  221.42\n30-34 years old  155.71\n35-39 years old   95.64\n40+ years old     38.24\n"
     ]
    }
   ],
   "source": [
    "\n",
    "#calculate total purchase value \n",
    "total_purchased_by_age = purchase_data_df.loc[:, [\"Age Group\", \"Price\"]]\n",
    "total_purchased_by_age = pd.DataFrame(total_purchased_by_age.groupby([\"Age Group\"]).sum())\n",
    "print(total_purchased_by_age)\n"
   ]
  },
  {
   "cell_type": "code",
   "execution_count": 1941,
   "metadata": {},
   "outputs": [
    {
     "output_type": "stream",
     "name": "stdout",
     "text": [
      "                 Average Purchase per Player per Group\nAge Group                                             \n>10 years old                                     3.40\n10-14 years old                                   2.90\n15-19 years old                                   3.11\n20-24 years old                                   3.02\n25-29 years old                                   2.88\n30-34 years old                                   2.99\n35-39 years old                                   3.54\n40+ years old                                     2.94\n"
     ]
    }
   ],
   "source": [
    "\n",
    "# calculate av total purchase per person\n",
    "average_total_purchase_by_age = (total_purchased_by_age[\"Price\"] / age_group_df[\"Total Players in Age Group\"])\n",
    "average_total_purchase_by_age = average_purchase_by_age.rename(columns={\"Price\":\"Average Purchase per Player per Group\"})\n",
    "print(average_total_purchase_by_age)\n"
   ]
  },
  {
   "cell_type": "code",
   "execution_count": 1942,
   "metadata": {},
   "outputs": [
    {
     "output_type": "stream",
     "name": "stdout",
     "text": [
      "                 Total Players in Age Group  Total Purchases\nAge Group                                                   \n>10 years old                            24               32\n10-14 years old                          41               54\n15-19 years old                         150              200\n20-24 years old                         232              325\n25-29 years old                          59               77\n30-34 years old                          37               52\n35-39 years old                          21               27\n40+ years old                            12               13\n"
     ]
    }
   ],
   "source": [
    "#merge data\n",
    "age_summary_df = pd.merge(age_group_df, purchases_by_age_group, on=\"Age Group\")\n",
    "print(age_summary_df)"
   ]
  },
  {
   "cell_type": "code",
   "execution_count": 1943,
   "metadata": {},
   "outputs": [
    {
     "output_type": "stream",
     "name": "stdout",
     "text": [
      "                 Total Players in Age Group  Total Purchases  \\\nAge Group                                                      \n>10 years old                            24               32   \n10-14 years old                          41               54   \n15-19 years old                         150              200   \n20-24 years old                         232              325   \n25-29 years old                          59               77   \n30-34 years old                          37               52   \n35-39 years old                          21               27   \n40+ years old                            12               13   \n\n                 Average Purchase Price  \nAge Group                                \n>10 years old                      3.40  \n10-14 years old                    2.90  \n15-19 years old                    3.11  \n20-24 years old                    3.02  \n25-29 years old                    2.88  \n30-34 years old                    2.99  \n35-39 years old                    3.54  \n40+ years old                      2.94  \n"
     ]
    }
   ],
   "source": [
    "#merge data pt 2\n",
    "age_summary_df = pd.merge(age_summary_df, average_purchase_by_age, on=\"Age Group\")\n",
    "age_summary_df = age_summary_df.rename(columns= {\"Price\":\"Average Purchase Price\"})\n",
    "print(age_summary_df)"
   ]
  },
  {
   "cell_type": "code",
   "execution_count": 1944,
   "metadata": {},
   "outputs": [
    {
     "output_type": "stream",
     "name": "stdout",
     "text": [
      "                 Total Players in Age Group  Total Purchases  \\\nAge Group                                                      \n>10 years old                            24               32   \n10-14 years old                          41               54   \n15-19 years old                         150              200   \n20-24 years old                         232              325   \n25-29 years old                          59               77   \n30-34 years old                          37               52   \n35-39 years old                          21               27   \n40+ years old                            12               13   \n\n                 Average Purchase Price  Total Purchase Value  \nAge Group                                                      \n>10 years old                      3.40                108.96  \n10-14 years old                    2.90                156.60  \n15-19 years old                    3.11                621.56  \n20-24 years old                    3.02                981.64  \n25-29 years old                    2.88                221.42  \n30-34 years old                    2.99                155.71  \n35-39 years old                    3.54                 95.64  \n40+ years old                      2.94                 38.24  \n"
     ]
    }
   ],
   "source": [
    "#merge data pt 3\n",
    "age_summary_df = pd.merge(age_summary_df, total_purchased_by_age, on=\"Age Group\")\n",
    "age_summary_df = age_summary_df.rename(columns= {\"Price\":\"Total Purchase Value\"})\n",
    "print(age_summary_df)"
   ]
  },
  {
   "cell_type": "code",
   "execution_count": 1945,
   "metadata": {},
   "outputs": [
    {
     "output_type": "stream",
     "name": "stdout",
     "text": [
      "                 Total Players in Age Group  Total Purchases  \\\nAge Group                                                      \n>10 years old                            24               32   \n10-14 years old                          41               54   \n15-19 years old                         150              200   \n20-24 years old                         232              325   \n25-29 years old                          59               77   \n30-34 years old                          37               52   \n35-39 years old                          21               27   \n40+ years old                            12               13   \n\n                 Average Purchase Price  Total Purchase Value  \\\nAge Group                                                       \n>10 years old                      3.40                108.96   \n10-14 years old                    2.90                156.60   \n15-19 years old                    3.11                621.56   \n20-24 years old                    3.02                981.64   \n25-29 years old                    2.88                221.42   \n30-34 years old                    2.99                155.71   \n35-39 years old                    3.54                 95.64   \n40+ years old                      2.94                 38.24   \n\n                 Average Purchase per Player per Group  \nAge Group                                               \n>10 years old                                     3.40  \n10-14 years old                                   2.90  \n15-19 years old                                   3.11  \n20-24 years old                                   3.02  \n25-29 years old                                   2.88  \n30-34 years old                                   2.99  \n35-39 years old                                   3.54  \n40+ years old                                     2.94  \n"
     ]
    }
   ],
   "source": [
    "#merge data pt 4\n",
    "age_summary_df = pd.concat([age_summary_df, average_total_purchase_by_age], axis=1)\n",
    "print(age_summary_df)"
   ]
  },
  {
   "cell_type": "code",
   "execution_count": 1946,
   "metadata": {},
   "outputs": [],
   "source": [
    "#create a df of top_spenders_df and run analysis on purchase count, av purchase price, total purchase value, along with their screen name\n",
    "#print(top_spenders_df.head())"
   ]
  },
  {
   "cell_type": "code",
   "execution_count": 1947,
   "metadata": {},
   "outputs": [],
   "source": [
    "#most popular items df\n",
    "#get item ID, item name, and item price columns\n",
    "#groupby item ID and item name\n",
    "#create df and sort count column in descending order\n",
    "#optional: clean up formatting\n",
    "#print(popular_items_df.head())"
   ]
  },
  {
   "cell_type": "code",
   "execution_count": 1948,
   "metadata": {},
   "outputs": [],
   "source": [
    "#most profitable items df\n",
    "#sort most pop items df by total purchase value in descending order\n",
    "#display a preview of the data .head()"
   ]
  }
 ]
}